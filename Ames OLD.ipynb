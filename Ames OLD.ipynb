{
 "cells": [
  {
   "cell_type": "markdown",
   "id": "d3f6f2e1-b5ee-4978-9a2a-9c6f69a218a3",
   "metadata": {},
   "source": [
    "Problem Statement: Make sure to state the metric we're using to evaluate fit!  In our case, it's RMSE."
   ]
  },
  {
   "cell_type": "markdown",
   "id": "982a7b44-a663-4003-852a-6b48a99b3733",
   "metadata": {},
   "source": [
    "# Imports"
   ]
  },
  {
   "cell_type": "code",
   "execution_count": 1,
   "id": "1980ac1b-1612-4972-8b47-8b6a0fb6a4b3",
   "metadata": {},
   "outputs": [],
   "source": [
    "# Import packages\n",
    "import numpy as np\n",
    "import pandas as pd\n",
    "import matplotlib.pyplot as plt\n",
    "\n",
    "from sklearn.linear_model import LinearRegression\n",
    "from sklearn import metrics"
   ]
  },
  {
   "cell_type": "code",
   "execution_count": null,
   "id": "7da07180-af13-4e62-8cf2-a941b7604544",
   "metadata": {},
   "outputs": [],
   "source": []
  },
  {
   "cell_type": "markdown",
   "id": "bb782ec1-5a2c-4fa2-b2e9-e373e6919396",
   "metadata": {},
   "source": [
    "# Data Cleaning Functions"
   ]
  },
  {
   "cell_type": "markdown",
   "id": "aeabd412-8379-4947-8278-f32be4ea83fe",
   "metadata": {},
   "source": [
    "Many of the variables in this dataset contain large numbers of missing values.  For example, according to the [data dictionary](http://jse.amstat.org/v19n3/decock/DataDocumentation.txt) `Alley` is supposed to take on 3 values: 'Grvl', 'Pave', and 'NA.'  However, the vast majority of observations are have missing values in this column.  But: we see that among all observations in the data set, *only the values 'Grvl' and 'Pave' appear in the column `Alley`*!  This implies that what the data dictionary indicates as \"NA\" means \"We left this value blank.\"\n",
    "\n",
    "So to eliminate missing data problems, we'll want to automatically fill in with \"DNE\" (Does Not Exist) any missing values that have this property.  That is, if a categorical variable is listed in the data dictionary as being able to take on the value \"NA\" and furthermore has missing values, then we'll check whether that variable has achieved the full number of categories it's supposed to (according to the data dictionary).  If not, then we'll automatically fill its missing values with \"DNE\"."
   ]
  },
  {
   "cell_type": "code",
   "execution_count": 63,
   "id": "bfea83e6-ac5a-4b97-8daa-81d75e0997dc",
   "metadata": {},
   "outputs": [],
   "source": [
    "#Create a dictionary listing how many distinct values each of the categorical variables\n",
    "#is supposed to be able to take on.  If fewer than this many are achieved, then that's\n",
    "#a sign that this variable's \"missing values\" are just instances of \"NA\".\n",
    "categorical_nums = {'Alley': 3, 'Mas Vnr Type': 5, 'Bsmt Qual': 6, 'Bsmt Cond': 6, 'Bsmt Exposure': 5,\n",
    "                'BsmtFin Type 1': 7, 'BsmtFin Type 2': 7, 'Fireplace Qu': 6, 'Garage Type': 7,\n",
    "                'Garage Finish': 4, 'Garage Qual': 6, 'Garage Cond': 6, 'Pool QC': 5, 'Fence': 5,\n",
    "                'Misc Feature': 6,\n",
    "                'Garage Yr Blt': np.Inf,\n",
    "                }\n",
    "#Some homes may not have a garage, so its \"year built\" may be missing for this reason, even though\n",
    "#this variable is numeric (not categorical).  But we want to fill these with \"NA\" rather than 0\n",
    "\n",
    "categorical_names = categorical_nums.keys()"
   ]
  },
  {
   "cell_type": "code",
   "execution_count": 64,
   "id": "6eb5b686-efa5-40f1-aba3-e84c37f412ce",
   "metadata": {},
   "outputs": [],
   "source": [
    "#Also, we'll want to create a list of those numeric variable names that are likely to be ones\n",
    "#where a missing value would be equivalent to a \"zero.\"  For example, \"Lot Frontage\" being\n",
    "#missing probably means that there are just 0 feet of street connected to the property.\n",
    "numeric_names = ['Lot Frontage', 'Lot Area', 'Mas Vnr Area', 'BsmtFin SF 1', 'BsmtFin SF 2',\n",
    "                 'Bsmt Unf SF', 'Total Bsmt SF', '1st Flr SF', '2nd Flr SF', 'Low Qual Fin SF',\n",
    "                 'Gr Liv Area', 'Bsmt Full Bath', 'Bsmt Half Bath', 'Full Bath', 'Half Bath',\n",
    "                 'Bedroom AbvGr', 'Kitchen AbvGr', 'TotRms AbvGrd', 'Fireplaces', 'Garage Cars',\n",
    "                 'Garage Area', 'Wood Deck SF', 'Open Porch SF', 'Enclosed Porch', '3Ssn Porch',\n",
    "                 'Screen Porch', 'Pool Area', 'Misc Val', 'SalePrice']"
   ]
  },
  {
   "cell_type": "markdown",
   "id": "80b31aa1-46a5-455b-9c0b-0632105d56f2",
   "metadata": {},
   "source": [
    "# Data Import"
   ]
  },
  {
   "cell_type": "code",
   "execution_count": 4,
   "id": "bb50d27d-3ebb-4bad-9d7c-4e48b5bb329b",
   "metadata": {},
   "outputs": [],
   "source": [
    "#Import data\n",
    "df = pd.read_csv('./datasets/train.csv')"
   ]
  },
  {
   "cell_type": "markdown",
   "id": "1a093cc4-f6dc-47c8-9a0f-aadc913dae0e",
   "metadata": {},
   "source": [
    "# Checking Missing Values"
   ]
  },
  {
   "cell_type": "code",
   "execution_count": 5,
   "id": "cb4eb537-d02a-4b4c-b61d-9baf78833308",
   "metadata": {},
   "outputs": [
    {
     "name": "stdout",
     "output_type": "stream",
     "text": [
      "330 missing values from variable Lot Frontage\n",
      "1911 missing values from variable Alley\n",
      "22 missing values from variable Mas Vnr Type\n",
      "22 missing values from variable Mas Vnr Area\n",
      "55 missing values from variable Bsmt Qual\n",
      "55 missing values from variable Bsmt Cond\n",
      "58 missing values from variable Bsmt Exposure\n",
      "55 missing values from variable BsmtFin Type 1\n",
      "1 missing values from variable BsmtFin SF 1\n",
      "56 missing values from variable BsmtFin Type 2\n",
      "1 missing values from variable BsmtFin SF 2\n",
      "1 missing values from variable Bsmt Unf SF\n",
      "1 missing values from variable Total Bsmt SF\n",
      "2 missing values from variable Bsmt Full Bath\n",
      "2 missing values from variable Bsmt Half Bath\n",
      "1000 missing values from variable Fireplace Qu\n",
      "113 missing values from variable Garage Type\n",
      "114 missing values from variable Garage Yr Blt\n",
      "114 missing values from variable Garage Finish\n",
      "1 missing values from variable Garage Cars\n",
      "1 missing values from variable Garage Area\n",
      "114 missing values from variable Garage Qual\n",
      "114 missing values from variable Garage Cond\n",
      "2042 missing values from variable Pool QC\n",
      "1651 missing values from variable Fence\n",
      "1986 missing values from variable Misc Feature\n"
     ]
    }
   ],
   "source": [
    "#Look for missing values\n",
    "variables_with_missing = df.isnull().sum().index\n",
    "missing_nos = df.isnull().sum().values\n",
    "\n",
    "for i in range(len(variables_with_missing)):\n",
    "    if missing_nos[i] != 0:\n",
    "        print(f'{missing_nos[i]} missing values from variable {variables_with_missing[i]}')"
   ]
  },
  {
   "cell_type": "markdown",
   "id": "c67d147c-61c2-4353-a02c-523d36e2a67d",
   "metadata": {},
   "source": [
    "## General Approach to Missing Data\n",
    "Looking at the [data description](http://jse.amstat.org/v19n3/decock/DataDocumentation.txt), we see that some variables may be recorded as \"NA\" or \"None\" to mean *not* that the data set is missing an observation, but instead that a certain feature is missing.  For example, the variable \"Alley\" is supposed to take on 3 values: 'Grvl', 'Pave' and 'NA'.  But we see that all the non-missing values are 'Grvl' or 'Pave' (see cell below).  So this means that most likely these values were not *missing* but were recorded as empty if they met certain criteria.\n",
    "\n",
    "Our general approach to checking for missing values will be: for each variable, first check the data description for whether \"NA\" or \"None\" (etc.) could represent a category rather than a missing value.  If so, replace all instances of that missing value with the category name it's supposed to be.  If not, we'll deal with the missing entry as though it is actually missing.\n",
    "\n",
    "Secondly, looking at the list of missing values in the previous cell, we see that often times several variables relate to the same part of the house.  For example, there are many variables with the word `Bsmt` (basement) in them.  Many of these variables seem to be *missing exactly 55 entries, or just a few more than 55 entries*.  Looking at the data description, wherein we find that \"NA\" means \"No Basement\", it is plausible to think that all 55 of the missing values for each of the `Bsmt` variables come from the same 55 houses.  We'll verify that this is the case before replacing these variables' 55 missing values with the string `no_bsmt`.\n",
    "\n",
    "But what do we do with the `Bsmt` variables that are missing *more than 55 entries*?  For example, `Bsmt Exposure` is missing 58 values, not 55.  If we applied the same approach to this variable as we did to the other `Bsmt` variables that were missing exactly 55 entries, we would essentially be concluding that all 58 of these missing entries correspond to homes with no basements (and not to actual missing data).  But it is not plausible that *more than 55 of the houses in the data set had no basement*, since several of the `Bsmt` variables were missing *only 55 entries, and the same 55 in each of these variables*.  It therefore seems more likely that 55 of the 58 missing values in `Bsmt Exposure` are those same 55 homes that were elsewhere recorded to have no basement, while the other 3 missing values are actually missing.  So assuming that exactly 55 of the missing values for `Bsmt Exposure` match up to the same 55 houses from before, we'll replace only *these* missing values with the string `no_bsmt`, while leaving the other 3 values missing for now.\n",
    "\n",
    "Similar remarks apply to the many variables relating to the garage that are missing around 114 entries."
   ]
  },
  {
   "cell_type": "markdown",
   "id": "fabbb757-1de6-4496-9133-063e3db72d0e",
   "metadata": {},
   "source": [
    "## Basements\n",
    "We can see that 3 of the `Bsmt` variables are missing 55 values.  Let's check that these are all the same 55 rows in each case:"
   ]
  },
  {
   "cell_type": "code",
   "execution_count": 6,
   "id": "b9665f08-be99-432a-bff8-81d64f99df99",
   "metadata": {},
   "outputs": [
    {
     "data": {
      "text/plain": [
       "55"
      ]
     },
     "execution_count": 6,
     "metadata": {},
     "output_type": "execute_result"
    }
   ],
   "source": [
    "condition = df['Bsmt Qual'].isnull() | df['Bsmt Cond'].isnull() | df['BsmtFin Type 1'].isnull()\n",
    "#Look at those rows with ANY of these three variables missing\n",
    "\n",
    "len(df[condition])\n",
    "#This should equal 55 if all the homes missing one of these variables are missing the other two as well"
   ]
  },
  {
   "cell_type": "markdown",
   "id": "b629b071-f8af-4642-b8a5-afd4b9221e64",
   "metadata": {},
   "source": [
    "So these 3 variables' 55 missing entries all correspond to the same 55 homes.  Let's check if these same 55 are missing from `Bsmt Exposure` and `BsmtFin Type 2`:"
   ]
  },
  {
   "cell_type": "code",
   "execution_count": 7,
   "id": "e850ed1e-e071-46e1-8181-7f8761e9144f",
   "metadata": {},
   "outputs": [
    {
     "data": {
      "text/plain": [
       "55"
      ]
     },
     "execution_count": 7,
     "metadata": {},
     "output_type": "execute_result"
    }
   ],
   "source": [
    "#Bsmt Exposure\n",
    "condition1 = df['Bsmt Qual'].isnull() & df['Bsmt Exposure'].isnull() & df['BsmtFin Type 2'].isnull()\n",
    "#Look at those rows with ALL THREE of these variables missing\n",
    "\n",
    "len(df[condition1])\n",
    "#This should equal 55 if all 55 of those homes that are missing Bsmt Qual also have  missing values\n",
    "#in these other two variables"
   ]
  },
  {
   "cell_type": "markdown",
   "id": "9a98e79c-d2cf-454a-8ee4-657285c7c244",
   "metadata": {},
   "source": [
    "So the variables `Bsmt Exposure` and `BsmtFin Type 2` are missing the same 55 homes as those missing from `Bsmt Qual`, plus 3 more for `Bsmt Exposrue` and 1 more for `BsmtFin Type 2`.  Let's fill in the 55 for all of these 5 variables:"
   ]
  },
  {
   "cell_type": "code",
   "execution_count": 8,
   "id": "8b3af310-a3ae-4cde-b732-2924a8fb0edb",
   "metadata": {},
   "outputs": [
    {
     "data": {
      "text/plain": [
       "55"
      ]
     },
     "execution_count": 8,
     "metadata": {},
     "output_type": "execute_result"
    }
   ],
   "source": [
    "#Find the indices of the 55 houses with missing basements\n",
    "missing_bsmts = df[df['Bsmt Qual'].isnull()].index\n",
    "\n",
    "#Make sure there are 55 of them\n",
    "len(missing_bsmts)"
   ]
  },
  {
   "cell_type": "code",
   "execution_count": 9,
   "id": "682571b4-9cc6-49e5-9ddf-a87c5579179f",
   "metadata": {},
   "outputs": [
    {
     "data": {
      "text/plain": [
       "Int64Index([  12,   93,  114,  146,  183,  240,  249,  256,  390,  437,  485,\n",
       "             499,  514,  580,  581,  616,  635,  642,  696,  700,  737,  772,\n",
       "             790,  794,  924,  933,  954, 1007, 1022, 1049, 1089, 1098, 1125,\n",
       "            1157, 1211, 1222, 1252, 1256, 1270, 1327, 1331, 1377, 1387, 1428,\n",
       "            1481, 1594, 1620, 1681, 1684, 1686, 1859, 1875, 1889, 1933, 2010],\n",
       "           dtype='int64')"
      ]
     },
     "execution_count": 9,
     "metadata": {},
     "output_type": "execute_result"
    }
   ],
   "source": [
    "missing_bsmts"
   ]
  },
  {
   "cell_type": "code",
   "execution_count": 10,
   "id": "6faaf509-4d15-4336-a943-d7b1697ec3fe",
   "metadata": {},
   "outputs": [],
   "source": [
    "#Fill the missing values corresponding to these 55 homes, in all bsmt columns missing at least 55 values\n",
    "bsmts = ['Bsmt Qual', 'Bsmt Cond', 'BsmtFin Type 1', 'Bsmt Exposure', 'BsmtFin Type 2']\n",
    "\n",
    "for col in bsmts:\n",
    "    df.iloc[missing_bsmts, df.columns.get_loc(col)] = 'no_bsmt'"
   ]
  },
  {
   "cell_type": "code",
   "execution_count": 11,
   "id": "3230f77d-be23-42c3-9bea-0e37baa02163",
   "metadata": {},
   "outputs": [
    {
     "name": "stdout",
     "output_type": "stream",
     "text": [
      "Number of rows with missing Bsmt Qual value: 0\n",
      "Number of rows with missing Bsmt Cond value: 0\n",
      "Number of rows with missing BsmtFin Type 1 value: 0\n",
      "Number of rows with missing Bsmt Exposure value: 3\n",
      "Number of rows with missing BsmtFin Type 2 value: 1\n"
     ]
    }
   ],
   "source": [
    "for col in bsmts:\n",
    "    print(f\"Number of rows with missing {col} value: {len(df[df[col].isnull()])}\")"
   ]
  },
  {
   "cell_type": "code",
   "execution_count": 12,
   "id": "1bab6dfa-18e6-459b-ae4b-3cfb58e3c381",
   "metadata": {},
   "outputs": [
    {
     "data": {
      "text/plain": [
       "'no_bsmt'"
      ]
     },
     "execution_count": 12,
     "metadata": {},
     "output_type": "execute_result"
    }
   ],
   "source": [
    "#Check that a row had its missing value replaced correctly\n",
    "df['Bsmt Qual'][12]"
   ]
  },
  {
   "cell_type": "code",
   "execution_count": 13,
   "id": "6317d1f8-a08c-4afa-896c-3611b837169e",
   "metadata": {},
   "outputs": [
    {
     "data": {
      "text/plain": [
       "Int64Index([1456, 1547, 1997], dtype='int64')"
      ]
     },
     "execution_count": 13,
     "metadata": {},
     "output_type": "execute_result"
    }
   ],
   "source": [
    "df[df['Bsmt Exposure'].isnull()].index"
   ]
  },
  {
   "cell_type": "code",
   "execution_count": 14,
   "id": "7211e11e-f4b1-4992-9139-760ca255d5dd",
   "metadata": {},
   "outputs": [
    {
     "data": {
      "text/html": [
       "<div>\n",
       "<style scoped>\n",
       "    .dataframe tbody tr th:only-of-type {\n",
       "        vertical-align: middle;\n",
       "    }\n",
       "\n",
       "    .dataframe tbody tr th {\n",
       "        vertical-align: top;\n",
       "    }\n",
       "\n",
       "    .dataframe thead th {\n",
       "        text-align: right;\n",
       "    }\n",
       "</style>\n",
       "<table border=\"1\" class=\"dataframe\">\n",
       "  <thead>\n",
       "    <tr style=\"text-align: right;\">\n",
       "      <th></th>\n",
       "      <th>Id</th>\n",
       "      <th>PID</th>\n",
       "      <th>MS SubClass</th>\n",
       "      <th>MS Zoning</th>\n",
       "      <th>Lot Frontage</th>\n",
       "      <th>Lot Area</th>\n",
       "      <th>Street</th>\n",
       "      <th>Alley</th>\n",
       "      <th>Lot Shape</th>\n",
       "      <th>Land Contour</th>\n",
       "      <th>...</th>\n",
       "      <th>Screen Porch</th>\n",
       "      <th>Pool Area</th>\n",
       "      <th>Pool QC</th>\n",
       "      <th>Fence</th>\n",
       "      <th>Misc Feature</th>\n",
       "      <th>Misc Val</th>\n",
       "      <th>Mo Sold</th>\n",
       "      <th>Yr Sold</th>\n",
       "      <th>Sale Type</th>\n",
       "      <th>SalePrice</th>\n",
       "    </tr>\n",
       "  </thead>\n",
       "  <tbody>\n",
       "    <tr>\n",
       "      <th>1456</th>\n",
       "      <td>1797</td>\n",
       "      <td>528458090</td>\n",
       "      <td>60</td>\n",
       "      <td>FV</td>\n",
       "      <td>81.0</td>\n",
       "      <td>10411</td>\n",
       "      <td>Pave</td>\n",
       "      <td>NaN</td>\n",
       "      <td>Reg</td>\n",
       "      <td>Lvl</td>\n",
       "      <td>...</td>\n",
       "      <td>0</td>\n",
       "      <td>0</td>\n",
       "      <td>NaN</td>\n",
       "      <td>NaN</td>\n",
       "      <td>NaN</td>\n",
       "      <td>0</td>\n",
       "      <td>7</td>\n",
       "      <td>2007</td>\n",
       "      <td>New</td>\n",
       "      <td>212109</td>\n",
       "    </tr>\n",
       "    <tr>\n",
       "      <th>1547</th>\n",
       "      <td>67</td>\n",
       "      <td>528445060</td>\n",
       "      <td>20</td>\n",
       "      <td>RL</td>\n",
       "      <td>73.0</td>\n",
       "      <td>8987</td>\n",
       "      <td>Pave</td>\n",
       "      <td>NaN</td>\n",
       "      <td>Reg</td>\n",
       "      <td>Lvl</td>\n",
       "      <td>...</td>\n",
       "      <td>0</td>\n",
       "      <td>0</td>\n",
       "      <td>NaN</td>\n",
       "      <td>NaN</td>\n",
       "      <td>NaN</td>\n",
       "      <td>0</td>\n",
       "      <td>5</td>\n",
       "      <td>2010</td>\n",
       "      <td>WD</td>\n",
       "      <td>221500</td>\n",
       "    </tr>\n",
       "    <tr>\n",
       "      <th>1997</th>\n",
       "      <td>2780</td>\n",
       "      <td>907194130</td>\n",
       "      <td>60</td>\n",
       "      <td>RL</td>\n",
       "      <td>65.0</td>\n",
       "      <td>14006</td>\n",
       "      <td>Pave</td>\n",
       "      <td>NaN</td>\n",
       "      <td>IR1</td>\n",
       "      <td>Lvl</td>\n",
       "      <td>...</td>\n",
       "      <td>0</td>\n",
       "      <td>0</td>\n",
       "      <td>NaN</td>\n",
       "      <td>NaN</td>\n",
       "      <td>NaN</td>\n",
       "      <td>0</td>\n",
       "      <td>2</td>\n",
       "      <td>2006</td>\n",
       "      <td>WD</td>\n",
       "      <td>192500</td>\n",
       "    </tr>\n",
       "  </tbody>\n",
       "</table>\n",
       "<p>3 rows × 81 columns</p>\n",
       "</div>"
      ],
      "text/plain": [
       "        Id        PID  MS SubClass MS Zoning  Lot Frontage  Lot Area Street  \\\n",
       "1456  1797  528458090           60        FV          81.0     10411   Pave   \n",
       "1547    67  528445060           20        RL          73.0      8987   Pave   \n",
       "1997  2780  907194130           60        RL          65.0     14006   Pave   \n",
       "\n",
       "     Alley Lot Shape Land Contour  ... Screen Porch Pool Area Pool QC Fence  \\\n",
       "1456   NaN       Reg          Lvl  ...            0         0     NaN   NaN   \n",
       "1547   NaN       Reg          Lvl  ...            0         0     NaN   NaN   \n",
       "1997   NaN       IR1          Lvl  ...            0         0     NaN   NaN   \n",
       "\n",
       "     Misc Feature Misc Val Mo Sold Yr Sold  Sale Type  SalePrice  \n",
       "1456          NaN        0       7    2007        New     212109  \n",
       "1547          NaN        0       5    2010        WD      221500  \n",
       "1997          NaN        0       2    2006        WD      192500  \n",
       "\n",
       "[3 rows x 81 columns]"
      ]
     },
     "execution_count": 14,
     "metadata": {},
     "output_type": "execute_result"
    }
   ],
   "source": [
    "#Which observations now have missing values?  Let's examine them and record their indices\n",
    "drops = df[df['Bsmt Exposure'].isnull()].index\n",
    "drop_indices = list(drops)\n",
    "df.iloc[ drops ]"
   ]
  },
  {
   "cell_type": "code",
   "execution_count": 15,
   "id": "49f7c0f3-2fcc-40db-a619-dd3eba81c34e",
   "metadata": {},
   "outputs": [
    {
     "data": {
      "text/html": [
       "<div>\n",
       "<style scoped>\n",
       "    .dataframe tbody tr th:only-of-type {\n",
       "        vertical-align: middle;\n",
       "    }\n",
       "\n",
       "    .dataframe tbody tr th {\n",
       "        vertical-align: top;\n",
       "    }\n",
       "\n",
       "    .dataframe thead th {\n",
       "        text-align: right;\n",
       "    }\n",
       "</style>\n",
       "<table border=\"1\" class=\"dataframe\">\n",
       "  <thead>\n",
       "    <tr style=\"text-align: right;\">\n",
       "      <th></th>\n",
       "      <th>Id</th>\n",
       "      <th>PID</th>\n",
       "      <th>MS SubClass</th>\n",
       "      <th>MS Zoning</th>\n",
       "      <th>Lot Frontage</th>\n",
       "      <th>Lot Area</th>\n",
       "      <th>Street</th>\n",
       "      <th>Alley</th>\n",
       "      <th>Lot Shape</th>\n",
       "      <th>Land Contour</th>\n",
       "      <th>...</th>\n",
       "      <th>Screen Porch</th>\n",
       "      <th>Pool Area</th>\n",
       "      <th>Pool QC</th>\n",
       "      <th>Fence</th>\n",
       "      <th>Misc Feature</th>\n",
       "      <th>Misc Val</th>\n",
       "      <th>Mo Sold</th>\n",
       "      <th>Yr Sold</th>\n",
       "      <th>Sale Type</th>\n",
       "      <th>SalePrice</th>\n",
       "    </tr>\n",
       "  </thead>\n",
       "  <tbody>\n",
       "    <tr>\n",
       "      <th>1147</th>\n",
       "      <td>445</td>\n",
       "      <td>528142130</td>\n",
       "      <td>20</td>\n",
       "      <td>RL</td>\n",
       "      <td>85.0</td>\n",
       "      <td>10655</td>\n",
       "      <td>Pave</td>\n",
       "      <td>NaN</td>\n",
       "      <td>IR1</td>\n",
       "      <td>Lvl</td>\n",
       "      <td>...</td>\n",
       "      <td>0</td>\n",
       "      <td>0</td>\n",
       "      <td>NaN</td>\n",
       "      <td>NaN</td>\n",
       "      <td>NaN</td>\n",
       "      <td>0</td>\n",
       "      <td>10</td>\n",
       "      <td>2009</td>\n",
       "      <td>WD</td>\n",
       "      <td>284000</td>\n",
       "    </tr>\n",
       "  </tbody>\n",
       "</table>\n",
       "<p>1 rows × 81 columns</p>\n",
       "</div>"
      ],
      "text/plain": [
       "       Id        PID  MS SubClass MS Zoning  Lot Frontage  Lot Area Street  \\\n",
       "1147  445  528142130           20        RL          85.0     10655   Pave   \n",
       "\n",
       "     Alley Lot Shape Land Contour  ... Screen Porch Pool Area Pool QC Fence  \\\n",
       "1147   NaN       IR1          Lvl  ...            0         0     NaN   NaN   \n",
       "\n",
       "     Misc Feature Misc Val Mo Sold Yr Sold  Sale Type  SalePrice  \n",
       "1147          NaN        0      10    2009        WD      284000  \n",
       "\n",
       "[1 rows x 81 columns]"
      ]
     },
     "execution_count": 15,
     "metadata": {},
     "output_type": "execute_result"
    }
   ],
   "source": [
    "drop = df[df['BsmtFin Type 2'].isnull()].index\n",
    "drop_indices.extend(list(drop))\n",
    "df.iloc[ drop ]"
   ]
  },
  {
   "cell_type": "code",
   "execution_count": 16,
   "id": "61b56c9e-8711-4ea5-a9b7-c41a85aff474",
   "metadata": {},
   "outputs": [
    {
     "data": {
      "text/plain": [
       "[1456, 1547, 1997, 1147]"
      ]
     },
     "execution_count": 16,
     "metadata": {},
     "output_type": "execute_result"
    }
   ],
   "source": [
    "#Check that we've recorded the right indices to drop later\n",
    "drop_indices"
   ]
  },
  {
   "cell_type": "markdown",
   "id": "4c12c45b-a574-4831-af47-0e8e30eea3fa",
   "metadata": {},
   "source": [
    "In summary: none of the 3 observations with missing `Bsmt Exposure` values are the same as the one missing its `BsmtFin Type 2` value.\n",
    "\n",
    "In any case, we'll want to drop these values later, so we'll keep track of their indices with `drop_indices`.\n",
    "\n",
    "Now let's move on to the other `Bsmt` variables that were missing some observations:"
   ]
  },
  {
   "cell_type": "code",
   "execution_count": 17,
   "id": "222cd554-0461-403e-86e8-e51415eef706",
   "metadata": {},
   "outputs": [
    {
     "name": "stdout",
     "output_type": "stream",
     "text": [
      "Number of rows with missing BsmtFin SF 1 value: 1\n",
      "Number of rows with missing BsmtFin SF 2 value: 1\n",
      "Number of rows with missing Bsmt Unf SF value: 1\n",
      "Number of rows with missing Total Bsmt SF value: 1\n"
     ]
    }
   ],
   "source": [
    "#Now examine other 'Bmst' varialbes that had missing values (each had 1)\n",
    "bsmts2 = ['BsmtFin SF 1', 'BsmtFin SF 2', 'Bsmt Unf SF', 'Total Bsmt SF']\n",
    "for col in bsmts2:\n",
    "    print(f\"Number of rows with missing {col} value: {len(df[df[col].isnull()])}\")"
   ]
  },
  {
   "cell_type": "code",
   "execution_count": 18,
   "id": "619e8d92-acb2-46c3-a2b6-7cbc54aa2f29",
   "metadata": {},
   "outputs": [
    {
     "data": {
      "text/html": [
       "<div>\n",
       "<style scoped>\n",
       "    .dataframe tbody tr th:only-of-type {\n",
       "        vertical-align: middle;\n",
       "    }\n",
       "\n",
       "    .dataframe tbody tr th {\n",
       "        vertical-align: top;\n",
       "    }\n",
       "\n",
       "    .dataframe thead th {\n",
       "        text-align: right;\n",
       "    }\n",
       "</style>\n",
       "<table border=\"1\" class=\"dataframe\">\n",
       "  <thead>\n",
       "    <tr style=\"text-align: right;\">\n",
       "      <th></th>\n",
       "      <th>Id</th>\n",
       "      <th>PID</th>\n",
       "      <th>MS SubClass</th>\n",
       "      <th>MS Zoning</th>\n",
       "      <th>Lot Frontage</th>\n",
       "      <th>Lot Area</th>\n",
       "      <th>Street</th>\n",
       "      <th>Alley</th>\n",
       "      <th>Lot Shape</th>\n",
       "      <th>Land Contour</th>\n",
       "      <th>...</th>\n",
       "      <th>Screen Porch</th>\n",
       "      <th>Pool Area</th>\n",
       "      <th>Pool QC</th>\n",
       "      <th>Fence</th>\n",
       "      <th>Misc Feature</th>\n",
       "      <th>Misc Val</th>\n",
       "      <th>Mo Sold</th>\n",
       "      <th>Yr Sold</th>\n",
       "      <th>Sale Type</th>\n",
       "      <th>SalePrice</th>\n",
       "    </tr>\n",
       "  </thead>\n",
       "  <tbody>\n",
       "    <tr>\n",
       "      <th>1327</th>\n",
       "      <td>1342</td>\n",
       "      <td>903230120</td>\n",
       "      <td>20</td>\n",
       "      <td>RM</td>\n",
       "      <td>99.0</td>\n",
       "      <td>5940</td>\n",
       "      <td>Pave</td>\n",
       "      <td>NaN</td>\n",
       "      <td>IR1</td>\n",
       "      <td>Lvl</td>\n",
       "      <td>...</td>\n",
       "      <td>0</td>\n",
       "      <td>0</td>\n",
       "      <td>NaN</td>\n",
       "      <td>MnPrv</td>\n",
       "      <td>NaN</td>\n",
       "      <td>0</td>\n",
       "      <td>4</td>\n",
       "      <td>2008</td>\n",
       "      <td>ConLD</td>\n",
       "      <td>79000</td>\n",
       "    </tr>\n",
       "  </tbody>\n",
       "</table>\n",
       "<p>1 rows × 81 columns</p>\n",
       "</div>"
      ],
      "text/plain": [
       "        Id        PID  MS SubClass MS Zoning  Lot Frontage  Lot Area Street  \\\n",
       "1327  1342  903230120           20        RM          99.0      5940   Pave   \n",
       "\n",
       "     Alley Lot Shape Land Contour  ... Screen Porch Pool Area Pool QC  Fence  \\\n",
       "1327   NaN       IR1          Lvl  ...            0         0     NaN  MnPrv   \n",
       "\n",
       "     Misc Feature Misc Val Mo Sold Yr Sold  Sale Type  SalePrice  \n",
       "1327          NaN        0       4    2008      ConLD      79000  \n",
       "\n",
       "[1 rows x 81 columns]"
      ]
     },
     "execution_count": 18,
     "metadata": {},
     "output_type": "execute_result"
    }
   ],
   "source": [
    "#Are these missing values all the same one?\n",
    "df[ df['BsmtFin SF 1'].isnull() & df['BsmtFin SF 2'].isnull() & df['Bsmt Unf SF'].isnull() & df['Total Bsmt SF'].isnull() ]"
   ]
  },
  {
   "cell_type": "code",
   "execution_count": 19,
   "id": "f76d76af-eea4-4e89-bb90-34ee90a6b985",
   "metadata": {},
   "outputs": [
    {
     "name": "stdout",
     "output_type": "stream",
     "text": [
      "Number of rows with missing Bsmt Full Bath value: 2\n",
      "Number of rows with missing Bsmt Half Bath value: 2\n"
     ]
    },
    {
     "data": {
      "text/html": [
       "<div>\n",
       "<style scoped>\n",
       "    .dataframe tbody tr th:only-of-type {\n",
       "        vertical-align: middle;\n",
       "    }\n",
       "\n",
       "    .dataframe tbody tr th {\n",
       "        vertical-align: top;\n",
       "    }\n",
       "\n",
       "    .dataframe thead th {\n",
       "        text-align: right;\n",
       "    }\n",
       "</style>\n",
       "<table border=\"1\" class=\"dataframe\">\n",
       "  <thead>\n",
       "    <tr style=\"text-align: right;\">\n",
       "      <th></th>\n",
       "      <th>Id</th>\n",
       "      <th>PID</th>\n",
       "      <th>MS SubClass</th>\n",
       "      <th>MS Zoning</th>\n",
       "      <th>Lot Frontage</th>\n",
       "      <th>Lot Area</th>\n",
       "      <th>Street</th>\n",
       "      <th>Alley</th>\n",
       "      <th>Lot Shape</th>\n",
       "      <th>Land Contour</th>\n",
       "      <th>...</th>\n",
       "      <th>Screen Porch</th>\n",
       "      <th>Pool Area</th>\n",
       "      <th>Pool QC</th>\n",
       "      <th>Fence</th>\n",
       "      <th>Misc Feature</th>\n",
       "      <th>Misc Val</th>\n",
       "      <th>Mo Sold</th>\n",
       "      <th>Yr Sold</th>\n",
       "      <th>Sale Type</th>\n",
       "      <th>SalePrice</th>\n",
       "    </tr>\n",
       "  </thead>\n",
       "  <tbody>\n",
       "    <tr>\n",
       "      <th>616</th>\n",
       "      <td>1498</td>\n",
       "      <td>908154080</td>\n",
       "      <td>20</td>\n",
       "      <td>RL</td>\n",
       "      <td>123.0</td>\n",
       "      <td>47007</td>\n",
       "      <td>Pave</td>\n",
       "      <td>NaN</td>\n",
       "      <td>IR1</td>\n",
       "      <td>Lvl</td>\n",
       "      <td>...</td>\n",
       "      <td>0</td>\n",
       "      <td>0</td>\n",
       "      <td>NaN</td>\n",
       "      <td>NaN</td>\n",
       "      <td>NaN</td>\n",
       "      <td>0</td>\n",
       "      <td>7</td>\n",
       "      <td>2008</td>\n",
       "      <td>WD</td>\n",
       "      <td>284700</td>\n",
       "    </tr>\n",
       "    <tr>\n",
       "      <th>1327</th>\n",
       "      <td>1342</td>\n",
       "      <td>903230120</td>\n",
       "      <td>20</td>\n",
       "      <td>RM</td>\n",
       "      <td>99.0</td>\n",
       "      <td>5940</td>\n",
       "      <td>Pave</td>\n",
       "      <td>NaN</td>\n",
       "      <td>IR1</td>\n",
       "      <td>Lvl</td>\n",
       "      <td>...</td>\n",
       "      <td>0</td>\n",
       "      <td>0</td>\n",
       "      <td>NaN</td>\n",
       "      <td>MnPrv</td>\n",
       "      <td>NaN</td>\n",
       "      <td>0</td>\n",
       "      <td>4</td>\n",
       "      <td>2008</td>\n",
       "      <td>ConLD</td>\n",
       "      <td>79000</td>\n",
       "    </tr>\n",
       "  </tbody>\n",
       "</table>\n",
       "<p>2 rows × 81 columns</p>\n",
       "</div>"
      ],
      "text/plain": [
       "        Id        PID  MS SubClass MS Zoning  Lot Frontage  Lot Area Street  \\\n",
       "616   1498  908154080           20        RL         123.0     47007   Pave   \n",
       "1327  1342  903230120           20        RM          99.0      5940   Pave   \n",
       "\n",
       "     Alley Lot Shape Land Contour  ... Screen Porch Pool Area Pool QC  Fence  \\\n",
       "616    NaN       IR1          Lvl  ...            0         0     NaN    NaN   \n",
       "1327   NaN       IR1          Lvl  ...            0         0     NaN  MnPrv   \n",
       "\n",
       "     Misc Feature Misc Val Mo Sold Yr Sold  Sale Type  SalePrice  \n",
       "616           NaN        0       7    2008        WD      284700  \n",
       "1327          NaN        0       4    2008      ConLD      79000  \n",
       "\n",
       "[2 rows x 81 columns]"
      ]
     },
     "execution_count": 19,
     "metadata": {},
     "output_type": "execute_result"
    }
   ],
   "source": [
    "#They are! How about these other cloumn names that were missing exactly 2 values?\n",
    "bsmts3 = ['Bsmt Full Bath', 'Bsmt Half Bath']\n",
    "for col in bsmts3:\n",
    "    print(f\"Number of rows with missing {col} value: {len(df[df[col].isnull()])}\")\n",
    "    \n",
    "df[ df['Bsmt Full Bath'].isnull() & df['Bsmt Half Bath'].isnull() ]"
   ]
  },
  {
   "cell_type": "markdown",
   "id": "5a7292da-faf4-4ce2-87c6-a2bbe3a2fb68",
   "metadata": {},
   "source": [
    "In summary: Observation number 1327 is missing all 6 of the values listed in `bsmts2` and `bsmts3`, while observation number 616 is only missing both of those values in `bsmts3`.\n",
    "\n",
    "Meanwhile, 4 other observations were missing their `Bsmt Exposure` or `BsmtFin Type 2` values; we already recorded their indices in our `drop_indices` list.\n",
    "\n",
    "I think we can safely drop these 6 observations, as our data set has over 2000 observations."
   ]
  },
  {
   "cell_type": "code",
   "execution_count": 20,
   "id": "444f9bdd-c930-4bf7-8d3f-8c14998d86fb",
   "metadata": {},
   "outputs": [
    {
     "data": {
      "text/plain": [
       "[1456, 1547, 1997, 1147, 616, 1327]"
      ]
     },
     "execution_count": 20,
     "metadata": {},
     "output_type": "execute_result"
    }
   ],
   "source": [
    "#Add these last two to our list of indices to drop\n",
    "drop_indices.extend( list( df[ df['Bsmt Full Bath'].isnull() ].index) )\n",
    "drop_indices"
   ]
  },
  {
   "cell_type": "code",
   "execution_count": 21,
   "id": "29ed4d4f-a64f-4912-814f-0adf4971d80c",
   "metadata": {},
   "outputs": [
    {
     "data": {
      "text/plain": [
       "2051"
      ]
     },
     "execution_count": 21,
     "metadata": {},
     "output_type": "execute_result"
    }
   ],
   "source": [
    "len(df)"
   ]
  },
  {
   "cell_type": "code",
   "execution_count": 22,
   "id": "4438af12-01aa-45aa-9733-a09930354e1b",
   "metadata": {},
   "outputs": [
    {
     "data": {
      "text/plain": [
       "2045"
      ]
     },
     "execution_count": 22,
     "metadata": {},
     "output_type": "execute_result"
    }
   ],
   "source": [
    "#Drop these 6 observations\n",
    "df.drop(index=drop_indices, inplace=True)\n",
    "len(df)"
   ]
  },
  {
   "cell_type": "code",
   "execution_count": 23,
   "id": "6bcca691-9c95-446e-adbe-13dc9b525422",
   "metadata": {},
   "outputs": [
    {
     "name": "stdout",
     "output_type": "stream",
     "text": [
      "Number of rows with missing Bsmt Qual value: 0\n",
      "Number of rows with missing Bsmt Cond value: 0\n",
      "Number of rows with missing BsmtFin Type 1 value: 0\n",
      "Number of rows with missing Bsmt Exposure value: 0\n",
      "Number of rows with missing BsmtFin Type 2 value: 0\n",
      "Number of rows with missing BsmtFin SF 1 value: 0\n",
      "Number of rows with missing BsmtFin SF 2 value: 0\n",
      "Number of rows with missing Bsmt Unf SF value: 0\n",
      "Number of rows with missing Total Bsmt SF value: 0\n",
      "Number of rows with missing Bsmt Full Bath value: 0\n",
      "Number of rows with missing Bsmt Half Bath value: 0\n"
     ]
    }
   ],
   "source": [
    "#Check the null counts to make sure nothing is still missing\n",
    "for col in bsmts + bsmts2 + bsmts3:\n",
    "    print(f\"Number of rows with missing {col} value: {len(df[df[col].isnull()])}\")"
   ]
  },
  {
   "cell_type": "code",
   "execution_count": 24,
   "id": "101af31e-108d-4a0e-b0b6-663c5f086ab2",
   "metadata": {},
   "outputs": [
    {
     "data": {
      "text/html": [
       "<div>\n",
       "<style scoped>\n",
       "    .dataframe tbody tr th:only-of-type {\n",
       "        vertical-align: middle;\n",
       "    }\n",
       "\n",
       "    .dataframe tbody tr th {\n",
       "        vertical-align: top;\n",
       "    }\n",
       "\n",
       "    .dataframe thead th {\n",
       "        text-align: right;\n",
       "    }\n",
       "</style>\n",
       "<table border=\"1\" class=\"dataframe\">\n",
       "  <thead>\n",
       "    <tr style=\"text-align: right;\">\n",
       "      <th></th>\n",
       "      <th>Id</th>\n",
       "      <th>PID</th>\n",
       "      <th>MS SubClass</th>\n",
       "      <th>MS Zoning</th>\n",
       "      <th>Lot Frontage</th>\n",
       "      <th>Lot Area</th>\n",
       "      <th>Street</th>\n",
       "      <th>Alley</th>\n",
       "      <th>Lot Shape</th>\n",
       "      <th>Land Contour</th>\n",
       "      <th>...</th>\n",
       "      <th>Screen Porch</th>\n",
       "      <th>Pool Area</th>\n",
       "      <th>Pool QC</th>\n",
       "      <th>Fence</th>\n",
       "      <th>Misc Feature</th>\n",
       "      <th>Misc Val</th>\n",
       "      <th>Mo Sold</th>\n",
       "      <th>Yr Sold</th>\n",
       "      <th>Sale Type</th>\n",
       "      <th>SalePrice</th>\n",
       "    </tr>\n",
       "  </thead>\n",
       "  <tbody>\n",
       "    <tr>\n",
       "      <th>0</th>\n",
       "      <td>109</td>\n",
       "      <td>533352170</td>\n",
       "      <td>60</td>\n",
       "      <td>RL</td>\n",
       "      <td>NaN</td>\n",
       "      <td>13517</td>\n",
       "      <td>Pave</td>\n",
       "      <td>NaN</td>\n",
       "      <td>IR1</td>\n",
       "      <td>Lvl</td>\n",
       "      <td>...</td>\n",
       "      <td>0</td>\n",
       "      <td>0</td>\n",
       "      <td>NaN</td>\n",
       "      <td>NaN</td>\n",
       "      <td>NaN</td>\n",
       "      <td>0</td>\n",
       "      <td>3</td>\n",
       "      <td>2010</td>\n",
       "      <td>WD</td>\n",
       "      <td>130500</td>\n",
       "    </tr>\n",
       "    <tr>\n",
       "      <th>1</th>\n",
       "      <td>544</td>\n",
       "      <td>531379050</td>\n",
       "      <td>60</td>\n",
       "      <td>RL</td>\n",
       "      <td>43.0</td>\n",
       "      <td>11492</td>\n",
       "      <td>Pave</td>\n",
       "      <td>NaN</td>\n",
       "      <td>IR1</td>\n",
       "      <td>Lvl</td>\n",
       "      <td>...</td>\n",
       "      <td>0</td>\n",
       "      <td>0</td>\n",
       "      <td>NaN</td>\n",
       "      <td>NaN</td>\n",
       "      <td>NaN</td>\n",
       "      <td>0</td>\n",
       "      <td>4</td>\n",
       "      <td>2009</td>\n",
       "      <td>WD</td>\n",
       "      <td>220000</td>\n",
       "    </tr>\n",
       "    <tr>\n",
       "      <th>2</th>\n",
       "      <td>153</td>\n",
       "      <td>535304180</td>\n",
       "      <td>20</td>\n",
       "      <td>RL</td>\n",
       "      <td>68.0</td>\n",
       "      <td>7922</td>\n",
       "      <td>Pave</td>\n",
       "      <td>NaN</td>\n",
       "      <td>Reg</td>\n",
       "      <td>Lvl</td>\n",
       "      <td>...</td>\n",
       "      <td>0</td>\n",
       "      <td>0</td>\n",
       "      <td>NaN</td>\n",
       "      <td>NaN</td>\n",
       "      <td>NaN</td>\n",
       "      <td>0</td>\n",
       "      <td>1</td>\n",
       "      <td>2010</td>\n",
       "      <td>WD</td>\n",
       "      <td>109000</td>\n",
       "    </tr>\n",
       "    <tr>\n",
       "      <th>3</th>\n",
       "      <td>318</td>\n",
       "      <td>916386060</td>\n",
       "      <td>60</td>\n",
       "      <td>RL</td>\n",
       "      <td>73.0</td>\n",
       "      <td>9802</td>\n",
       "      <td>Pave</td>\n",
       "      <td>NaN</td>\n",
       "      <td>Reg</td>\n",
       "      <td>Lvl</td>\n",
       "      <td>...</td>\n",
       "      <td>0</td>\n",
       "      <td>0</td>\n",
       "      <td>NaN</td>\n",
       "      <td>NaN</td>\n",
       "      <td>NaN</td>\n",
       "      <td>0</td>\n",
       "      <td>4</td>\n",
       "      <td>2010</td>\n",
       "      <td>WD</td>\n",
       "      <td>174000</td>\n",
       "    </tr>\n",
       "    <tr>\n",
       "      <th>4</th>\n",
       "      <td>255</td>\n",
       "      <td>906425045</td>\n",
       "      <td>50</td>\n",
       "      <td>RL</td>\n",
       "      <td>82.0</td>\n",
       "      <td>14235</td>\n",
       "      <td>Pave</td>\n",
       "      <td>NaN</td>\n",
       "      <td>IR1</td>\n",
       "      <td>Lvl</td>\n",
       "      <td>...</td>\n",
       "      <td>0</td>\n",
       "      <td>0</td>\n",
       "      <td>NaN</td>\n",
       "      <td>NaN</td>\n",
       "      <td>NaN</td>\n",
       "      <td>0</td>\n",
       "      <td>3</td>\n",
       "      <td>2010</td>\n",
       "      <td>WD</td>\n",
       "      <td>138500</td>\n",
       "    </tr>\n",
       "  </tbody>\n",
       "</table>\n",
       "<p>5 rows × 81 columns</p>\n",
       "</div>"
      ],
      "text/plain": [
       "    Id        PID  MS SubClass MS Zoning  Lot Frontage  Lot Area Street Alley  \\\n",
       "0  109  533352170           60        RL           NaN     13517   Pave   NaN   \n",
       "1  544  531379050           60        RL          43.0     11492   Pave   NaN   \n",
       "2  153  535304180           20        RL          68.0      7922   Pave   NaN   \n",
       "3  318  916386060           60        RL          73.0      9802   Pave   NaN   \n",
       "4  255  906425045           50        RL          82.0     14235   Pave   NaN   \n",
       "\n",
       "  Lot Shape Land Contour  ... Screen Porch Pool Area Pool QC Fence  \\\n",
       "0       IR1          Lvl  ...            0         0     NaN   NaN   \n",
       "1       IR1          Lvl  ...            0         0     NaN   NaN   \n",
       "2       Reg          Lvl  ...            0         0     NaN   NaN   \n",
       "3       Reg          Lvl  ...            0         0     NaN   NaN   \n",
       "4       IR1          Lvl  ...            0         0     NaN   NaN   \n",
       "\n",
       "  Misc Feature Misc Val Mo Sold Yr Sold  Sale Type  SalePrice  \n",
       "0          NaN        0       3    2010        WD      130500  \n",
       "1          NaN        0       4    2009        WD      220000  \n",
       "2          NaN        0       1    2010        WD      109000  \n",
       "3          NaN        0       4    2010        WD      174000  \n",
       "4          NaN        0       3    2010        WD      138500  \n",
       "\n",
       "[5 rows x 81 columns]"
      ]
     },
     "execution_count": 24,
     "metadata": {},
     "output_type": "execute_result"
    }
   ],
   "source": [
    "#Re-index after dropping (failing to do so causes errors below)\n",
    "df.reset_index(inplace=True,drop=True)\n",
    "df.head()"
   ]
  },
  {
   "cell_type": "markdown",
   "id": "af59613b-a327-4fa7-b9cc-b59ac186dbc4",
   "metadata": {},
   "source": [
    "## Garages"
   ]
  },
  {
   "cell_type": "code",
   "execution_count": 25,
   "id": "c61dbaef-3d58-4110-b6b0-c9274e306936",
   "metadata": {},
   "outputs": [],
   "source": [
    "garages = ['Garage Qual', 'Garage Cond', 'Garage Finish', 'Garage Yr Blt', 'Garage Type']"
   ]
  },
  {
   "cell_type": "code",
   "execution_count": 26,
   "id": "5ae21441-7f41-4b31-a91b-773055831bde",
   "metadata": {},
   "outputs": [
    {
     "data": {
      "text/plain": [
       "Garage Qual      114\n",
       "Garage Cond      114\n",
       "Garage Finish    114\n",
       "Garage Yr Blt    114\n",
       "Garage Type      113\n",
       "Garage Cars        1\n",
       "Garage Area        1\n",
       "dtype: int64"
      ]
     },
     "execution_count": 26,
     "metadata": {},
     "output_type": "execute_result"
    }
   ],
   "source": [
    "df[garages + ['Garage Cars', 'Garage Area']].isnull().sum()"
   ]
  },
  {
   "cell_type": "code",
   "execution_count": 27,
   "id": "41d22f04-3082-41c8-9f49-dec82bcac0b5",
   "metadata": {},
   "outputs": [
    {
     "data": {
      "text/plain": [
       "114"
      ]
     },
     "execution_count": 27,
     "metadata": {},
     "output_type": "execute_result"
    }
   ],
   "source": [
    "#Check if all 114 are the same homes\n",
    "len(df[ df['Garage Qual'].isnull() & df['Garage Cond'].isnull() & df['Garage Finish'].isnull() & df['Garage Yr Blt'].isnull() ])"
   ]
  },
  {
   "cell_type": "code",
   "execution_count": 28,
   "id": "16176917-a959-4206-8566-02463426d936",
   "metadata": {},
   "outputs": [
    {
     "data": {
      "text/plain": [
       "113"
      ]
     },
     "execution_count": 28,
     "metadata": {},
     "output_type": "execute_result"
    }
   ],
   "source": [
    "#Check if those 113 are a subset of the 114\n",
    "len(df[ df['Garage Qual'].isnull() & df['Garage Type'].isnull() ])"
   ]
  },
  {
   "cell_type": "code",
   "execution_count": 29,
   "id": "8a5185d5-b9d1-4e41-9153-0251e6c536c8",
   "metadata": {},
   "outputs": [
    {
     "data": {
      "text/html": [
       "<div>\n",
       "<style scoped>\n",
       "    .dataframe tbody tr th:only-of-type {\n",
       "        vertical-align: middle;\n",
       "    }\n",
       "\n",
       "    .dataframe tbody tr th {\n",
       "        vertical-align: top;\n",
       "    }\n",
       "\n",
       "    .dataframe thead th {\n",
       "        text-align: right;\n",
       "    }\n",
       "</style>\n",
       "<table border=\"1\" class=\"dataframe\">\n",
       "  <thead>\n",
       "    <tr style=\"text-align: right;\">\n",
       "      <th></th>\n",
       "      <th>Id</th>\n",
       "      <th>PID</th>\n",
       "      <th>MS SubClass</th>\n",
       "      <th>MS Zoning</th>\n",
       "      <th>Lot Frontage</th>\n",
       "      <th>Lot Area</th>\n",
       "      <th>Street</th>\n",
       "      <th>Alley</th>\n",
       "      <th>Lot Shape</th>\n",
       "      <th>Land Contour</th>\n",
       "      <th>...</th>\n",
       "      <th>Screen Porch</th>\n",
       "      <th>Pool Area</th>\n",
       "      <th>Pool QC</th>\n",
       "      <th>Fence</th>\n",
       "      <th>Misc Feature</th>\n",
       "      <th>Misc Val</th>\n",
       "      <th>Mo Sold</th>\n",
       "      <th>Yr Sold</th>\n",
       "      <th>Sale Type</th>\n",
       "      <th>SalePrice</th>\n",
       "    </tr>\n",
       "  </thead>\n",
       "  <tbody>\n",
       "    <tr>\n",
       "      <th>1707</th>\n",
       "      <td>2237</td>\n",
       "      <td>910201180</td>\n",
       "      <td>70</td>\n",
       "      <td>RM</td>\n",
       "      <td>50.0</td>\n",
       "      <td>9060</td>\n",
       "      <td>Pave</td>\n",
       "      <td>NaN</td>\n",
       "      <td>Reg</td>\n",
       "      <td>Lvl</td>\n",
       "      <td>...</td>\n",
       "      <td>0</td>\n",
       "      <td>0</td>\n",
       "      <td>NaN</td>\n",
       "      <td>MnPrv</td>\n",
       "      <td>NaN</td>\n",
       "      <td>0</td>\n",
       "      <td>3</td>\n",
       "      <td>2007</td>\n",
       "      <td>WD</td>\n",
       "      <td>150909</td>\n",
       "    </tr>\n",
       "  </tbody>\n",
       "</table>\n",
       "<p>1 rows × 81 columns</p>\n",
       "</div>"
      ],
      "text/plain": [
       "        Id        PID  MS SubClass MS Zoning  Lot Frontage  Lot Area Street  \\\n",
       "1707  2237  910201180           70        RM          50.0      9060   Pave   \n",
       "\n",
       "     Alley Lot Shape Land Contour  ... Screen Porch Pool Area Pool QC  Fence  \\\n",
       "1707   NaN       Reg          Lvl  ...            0         0     NaN  MnPrv   \n",
       "\n",
       "     Misc Feature Misc Val Mo Sold Yr Sold  Sale Type  SalePrice  \n",
       "1707          NaN        0       3    2007        WD      150909  \n",
       "\n",
       "[1 rows x 81 columns]"
      ]
     },
     "execution_count": 29,
     "metadata": {},
     "output_type": "execute_result"
    }
   ],
   "source": [
    "#Which data point is the one that's missing all the Garage values EXCEPT `Garage Type`?\n",
    "df[ df['Garage Qual'].isnull() & ~df['Garage Type'].isnull() ]"
   ]
  },
  {
   "cell_type": "code",
   "execution_count": 30,
   "id": "d4ff5f60-0ade-477c-aa03-745f6372cc19",
   "metadata": {},
   "outputs": [
    {
     "data": {
      "text/html": [
       "<div>\n",
       "<style scoped>\n",
       "    .dataframe tbody tr th:only-of-type {\n",
       "        vertical-align: middle;\n",
       "    }\n",
       "\n",
       "    .dataframe tbody tr th {\n",
       "        vertical-align: top;\n",
       "    }\n",
       "\n",
       "    .dataframe thead th {\n",
       "        text-align: right;\n",
       "    }\n",
       "</style>\n",
       "<table border=\"1\" class=\"dataframe\">\n",
       "  <thead>\n",
       "    <tr style=\"text-align: right;\">\n",
       "      <th></th>\n",
       "      <th>Id</th>\n",
       "      <th>PID</th>\n",
       "      <th>MS SubClass</th>\n",
       "      <th>MS Zoning</th>\n",
       "      <th>Lot Frontage</th>\n",
       "      <th>Lot Area</th>\n",
       "      <th>Street</th>\n",
       "      <th>Alley</th>\n",
       "      <th>Lot Shape</th>\n",
       "      <th>Land Contour</th>\n",
       "      <th>...</th>\n",
       "      <th>Screen Porch</th>\n",
       "      <th>Pool Area</th>\n",
       "      <th>Pool QC</th>\n",
       "      <th>Fence</th>\n",
       "      <th>Misc Feature</th>\n",
       "      <th>Misc Val</th>\n",
       "      <th>Mo Sold</th>\n",
       "      <th>Yr Sold</th>\n",
       "      <th>Sale Type</th>\n",
       "      <th>SalePrice</th>\n",
       "    </tr>\n",
       "  </thead>\n",
       "  <tbody>\n",
       "    <tr>\n",
       "      <th>1707</th>\n",
       "      <td>2237</td>\n",
       "      <td>910201180</td>\n",
       "      <td>70</td>\n",
       "      <td>RM</td>\n",
       "      <td>50.0</td>\n",
       "      <td>9060</td>\n",
       "      <td>Pave</td>\n",
       "      <td>NaN</td>\n",
       "      <td>Reg</td>\n",
       "      <td>Lvl</td>\n",
       "      <td>...</td>\n",
       "      <td>0</td>\n",
       "      <td>0</td>\n",
       "      <td>NaN</td>\n",
       "      <td>MnPrv</td>\n",
       "      <td>NaN</td>\n",
       "      <td>0</td>\n",
       "      <td>3</td>\n",
       "      <td>2007</td>\n",
       "      <td>WD</td>\n",
       "      <td>150909</td>\n",
       "    </tr>\n",
       "  </tbody>\n",
       "</table>\n",
       "<p>1 rows × 81 columns</p>\n",
       "</div>"
      ],
      "text/plain": [
       "        Id        PID  MS SubClass MS Zoning  Lot Frontage  Lot Area Street  \\\n",
       "1707  2237  910201180           70        RM          50.0      9060   Pave   \n",
       "\n",
       "     Alley Lot Shape Land Contour  ... Screen Porch Pool Area Pool QC  Fence  \\\n",
       "1707   NaN       Reg          Lvl  ...            0         0     NaN  MnPrv   \n",
       "\n",
       "     Misc Feature Misc Val Mo Sold Yr Sold  Sale Type  SalePrice  \n",
       "1707          NaN        0       3    2007        WD      150909  \n",
       "\n",
       "[1 rows x 81 columns]"
      ]
     },
     "execution_count": 30,
     "metadata": {},
     "output_type": "execute_result"
    }
   ],
   "source": [
    "#Is this the same one observation that's missing both `Garage Cars` and `Garage Area`?\n",
    "df[df['Garage Cars'].isnull() & df['Garage Area'].isnull()]"
   ]
  },
  {
   "cell_type": "code",
   "execution_count": 31,
   "id": "101fe5d8-701c-4f73-83f7-ce1591fd288a",
   "metadata": {},
   "outputs": [
    {
     "data": {
      "text/plain": [
       "Int64Index([1707], dtype='int64')"
      ]
     },
     "execution_count": 31,
     "metadata": {},
     "output_type": "execute_result"
    }
   ],
   "source": [
    "#It is! So we'll just drop that one observation, then fill the other 113 with \"no_garage\"\n",
    "\n",
    "#First, get the index of the one observation to drop:\n",
    "drop_index = df[df['Garage Cars'].isnull() & df['Garage Area'].isnull()].index\n",
    "drop_index"
   ]
  },
  {
   "cell_type": "code",
   "execution_count": 32,
   "id": "bd32d403-bf6e-4247-b648-e4fbcbce8080",
   "metadata": {},
   "outputs": [
    {
     "data": {
      "text/html": [
       "<div>\n",
       "<style scoped>\n",
       "    .dataframe tbody tr th:only-of-type {\n",
       "        vertical-align: middle;\n",
       "    }\n",
       "\n",
       "    .dataframe tbody tr th {\n",
       "        vertical-align: top;\n",
       "    }\n",
       "\n",
       "    .dataframe thead th {\n",
       "        text-align: right;\n",
       "    }\n",
       "</style>\n",
       "<table border=\"1\" class=\"dataframe\">\n",
       "  <thead>\n",
       "    <tr style=\"text-align: right;\">\n",
       "      <th></th>\n",
       "      <th>Id</th>\n",
       "      <th>PID</th>\n",
       "      <th>MS SubClass</th>\n",
       "      <th>MS Zoning</th>\n",
       "      <th>Lot Frontage</th>\n",
       "      <th>Lot Area</th>\n",
       "      <th>Street</th>\n",
       "      <th>Alley</th>\n",
       "      <th>Lot Shape</th>\n",
       "      <th>Land Contour</th>\n",
       "      <th>...</th>\n",
       "      <th>Screen Porch</th>\n",
       "      <th>Pool Area</th>\n",
       "      <th>Pool QC</th>\n",
       "      <th>Fence</th>\n",
       "      <th>Misc Feature</th>\n",
       "      <th>Misc Val</th>\n",
       "      <th>Mo Sold</th>\n",
       "      <th>Yr Sold</th>\n",
       "      <th>Sale Type</th>\n",
       "      <th>SalePrice</th>\n",
       "    </tr>\n",
       "  </thead>\n",
       "  <tbody>\n",
       "  </tbody>\n",
       "</table>\n",
       "<p>0 rows × 81 columns</p>\n",
       "</div>"
      ],
      "text/plain": [
       "Empty DataFrame\n",
       "Columns: [Id, PID, MS SubClass, MS Zoning, Lot Frontage, Lot Area, Street, Alley, Lot Shape, Land Contour, Utilities, Lot Config, Land Slope, Neighborhood, Condition 1, Condition 2, Bldg Type, House Style, Overall Qual, Overall Cond, Year Built, Year Remod/Add, Roof Style, Roof Matl, Exterior 1st, Exterior 2nd, Mas Vnr Type, Mas Vnr Area, Exter Qual, Exter Cond, Foundation, Bsmt Qual, Bsmt Cond, Bsmt Exposure, BsmtFin Type 1, BsmtFin SF 1, BsmtFin Type 2, BsmtFin SF 2, Bsmt Unf SF, Total Bsmt SF, Heating, Heating QC, Central Air, Electrical, 1st Flr SF, 2nd Flr SF, Low Qual Fin SF, Gr Liv Area, Bsmt Full Bath, Bsmt Half Bath, Full Bath, Half Bath, Bedroom AbvGr, Kitchen AbvGr, Kitchen Qual, TotRms AbvGrd, Functional, Fireplaces, Fireplace Qu, Garage Type, Garage Yr Blt, Garage Finish, Garage Cars, Garage Area, Garage Qual, Garage Cond, Paved Drive, Wood Deck SF, Open Porch SF, Enclosed Porch, 3Ssn Porch, Screen Porch, Pool Area, Pool QC, Fence, Misc Feature, Misc Val, Mo Sold, Yr Sold, Sale Type, SalePrice]\n",
       "Index: []\n",
       "\n",
       "[0 rows x 81 columns]"
      ]
     },
     "execution_count": 32,
     "metadata": {},
     "output_type": "execute_result"
    }
   ],
   "source": [
    "#Drop this observation\n",
    "df.drop(index=drop_index, inplace=True)\n",
    "\n",
    "#Check that it was dropped\n",
    "df[df['Garage Cars'].isnull() & df['Garage Area'].isnull()]"
   ]
  },
  {
   "cell_type": "code",
   "execution_count": 33,
   "id": "1a928adf-dc07-4cb5-be03-1bb81b171a5c",
   "metadata": {},
   "outputs": [
    {
     "data": {
      "text/html": [
       "<div>\n",
       "<style scoped>\n",
       "    .dataframe tbody tr th:only-of-type {\n",
       "        vertical-align: middle;\n",
       "    }\n",
       "\n",
       "    .dataframe tbody tr th {\n",
       "        vertical-align: top;\n",
       "    }\n",
       "\n",
       "    .dataframe thead th {\n",
       "        text-align: right;\n",
       "    }\n",
       "</style>\n",
       "<table border=\"1\" class=\"dataframe\">\n",
       "  <thead>\n",
       "    <tr style=\"text-align: right;\">\n",
       "      <th></th>\n",
       "      <th>Id</th>\n",
       "      <th>PID</th>\n",
       "      <th>MS SubClass</th>\n",
       "      <th>MS Zoning</th>\n",
       "      <th>Lot Frontage</th>\n",
       "      <th>Lot Area</th>\n",
       "      <th>Street</th>\n",
       "      <th>Alley</th>\n",
       "      <th>Lot Shape</th>\n",
       "      <th>Land Contour</th>\n",
       "      <th>...</th>\n",
       "      <th>Screen Porch</th>\n",
       "      <th>Pool Area</th>\n",
       "      <th>Pool QC</th>\n",
       "      <th>Fence</th>\n",
       "      <th>Misc Feature</th>\n",
       "      <th>Misc Val</th>\n",
       "      <th>Mo Sold</th>\n",
       "      <th>Yr Sold</th>\n",
       "      <th>Sale Type</th>\n",
       "      <th>SalePrice</th>\n",
       "    </tr>\n",
       "  </thead>\n",
       "  <tbody>\n",
       "    <tr>\n",
       "      <th>0</th>\n",
       "      <td>109</td>\n",
       "      <td>533352170</td>\n",
       "      <td>60</td>\n",
       "      <td>RL</td>\n",
       "      <td>NaN</td>\n",
       "      <td>13517</td>\n",
       "      <td>Pave</td>\n",
       "      <td>NaN</td>\n",
       "      <td>IR1</td>\n",
       "      <td>Lvl</td>\n",
       "      <td>...</td>\n",
       "      <td>0</td>\n",
       "      <td>0</td>\n",
       "      <td>NaN</td>\n",
       "      <td>NaN</td>\n",
       "      <td>NaN</td>\n",
       "      <td>0</td>\n",
       "      <td>3</td>\n",
       "      <td>2010</td>\n",
       "      <td>WD</td>\n",
       "      <td>130500</td>\n",
       "    </tr>\n",
       "    <tr>\n",
       "      <th>1</th>\n",
       "      <td>544</td>\n",
       "      <td>531379050</td>\n",
       "      <td>60</td>\n",
       "      <td>RL</td>\n",
       "      <td>43.0</td>\n",
       "      <td>11492</td>\n",
       "      <td>Pave</td>\n",
       "      <td>NaN</td>\n",
       "      <td>IR1</td>\n",
       "      <td>Lvl</td>\n",
       "      <td>...</td>\n",
       "      <td>0</td>\n",
       "      <td>0</td>\n",
       "      <td>NaN</td>\n",
       "      <td>NaN</td>\n",
       "      <td>NaN</td>\n",
       "      <td>0</td>\n",
       "      <td>4</td>\n",
       "      <td>2009</td>\n",
       "      <td>WD</td>\n",
       "      <td>220000</td>\n",
       "    </tr>\n",
       "    <tr>\n",
       "      <th>2</th>\n",
       "      <td>153</td>\n",
       "      <td>535304180</td>\n",
       "      <td>20</td>\n",
       "      <td>RL</td>\n",
       "      <td>68.0</td>\n",
       "      <td>7922</td>\n",
       "      <td>Pave</td>\n",
       "      <td>NaN</td>\n",
       "      <td>Reg</td>\n",
       "      <td>Lvl</td>\n",
       "      <td>...</td>\n",
       "      <td>0</td>\n",
       "      <td>0</td>\n",
       "      <td>NaN</td>\n",
       "      <td>NaN</td>\n",
       "      <td>NaN</td>\n",
       "      <td>0</td>\n",
       "      <td>1</td>\n",
       "      <td>2010</td>\n",
       "      <td>WD</td>\n",
       "      <td>109000</td>\n",
       "    </tr>\n",
       "    <tr>\n",
       "      <th>3</th>\n",
       "      <td>318</td>\n",
       "      <td>916386060</td>\n",
       "      <td>60</td>\n",
       "      <td>RL</td>\n",
       "      <td>73.0</td>\n",
       "      <td>9802</td>\n",
       "      <td>Pave</td>\n",
       "      <td>NaN</td>\n",
       "      <td>Reg</td>\n",
       "      <td>Lvl</td>\n",
       "      <td>...</td>\n",
       "      <td>0</td>\n",
       "      <td>0</td>\n",
       "      <td>NaN</td>\n",
       "      <td>NaN</td>\n",
       "      <td>NaN</td>\n",
       "      <td>0</td>\n",
       "      <td>4</td>\n",
       "      <td>2010</td>\n",
       "      <td>WD</td>\n",
       "      <td>174000</td>\n",
       "    </tr>\n",
       "    <tr>\n",
       "      <th>4</th>\n",
       "      <td>255</td>\n",
       "      <td>906425045</td>\n",
       "      <td>50</td>\n",
       "      <td>RL</td>\n",
       "      <td>82.0</td>\n",
       "      <td>14235</td>\n",
       "      <td>Pave</td>\n",
       "      <td>NaN</td>\n",
       "      <td>IR1</td>\n",
       "      <td>Lvl</td>\n",
       "      <td>...</td>\n",
       "      <td>0</td>\n",
       "      <td>0</td>\n",
       "      <td>NaN</td>\n",
       "      <td>NaN</td>\n",
       "      <td>NaN</td>\n",
       "      <td>0</td>\n",
       "      <td>3</td>\n",
       "      <td>2010</td>\n",
       "      <td>WD</td>\n",
       "      <td>138500</td>\n",
       "    </tr>\n",
       "  </tbody>\n",
       "</table>\n",
       "<p>5 rows × 81 columns</p>\n",
       "</div>"
      ],
      "text/plain": [
       "    Id        PID  MS SubClass MS Zoning  Lot Frontage  Lot Area Street Alley  \\\n",
       "0  109  533352170           60        RL           NaN     13517   Pave   NaN   \n",
       "1  544  531379050           60        RL          43.0     11492   Pave   NaN   \n",
       "2  153  535304180           20        RL          68.0      7922   Pave   NaN   \n",
       "3  318  916386060           60        RL          73.0      9802   Pave   NaN   \n",
       "4  255  906425045           50        RL          82.0     14235   Pave   NaN   \n",
       "\n",
       "  Lot Shape Land Contour  ... Screen Porch Pool Area Pool QC Fence  \\\n",
       "0       IR1          Lvl  ...            0         0     NaN   NaN   \n",
       "1       IR1          Lvl  ...            0         0     NaN   NaN   \n",
       "2       Reg          Lvl  ...            0         0     NaN   NaN   \n",
       "3       Reg          Lvl  ...            0         0     NaN   NaN   \n",
       "4       IR1          Lvl  ...            0         0     NaN   NaN   \n",
       "\n",
       "  Misc Feature Misc Val Mo Sold Yr Sold  Sale Type  SalePrice  \n",
       "0          NaN        0       3    2010        WD      130500  \n",
       "1          NaN        0       4    2009        WD      220000  \n",
       "2          NaN        0       1    2010        WD      109000  \n",
       "3          NaN        0       4    2010        WD      174000  \n",
       "4          NaN        0       3    2010        WD      138500  \n",
       "\n",
       "[5 rows x 81 columns]"
      ]
     },
     "execution_count": 33,
     "metadata": {},
     "output_type": "execute_result"
    }
   ],
   "source": [
    "#Reset the index first, so we don't run into issues\n",
    "#When I didn't do this, an indexing issue caused the code below to not work correctly\n",
    "df.reset_index(inplace=True,drop=True)\n",
    "df.head()"
   ]
  },
  {
   "cell_type": "code",
   "execution_count": 34,
   "id": "8952af8f-08c9-44e3-9961-7e989621990c",
   "metadata": {},
   "outputs": [
    {
     "data": {
      "text/plain": [
       "113"
      ]
     },
     "execution_count": 34,
     "metadata": {},
     "output_type": "execute_result"
    }
   ],
   "source": [
    "#Find the indices of the 113 houses with missing basements\n",
    "missing_garages = df[df['Garage Qual'].isnull()].index\n",
    "\n",
    "#Make sure there are 113 of them\n",
    "len(missing_garages)"
   ]
  },
  {
   "cell_type": "code",
   "execution_count": 35,
   "id": "eb0532d1-38f6-4090-beda-2153002fc96d",
   "metadata": {},
   "outputs": [],
   "source": [
    "#Fill the remaining 113 garage observations with 'no_garage'\n",
    "\n",
    "for col in garages:\n",
    "    df.iloc[missing_garages, df.columns.get_loc(col)] = 'no_garage'"
   ]
  },
  {
   "cell_type": "code",
   "execution_count": 36,
   "id": "316b9427-a938-43d7-b846-3d5418cedf66",
   "metadata": {},
   "outputs": [
    {
     "name": "stdout",
     "output_type": "stream",
     "text": [
      "Number of rows with missing Garage Qual value: 0\n",
      "Number of rows with missing Garage Cond value: 0\n",
      "Number of rows with missing Garage Finish value: 0\n",
      "Number of rows with missing Garage Yr Blt value: 0\n",
      "Number of rows with missing Garage Type value: 0\n"
     ]
    }
   ],
   "source": [
    "for col in garages:\n",
    "    print(f\"Number of rows with missing {col} value: {len(df[df[col].isnull()])}\")"
   ]
  },
  {
   "cell_type": "markdown",
   "id": "036bccb1-503b-40f7-9b50-6bd82773923b",
   "metadata": {
    "tags": []
   },
   "source": [
    "## Masonry Veneer"
   ]
  },
  {
   "cell_type": "code",
   "execution_count": 37,
   "id": "09bf0b3c-7e09-4a41-b3bf-52e73a5c281e",
   "metadata": {},
   "outputs": [
    {
     "name": "stdout",
     "output_type": "stream",
     "text": [
      "Number of rows with missing Mas Vnr Type value: 22\n",
      "Number of rows with missing Mas Vnr Area value: 22\n"
     ]
    }
   ],
   "source": [
    "masonry = ['Mas Vnr Type', 'Mas Vnr Area']\n",
    "for col in masonry:\n",
    "    print(f\"Number of rows with missing {col} value: {len(df[df[col].isnull()])}\")"
   ]
  },
  {
   "cell_type": "code",
   "execution_count": 38,
   "id": "3976bd4b-3e59-4eda-b646-d2cef0fd65b3",
   "metadata": {},
   "outputs": [
    {
     "data": {
      "text/plain": [
       "22"
      ]
     },
     "execution_count": 38,
     "metadata": {},
     "output_type": "execute_result"
    }
   ],
   "source": [
    "#Are these all the same 22 data points?\n",
    "len(df[ df['Mas Vnr Type'].isnull() & df['Mas Vnr Area'].isnull() ])"
   ]
  },
  {
   "cell_type": "code",
   "execution_count": 39,
   "id": "418df894-ac6d-4d5d-9a56-b0f49bba0cec",
   "metadata": {},
   "outputs": [
    {
     "data": {
      "text/plain": [
       "22"
      ]
     },
     "execution_count": 39,
     "metadata": {},
     "output_type": "execute_result"
    }
   ],
   "source": [
    "#They are! That means they're all just homes that lack any masonry venerr.\n",
    "#So let's fill in the missing `Vnr Type` variables with 'no_vnr'\n",
    "#and then fill in the missing 'Vnr Area' with 0\n",
    "\n",
    "#First, get the indices\n",
    "no_vnr = df[df['Mas Vnr Type'].isnull()].index\n",
    "len(no_vnr)"
   ]
  },
  {
   "cell_type": "code",
   "execution_count": 40,
   "id": "35de191b-c0e7-4ccd-bd5a-072c2bfa5688",
   "metadata": {},
   "outputs": [
    {
     "name": "stdout",
     "output_type": "stream",
     "text": [
      "Number of rows with missing Mas Vnr Type value: 0\n",
      "Number of rows with missing Mas Vnr Area value: 0\n"
     ]
    }
   ],
   "source": [
    "#Fill in the missing values\n",
    "df.iloc[no_vnr, df.columns.get_loc('Mas Vnr Type')] = 'no_vnr'\n",
    "df.iloc[no_vnr, df.columns.get_loc('Mas Vnr Area')] = 0\n",
    "\n",
    "for col in masonry:\n",
    "    print(f\"Number of rows with missing {col} value: {len(df[df[col].isnull()])}\")"
   ]
  },
  {
   "cell_type": "markdown",
   "id": "8bfd2d4b-8d46-420b-96bd-ac49ce8a4006",
   "metadata": {},
   "source": [
    "## Alley Access"
   ]
  },
  {
   "cell_type": "code",
   "execution_count": 41,
   "id": "2ac82b85-ab68-407d-8fdf-b4586e514042",
   "metadata": {},
   "outputs": [
    {
     "name": "stdout",
     "output_type": "stream",
     "text": [
      "Number of rows with missing Alley value: 1904\n"
     ]
    }
   ],
   "source": [
    "for col in ['Alley']:\n",
    "    print(f\"Number of rows with missing {col} value: {len(df[df[col].isnull()])}\")"
   ]
  },
  {
   "cell_type": "code",
   "execution_count": 42,
   "id": "1fb90390-4bd0-4584-9aa3-3501c7a661d1",
   "metadata": {},
   "outputs": [
    {
     "data": {
      "text/plain": [
       "Grvl    85\n",
       "Pave    55\n",
       "Name: Alley, dtype: int64"
      ]
     },
     "execution_count": 42,
     "metadata": {},
     "output_type": "execute_result"
    }
   ],
   "source": [
    "# From data dictionary, 'Alley' can take 3 values, one of which is \"NA\".\n",
    "# Does NA mean missing, or is it a string?\n",
    "df['Alley'].value_counts()"
   ]
  },
  {
   "cell_type": "code",
   "execution_count": 43,
   "id": "9e80998b-2303-4a9d-9044-d87c6e4df324",
   "metadata": {
    "tags": []
   },
   "outputs": [],
   "source": [
    "#So \"NA\" means missing.  Thus, missing values in this variable mean\n",
    "#\"no alley access.\"  Let's replace the missing values with 'no_alley_access':\n",
    "df[\"Alley\"].fillna(\"no_alley_access\", inplace=True);"
   ]
  },
  {
   "cell_type": "code",
   "execution_count": 44,
   "id": "e9a3fc10-9beb-42e2-a334-b8920dc63d4b",
   "metadata": {},
   "outputs": [
    {
     "data": {
      "text/plain": [
       "no_alley_access    1904\n",
       "Grvl                 85\n",
       "Pave                 55\n",
       "Name: Alley, dtype: int64"
      ]
     },
     "execution_count": 44,
     "metadata": {},
     "output_type": "execute_result"
    }
   ],
   "source": [
    "df['Alley'].value_counts()"
   ]
  },
  {
   "cell_type": "code",
   "execution_count": 45,
   "id": "3bf5db90-5939-4263-9c1c-201e2a1882cf",
   "metadata": {},
   "outputs": [
    {
     "name": "stdout",
     "output_type": "stream",
     "text": [
      "Number of rows with missing Alley value: 0\n"
     ]
    }
   ],
   "source": [
    "for col in ['Alley']:\n",
    "    print(f\"Number of rows with missing {col} value: {len(df[df[col].isnull()])}\")"
   ]
  }
 ],
 "metadata": {
  "kernelspec": {
   "display_name": "Python 3 (ipykernel)",
   "language": "python",
   "name": "python3"
  },
  "language_info": {
   "codemirror_mode": {
    "name": "ipython",
    "version": 3
   },
   "file_extension": ".py",
   "mimetype": "text/x-python",
   "name": "python",
   "nbconvert_exporter": "python",
   "pygments_lexer": "ipython3",
   "version": "3.9.13"
  }
 },
 "nbformat": 4,
 "nbformat_minor": 5
}
