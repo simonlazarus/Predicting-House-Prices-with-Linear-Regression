{
 "cells": [
  {
   "cell_type": "code",
   "execution_count": 1,
   "id": "7acad5f4-1480-4e58-8e70-9498db0ff7b3",
   "metadata": {},
   "outputs": [],
   "source": [
    "# Import packages\n",
    "import numpy as np\n",
    "import pandas as pd\n",
    "import matplotlib.pyplot as plt\n"
   ]
  },
  {
   "cell_type": "markdown",
   "id": "aab9faba-e6c4-4d2b-94b9-448b9be0247d",
   "metadata": {},
   "source": [
    "# Remaining data-cleaning tasks\n",
    "\n",
    "As mentioned in [the last notebook](./1_data_preparing.ipynb), we've now removed all legitimately-missing values and all outliers.  What remains is to fill in the \"missing\" values with \"DNE\" (Does Not Exist) or with 0 as appropriate.\n",
    "\n",
    "How can we tell that a missing value means \"DNE\" or \"0\" rather than actually being missing?  The [data description](http://jse.amstat.org/v19n3/decock/DataDocumentation.txt) sheds light on this.  For example, it says that the variable `Alley` is supposed to take on 3 values: 'Grvl', 'Pave', and 'NA.'  However, the vast majority of observations are have missing values in this column.  But: we see that among all observations in the data set, *only the values 'Grvl' and 'Pave' appear in the column `Alley`*!  This implies that what the data dictionary indicates as \"NA\" means \"We left this value blank.\"\n",
    "\n",
    "So to eliminate missing data problems, we'll want to automatically fill in with \"DNE\" (Does Not Exist) any missing values that have this property.  That is, if a categorical variable is listed in the data dictionary as being able to take on the value \"NA\" and furthermore has missing values, then we'll check whether that variable has achieved the full number of categories it's supposed to (according to the data dictionary).  If not, then we'll automatically fill its missing values with \"DNE\".\n",
    "\n",
    "Below, we construct a dictionary of all the categorical variables that the data description lists as being able to take on the value \"NA\" or \"None\", and for each such variable we list the number of different values (including \"NA\") that that variable is supposed to be able to take on.  Since there are relatively few values that each of these variables can potentially take one, in a data set of 2000+ observations we should expect to be able to find examples of each of these values being taken on, *unless* the value \"NA\" was encoded as a missing value.  So to test whether one of these categorical variables is (likely to be) *missing values only because of the encoding method and not because they were legitimately missing*, we will simply compare the number of values that that variable takes on in our data set to the number it's *supposed to* be able to take on according to the data description.  If the number of values taken on is less than the number claimed by the data description, then we'll assume that any missing values should properly be understood as \"DNE\" (Does Not Exist).\n",
    "\n",
    "For the numeric variables, it's impossible to use this method to check whether a value is \"legitimately\" missing: the possible values that the numeric variables can take on are not listed in the data description, as there are infinitely many of them!  Instead, if a variable represents a quantity that could possibly be 0 in some homes (e.g. 'Wood Deck SF', if the home doesn't have a wood deck at all), then we'll just assume that any missing data corresponds to a value of 0.  We construct a list of all such numeric variables below.\n",
    "\n",
    "This method seems reasonable since (a) the previous notebook only uncovered 11 total data points (out of more than 2000) that could not fit with the idea of missing data points simply being a shorthand way of recording \"Does Not Exist\", and (b) this data set has a lot of categorical variables with missing values, but we will find (using the test mentioned 2 paragraphs ago) that *none* of these values are legitimately missing (other than those 11 removed in the last notebook).\n",
    "\n",
    "Finally, there are a few variables representing the year in which something took place (e.g. `Year Built`, `Garage Yr Blt` and `Yr Sold`).  Since this is a data set of *homes that were built and then sold*, there is no reason for us to assume that a missing value in `Year Built`, `Yr Sold`, or similar categories represents a \"not legitimately missing\" value.  However, the variable `Garage Yr Blt` is the unique one where there is strong reason to believe that a missing value indicates not a \"truly missing\" value, but instead a way of encoding \"Does Not Exist\".  Indeed, some homes do not have garages!  For this reason, we will fill any missing `Garage Yr Blt` values with \"DNE\".\n"
   ]
  },
  {
   "cell_type": "markdown",
   "id": "e6cfe030-d1d6-4374-8dbf-83c965d3138f",
   "metadata": {},
   "source": [
    "## Variables to fill in since their values may not be legitimately missing"
   ]
  },
  {
   "cell_type": "code",
   "execution_count": 2,
   "id": "33797ec3-0742-4af9-9f0f-60b008c1f8e3",
   "metadata": {},
   "outputs": [],
   "source": [
    "#Create a dictionary listing how many distinct values each of the categorical variables\n",
    "#is supposed to be able to take on.  If fewer than this many are achieved, then that's\n",
    "#a sign that this variable's \"missing values\" are just instances of \"NA\".\n",
    "categorical_nums = {'Alley': 3, 'Mas Vnr Type': 5, 'Bsmt Qual': 6, 'Bsmt Cond': 6, 'Bsmt Exposure': 5,\n",
    "                'BsmtFin Type 1': 7, 'BsmtFin Type 2': 7, 'Fireplace Qu': 6, 'Garage Type': 7,\n",
    "                'Garage Finish': 4, 'Garage Qual': 6, 'Garage Cond': 6, 'Pool QC': 5, 'Fence': 5,\n",
    "                'Misc Feature': 6,\n",
    "                'Garage Yr Blt': np.Inf,\n",
    "                }\n",
    "#Some homes may not have a garage, so its \"year built\" may be missing for this reason, even though\n",
    "#this variable is numeric (not categorical).  But we want to fill these with \"NA\" rather than 0,\n",
    "#which is why we list 'Garage Yr Blt' here rather than with the numeric variables.  We gave it a\n",
    "#threshold number of infinity so that when we check whether the number of values it takes on\n",
    "#is less than the threshold number, we will necessarily get the answer \"no\".\n",
    "\n",
    "categorical_names = categorical_nums.keys()"
   ]
  },
  {
   "cell_type": "code",
   "execution_count": 3,
   "id": "3286ee7f-d010-4fed-97e0-2222381b8ed8",
   "metadata": {},
   "outputs": [],
   "source": [
    "#Also, we'll want to create a list of those numeric variable names that are likely to be ones\n",
    "#where a missing value would be equivalent to a \"zero.\"  For example, \"Lot Frontage\" being\n",
    "#missing probably means that there are just 0 feet of street connected to the property.\n",
    "numeric_names = ['Lot Frontage', 'Lot Area', 'Mas Vnr Area', 'BsmtFin SF 1', 'BsmtFin SF 2',\n",
    "                 'Bsmt Unf SF', 'Total Bsmt SF', '1st Flr SF', '2nd Flr SF', 'Low Qual Fin SF',\n",
    "                 'Gr Liv Area', 'Bsmt Full Bath', 'Bsmt Half Bath', 'Full Bath', 'Half Bath',\n",
    "                 'Bedroom AbvGr', 'Kitchen AbvGr', 'TotRms AbvGrd', 'Fireplaces', 'Garage Cars',\n",
    "                 'Garage Area', 'Wood Deck SF', 'Open Porch SF', 'Enclosed Porch', '3Ssn Porch',\n",
    "                 'Screen Porch', 'Pool Area', 'Misc Val']\n",
    "#We don't include SalePrice in this list since it's the target variable we're predicting.\n",
    "#It doesn't appear in the test set, and none of its values were missing in the training set."
   ]
  },
  {
   "cell_type": "markdown",
   "id": "13cd370f-f311-4eae-bb6c-b5c1990e3ff5",
   "metadata": {},
   "source": [
    "## Data Cleaning Functions"
   ]
  },
  {
   "cell_type": "code",
   "execution_count": 4,
   "id": "8f4a0a85-16a0-439e-917b-d2c611b6d421",
   "metadata": {},
   "outputs": [],
   "source": [
    "def check_missing(df):\n",
    "    '''\n",
    "    Input: a Pandas dataframe df\n",
    "    \n",
    "    Prints out how many values are missing from each column.\n",
    "    Only prints out columns that are missing at least one value.\n",
    "    '''\n",
    "    variables_with_missing = df.isnull().sum().index\n",
    "    missing_nos = df.isnull().sum().values\n",
    "    \n",
    "    if missing_nos.sum()==0:\n",
    "        print('No missing values')\n",
    "\n",
    "    for i in range(len(variables_with_missing)):\n",
    "        if missing_nos[i] != 0:\n",
    "            print(f'{missing_nos[i]} missing values from variable {variables_with_missing[i]}')\n",
    "            "
   ]
  },
  {
   "cell_type": "code",
   "execution_count": 5,
   "id": "29a61ec2-0ad8-4d1e-bc2d-8cdd48a848a1",
   "metadata": {},
   "outputs": [],
   "source": [
    "def fill_categoricals(df, nums_dict):\n",
    "    '''\n",
    "    Inputs:\n",
    "    df: A Pandas dataframe\n",
    "    nums_dict: A dictionary.  Each item in the dictionary should be of the form key:x,\n",
    "        where key is the name of a column in df representing a categorical variable and\n",
    "        where x is the number of different values that that categorical variable is\n",
    "        supposed to be able to take on (according to the source of the data).\n",
    "        \n",
    "    Output:\n",
    "    A Pandas dataframe identical to df except with the missing values filled with 'DNE'\n",
    "    (Does Not Exist) in all columns meeting the following conditions:\n",
    "        1. The column's name appears as a key in nums_dict;\n",
    "        2. The number of different values taken on by that variable in df is LESS THAN\n",
    "           the the number x that is keyed to by that variable name in nums_dict\n",
    "    Any missing values in columns not meeting these criteria will remain as they are.\n",
    "    '''\n",
    "    for key, x in nums_dict.items():\n",
    "        \n",
    "        #If that variable doesn't have as many unique values as it should...\n",
    "        if len(df[key].value_counts()) < x:\n",
    "            \n",
    "            #Get the index of all missing values\n",
    "            missings = df[ df[key].isnull() ].index\n",
    "            \n",
    "            #Fill them in with 'DNE'\n",
    "            df.iloc[missings, df.columns.get_loc(key)] = 'DNE'\n",
    "            \n",
    "    return df\n"
   ]
  },
  {
   "cell_type": "code",
   "execution_count": 6,
   "id": "ac0be983-3f73-42f8-961e-2181b7baccd1",
   "metadata": {},
   "outputs": [],
   "source": [
    "def fill_numerics(df, names_list):\n",
    "    '''\n",
    "    Inputs:\n",
    "    df: A Pandas dataframe\n",
    "    names_list: A list of names of columns in df that are each numeric variables.\n",
    "    \n",
    "    Output:\n",
    "    A Pandas dataframe identical to df except with the missing values in columns in\n",
    "    names_list filled with 0.\n",
    "    '''\n",
    "    \n",
    "    for col in names_list:\n",
    "        \n",
    "            #Get the index of all missing values\n",
    "            missings = df[ df[col].isnull() ].index\n",
    "            \n",
    "            #Fill them in with 'DNE'\n",
    "            df.iloc[missings, df.columns.get_loc(col)] = 0\n",
    "            \n",
    "    return df"
   ]
  },
  {
   "cell_type": "code",
   "execution_count": 7,
   "id": "f6bc37b6-b60c-4441-920d-ae3435d44320",
   "metadata": {},
   "outputs": [],
   "source": [
    "def fill_missings(df, categorical_dict, numeric_list):\n",
    "    '''\n",
    "    Carries out the function fill_categoricals(df, categorical_dict)\n",
    "    followed by the function fill_numerics(df, numeric_list),\n",
    "    then returns the resulting dataframe.  Prints out what it's doing\n",
    "    along the way, and checks for missing values at each step.\n",
    "    '''\n",
    "\n",
    "    print('Checking missing values... \\n')\n",
    "    check_missing(df)\n",
    "    \n",
    "    print('\\nFilling missing categorical values with \"DNE\", if we have reason\\nto believe they are not legitimately missing...')\n",
    "    \n",
    "    df = fill_categoricals(df, categorical_dict)\n",
    "    \n",
    "    print('\\nChecking missing values again... \\n')\n",
    "    check_missing(df)\n",
    "    \n",
    "    print('\\nFilling missing numeric values with 0... ')\n",
    "    df = fill_numerics(df, numeric_list)\n",
    "    \n",
    "    print('\\nChecking missing values again... \\n')\n",
    "    check_missing(df)\n",
    "    \n",
    "    return df"
   ]
  },
  {
   "cell_type": "markdown",
   "id": "d3796ac2-4d39-4181-8de9-0b407a821a68",
   "metadata": {},
   "source": [
    "## Data Cleaning: Training Set"
   ]
  },
  {
   "cell_type": "code",
   "execution_count": 8,
   "id": "6ba59802-52c5-4fd5-a52f-db464bdf2ac0",
   "metadata": {},
   "outputs": [],
   "source": [
    "df = pd.read_csv('../datasets/train_prepared.csv')"
   ]
  },
  {
   "cell_type": "code",
   "execution_count": 9,
   "id": "2c9398e1-1f02-49c6-b851-fe53cb9acc6a",
   "metadata": {},
   "outputs": [
    {
     "name": "stdout",
     "output_type": "stream",
     "text": [
      "Checking missing values... \n",
      "\n",
      "329 missing values from variable Lot Frontage\n",
      "1900 missing values from variable Alley\n",
      "1234 missing values from variable Mas Vnr Type\n",
      "22 missing values from variable Mas Vnr Area\n",
      "53 missing values from variable Bsmt Qual\n",
      "53 missing values from variable Bsmt Cond\n",
      "53 missing values from variable Bsmt Exposure\n",
      "53 missing values from variable BsmtFin Type 1\n",
      "53 missing values from variable BsmtFin Type 2\n",
      "997 missing values from variable Fireplace Qu\n",
      "113 missing values from variable Garage Type\n",
      "113 missing values from variable Garage Yr Blt\n",
      "113 missing values from variable Garage Finish\n",
      "113 missing values from variable Garage Qual\n",
      "113 missing values from variable Garage Cond\n",
      "2032 missing values from variable Pool QC\n",
      "1642 missing values from variable Fence\n",
      "1976 missing values from variable Misc Feature\n",
      "\n",
      "Filling missing categorical values with \"DNE\", if we have reason\n",
      "to believe they are not legitimately missing...\n",
      "\n",
      "Checking missing values again... \n",
      "\n",
      "329 missing values from variable Lot Frontage\n",
      "22 missing values from variable Mas Vnr Area\n",
      "\n",
      "Filling missing numeric values with 0... \n",
      "\n",
      "Checking missing values again... \n",
      "\n",
      "No missing values\n"
     ]
    }
   ],
   "source": [
    "df = fill_missings(df, categorical_nums, numeric_names)"
   ]
  },
  {
   "cell_type": "markdown",
   "id": "210fb6aa-16fa-4131-b1cf-fa397c3b17fc",
   "metadata": {},
   "source": [
    "## Data Export: Training Set"
   ]
  },
  {
   "cell_type": "code",
   "execution_count": 10,
   "id": "9cb67d77-5ede-4f10-8daa-f0f1caf6d119",
   "metadata": {},
   "outputs": [],
   "source": [
    "df.to_csv('../datasets/train_cleaned.csv', index=False)"
   ]
  },
  {
   "cell_type": "markdown",
   "id": "2ab9559f-27d6-4d56-829f-680d19333518",
   "metadata": {},
   "source": [
    "## Data Cleaning: Test Set"
   ]
  },
  {
   "cell_type": "code",
   "execution_count": 11,
   "id": "30f8734e-4826-4bdd-8a41-45cd81a0fc65",
   "metadata": {},
   "outputs": [],
   "source": [
    "df = pd.read_csv('../datasets/test_prepared.csv')"
   ]
  },
  {
   "cell_type": "code",
   "execution_count": 12,
   "id": "0446efa3-25c2-4128-81af-c31091200fa2",
   "metadata": {},
   "outputs": [
    {
     "name": "stdout",
     "output_type": "stream",
     "text": [
      "Checking missing values... \n",
      "\n",
      "160 missing values from variable Lot Frontage\n",
      "820 missing values from variable Alley\n",
      "533 missing values from variable Mas Vnr Type\n",
      "1 missing values from variable Mas Vnr Area\n",
      "25 missing values from variable Bsmt Qual\n",
      "25 missing values from variable Bsmt Cond\n",
      "25 missing values from variable Bsmt Exposure\n",
      "25 missing values from variable BsmtFin Type 1\n",
      "25 missing values from variable BsmtFin Type 2\n",
      "422 missing values from variable Fireplace Qu\n",
      "45 missing values from variable Garage Type\n",
      "45 missing values from variable Garage Yr Blt\n",
      "45 missing values from variable Garage Finish\n",
      "45 missing values from variable Garage Qual\n",
      "45 missing values from variable Garage Cond\n",
      "874 missing values from variable Pool QC\n",
      "706 missing values from variable Fence\n",
      "837 missing values from variable Misc Feature\n",
      "\n",
      "Filling missing categorical values with \"DNE\", if we have reason\n",
      "to believe they are not legitimately missing...\n",
      "\n",
      "Checking missing values again... \n",
      "\n",
      "160 missing values from variable Lot Frontage\n",
      "1 missing values from variable Mas Vnr Area\n",
      "\n",
      "Filling missing numeric values with 0... \n",
      "\n",
      "Checking missing values again... \n",
      "\n",
      "No missing values\n"
     ]
    }
   ],
   "source": [
    "df = fill_missings(df, categorical_nums, numeric_names)"
   ]
  },
  {
   "cell_type": "markdown",
   "id": "cd10c4fc-ca14-4f83-bab0-c0e6b30bb93b",
   "metadata": {},
   "source": [
    "## Data Export: Test Set"
   ]
  },
  {
   "cell_type": "code",
   "execution_count": 13,
   "id": "b6465706-a3d6-45b5-8bb4-f17747db97bd",
   "metadata": {},
   "outputs": [],
   "source": [
    "df.to_csv('../datasets/test_cleaned.csv', index=False)"
   ]
  },
  {
   "cell_type": "markdown",
   "id": "af3f2152-5ea5-41a6-b21b-057e2a72c0aa",
   "metadata": {},
   "source": [
    "## What's next?\n",
    "\n",
    "We've cleaned the data and filled in missing values.  All that remains is to convert the data types to convenient formats and then do some feature engineering (e.g., turning categorical variables into dummies or numeric variables).  We'll do so in the [next notebook](./3_data_processing.ipynb)."
   ]
  }
 ],
 "metadata": {
  "kernelspec": {
   "display_name": "Python 3 (ipykernel)",
   "language": "python",
   "name": "python3"
  },
  "language_info": {
   "codemirror_mode": {
    "name": "ipython",
    "version": 3
   },
   "file_extension": ".py",
   "mimetype": "text/x-python",
   "name": "python",
   "nbconvert_exporter": "python",
   "pygments_lexer": "ipython3",
   "version": "3.9.13"
  }
 },
 "nbformat": 4,
 "nbformat_minor": 5
}
