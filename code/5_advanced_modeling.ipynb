{
 "cells": [
  {
   "cell_type": "markdown",
   "id": "ef1775a8-9651-43f2-a271-c53170ef8019",
   "metadata": {},
   "source": [
    "## Summary of this notebook\n",
    "\n",
    "In the [last notebook](./4_modeling.ipynb), we did some modeling of `SalePrice` (or its natural logarithm) as a linear function of various numeric features plus various categorical features that had been `above_below_mid` (abm) encoded.  We did so in an attempt to avoid overfitting: just one-hot encoding all categorical variables would lead to an extremely large number of parameters in our model, so we encoded these categorical variables as -1 (\"below average\"), 0 (\"approximately average\"), or 1 (\"above average\").\n",
    "\n",
    "In this notebook, we take a different approach: we one-hot encode all categorical variables and then use more advanced methods to reduce the number of features in our linear model.  Specifically, we use regularized regressions (LASSO, Ridge, and ElasticNet) to eliminate features / shrink coefficients from our linear models, so as to avoid overfitting.\n",
    "\n",
    "Finally, we compare the results of these \"advanced\" models with our more basic models from the last notebook and come to our conclusions."
   ]
  },
  {
   "cell_type": "code",
   "execution_count": 1,
   "id": "8419ca1e-8fa9-4980-addc-542c589ca768",
   "metadata": {
    "tags": []
   },
   "outputs": [],
   "source": [
    "import numpy as np\n",
    "import pandas as pd\n",
    "import matplotlib.pyplot as plt\n",
    "\n",
    "#sklearn\n",
    "from sklearn.linear_model import LinearRegression, Ridge, RidgeCV, Lasso, LassoCV, ElasticNet, ElasticNetCV\n",
    "from sklearn import metrics\n",
    "from sklearn.model_selection import train_test_split, cross_val_score, GridSearchCV\n",
    "\n",
    "from sklearn.preprocessing import OneHotEncoder, StandardScaler\n",
    "from sklearn.compose import ColumnTransformer, TransformedTargetRegressor\n",
    "from sklearn.pipeline import Pipeline\n",
    "\n",
    "import itertools"
   ]
  },
  {
   "cell_type": "markdown",
   "id": "71de8e1b-d886-4811-b60e-d9ad0ee709c5",
   "metadata": {},
   "source": [
    "## Import training data (but not reserved training data)"
   ]
  },
  {
   "cell_type": "code",
   "execution_count": 2,
   "id": "6ed82bf0-cf2f-4b02-bc63-95b68533580a",
   "metadata": {},
   "outputs": [
    {
     "data": {
      "text/plain": [
       "1734"
      ]
     },
     "execution_count": 2,
     "metadata": {},
     "output_type": "execute_result"
    }
   ],
   "source": [
    "#Data import\n",
    "df = pd.read_csv('../datasets/train_processed.csv')\n",
    "len(df)"
   ]
  },
  {
   "cell_type": "code",
   "execution_count": 3,
   "id": "9d58d007-7066-43d5-a46e-9f0235d9838d",
   "metadata": {},
   "outputs": [
    {
     "name": "stdout",
     "output_type": "stream",
     "text": [
      "Numeric variables include ['Id', 'Lot Frontage', 'Lot Area', 'Lot Shape', 'Utilities']\n",
      "Categorical variables incl ['MS SubClass', 'MS Zoning', 'Street', 'Alley', 'Land Contour']\n"
     ]
    }
   ],
   "source": [
    "#Extract the numeric and categorical features\n",
    "numerics = []\n",
    "categoricals = []\n",
    "\n",
    "for feature in df.dtypes.index:\n",
    "    if (df.dtypes[feature] == 'int64') or (df.dtypes[feature] == 'float64'):\n",
    "        numerics.append(feature)\n",
    "    else:\n",
    "        categoricals.append(feature)\n",
    "        \n",
    "print(f\"Numeric variables include {numerics[:5]}\")\n",
    "print(f\"Categorical variables incl {categoricals[:5]}\")"
   ]
  },
  {
   "cell_type": "code",
   "execution_count": 4,
   "id": "8e00c7d1-7eb7-4727-a7fb-930c154c9d27",
   "metadata": {},
   "outputs": [],
   "source": [
    "#Remove the ID number since it's not predictive, and remove our target variable\n",
    "numerics.remove('Id')\n",
    "numerics.remove('SalePrice')"
   ]
  },
  {
   "cell_type": "markdown",
   "id": "8a28e27f-fd92-488b-b044-f39330133b99",
   "metadata": {},
   "source": [
    "## Read in the reserved data set"
   ]
  },
  {
   "cell_type": "code",
   "execution_count": 5,
   "id": "c6c1bcf2-8920-4772-a8c3-270ac9b903d5",
   "metadata": {},
   "outputs": [],
   "source": [
    "tests = pd.read_csv('../datasets/train_processed_reserved.csv')"
   ]
  },
  {
   "cell_type": "markdown",
   "id": "d5eca92c-fd49-46bc-9f37-6dd72cf2c7a8",
   "metadata": {},
   "source": [
    "# Advanced Regression Modeling"
   ]
  },
  {
   "cell_type": "code",
   "execution_count": 6,
   "id": "9425307b-a1d8-41bf-a0aa-6121c7d85c2b",
   "metadata": {},
   "outputs": [],
   "source": [
    "y = df['SalePrice']"
   ]
  },
  {
   "cell_type": "markdown",
   "id": "e818acaa-bbd0-4a96-b9a2-32cb635bf51d",
   "metadata": {},
   "source": [
    "## LASSO Pipeline\n",
    "\n",
    "Here, we'll create a pipeline to perform the following taks:\n",
    "1. Dummify the categorical varaibles we want to include.\n",
    "2. Standardize all variables.\n",
    "3. Perform a LASSO regularized regression with a particular hyperparameter \"alpha\".\n",
    "\n",
    "Then we'll use `GridSearchCV` to search for the optimal hyperparameter level that maximizes the cross-val score of the resulting linear model."
   ]
  },
  {
   "cell_type": "code",
   "execution_count": 7,
   "id": "76219ec1-c99b-4537-9ba5-08d1feb3cfee",
   "metadata": {},
   "outputs": [],
   "source": [
    "ohe = OneHotEncoder(drop='if_binary', handle_unknown='ignore', sparse=False)"
   ]
  },
  {
   "cell_type": "code",
   "execution_count": 8,
   "id": "5c4d847e-1564-4c0f-9a91-508c414d250e",
   "metadata": {},
   "outputs": [],
   "source": [
    "#Write a column transformer to dummify only the categorical variables\n",
    "dummify_cats = ColumnTransformer(\n",
    " transformers=[\n",
    "     ('ohe', ohe, categoricals)\n",
    " ],\n",
    "    remainder='passthrough'\n",
    ")"
   ]
  },
  {
   "cell_type": "code",
   "execution_count": 9,
   "id": "0e3c7ec9-236a-43b3-ae71-057933b25b0a",
   "metadata": {},
   "outputs": [],
   "source": [
    "#Write a pipline to dummify categorical variables,\n",
    "#then standardize all variables,\n",
    "#then perform a LASSO regularized regression\n",
    "lasso_pipe = Pipeline([\n",
    "    ('dcats', dummify_cats),\n",
    "    ('ss', StandardScaler()),\n",
    "    ('lasso', Lasso(max_iter=10_000))\n",
    "])"
   ]
  },
  {
   "cell_type": "code",
   "execution_count": 10,
   "id": "67e4b09a-8280-4232-9756-15f431e396ff",
   "metadata": {},
   "outputs": [],
   "source": [
    "lasso_params = {\n",
    "    'lasso__alpha': np.logspace(0, 4, 200)\n",
    "}"
   ]
  },
  {
   "cell_type": "code",
   "execution_count": 11,
   "id": "d49158ea-3b90-435a-8f3f-8006d6929770",
   "metadata": {},
   "outputs": [],
   "source": [
    "#Perform a gridsearch to find the optimal LASSO hyperparameter\n",
    "lasso_gridsearch = GridSearchCV(lasso_pipe,     \n",
    "                              lasso_params,\n",
    "                              cv=5,        \n",
    "                              verbose=1,\n",
    "                              n_jobs=-2)"
   ]
  },
  {
   "cell_type": "code",
   "execution_count": 12,
   "id": "801d6663-472e-495b-9199-74fa2b85d972",
   "metadata": {},
   "outputs": [
    {
     "name": "stdout",
     "output_type": "stream",
     "text": [
      "Fitting 5 folds for each of 200 candidates, totalling 1000 fits\n"
     ]
    },
    {
     "data": {
      "text/plain": [
       "GridSearchCV(cv=5,\n",
       "             estimator=Pipeline(steps=[('dcats',\n",
       "                                        ColumnTransformer(remainder='passthrough',\n",
       "                                                          transformers=[('ohe',\n",
       "                                                                         OneHotEncoder(drop='if_binary',\n",
       "                                                                                       handle_unknown='ignore',\n",
       "                                                                                       sparse=False),\n",
       "                                                                         ['MS '\n",
       "                                                                          'SubClass',\n",
       "                                                                          'MS '\n",
       "                                                                          'Zoning',\n",
       "                                                                          'Street',\n",
       "                                                                          'Alley',\n",
       "                                                                          'Land '\n",
       "                                                                          'Contour',\n",
       "                                                                          'Lot '\n",
       "                                                                          'Config',\n",
       "                                                                          'Neighborhood',\n",
       "                                                                          'Condition '\n",
       "                                                                          '1',\n",
       "                                                                          'Condition '\n",
       "                                                                          '2',\n",
       "                                                                          'Bldg '\n",
       "                                                                          'Type',\n",
       "                                                                          'House '\n",
       "                                                                          'Style',\n",
       "                                                                          'Roof '\n",
       "                                                                          'Style',\n",
       "                                                                          'R...\n",
       "       3.44896226e+03, 3.61234270e+03, 3.78346262e+03, 3.96268864e+03,\n",
       "       4.15040476e+03, 4.34701316e+03, 4.55293507e+03, 4.76861170e+03,\n",
       "       4.99450512e+03, 5.23109931e+03, 5.47890118e+03, 5.73844165e+03,\n",
       "       6.01027678e+03, 6.29498899e+03, 6.59318827e+03, 6.90551352e+03,\n",
       "       7.23263390e+03, 7.57525026e+03, 7.93409667e+03, 8.30994195e+03,\n",
       "       8.70359136e+03, 9.11588830e+03, 9.54771611e+03, 1.00000000e+04])},\n",
       "             verbose=1)"
      ]
     },
     "execution_count": 12,
     "metadata": {},
     "output_type": "execute_result"
    }
   ],
   "source": [
    "lasso_gridsearch.fit(df.drop(columns='SalePrice'), y)"
   ]
  },
  {
   "cell_type": "code",
   "execution_count": 13,
   "id": "d76ffc91-7ea1-467c-b1f3-eaab63341efd",
   "metadata": {},
   "outputs": [
    {
     "data": {
      "text/plain": [
       "{'lasso__alpha': 283.3096101839324}"
      ]
     },
     "execution_count": 13,
     "metadata": {},
     "output_type": "execute_result"
    }
   ],
   "source": [
    "#Find the best parameter value\n",
    "lasso_gridsearch.best_params_"
   ]
  },
  {
   "cell_type": "markdown",
   "id": "0257e900-c4db-457d-9921-8f8932dda58a",
   "metadata": {},
   "source": [
    "Let's record the results of this regression.  To do so, we'll write a function:"
   ]
  },
  {
   "cell_type": "code",
   "execution_count": 14,
   "id": "f4429e47-4d05-44b9-8a2b-5fbd0573f797",
   "metadata": {},
   "outputs": [],
   "source": [
    "def results(df, tests, target, model, model_name, results_dict):\n",
    "    '''\n",
    "    Inputs:\n",
    "    df: A training data set (dataframe)\n",
    "    tests: A test data set (dataframe)\n",
    "    target: The variable name to be predicted\n",
    "    model: A fitted GridSearchCV model with .predict methods\n",
    "    model_name: What you want this model to be called in the\n",
    "        outputted pair (a string)\n",
    "    results_dict: A dictionary of the results that have been recorded\n",
    "        so far (using this function on other models)\n",
    "        \n",
    "    Outputs:\n",
    "    Returns the inputted results_dict but adds the item\n",
    "        model_name : [RESULTS]\n",
    "        where [RESULTS] is a dictionary of the results\n",
    "        of that model.\n",
    "    ''' \n",
    "    \n",
    "    X_train = df.drop(columns=target)\n",
    "    X_test = tests.drop(columns=target)\n",
    "    y_train = df[target]\n",
    "    y_test = tests[target]\n",
    "    \n",
    "    bp_dict = model.best_params_\n",
    "    best_hyperparam = \" \".join([f\"{key.split('__')[-1]}: {str( round(value,5) )}\" for key, value in bp_dict.items()])\n",
    "    \n",
    "    results_dict[model_name] = {\n",
    "        'best_hyperparam' : best_hyperparam,\n",
    "        'r2_train' : model.score(X_train, y_train),\n",
    "        'r2_test' : model.score(X_test, y_test),\n",
    "        'mae_train' : metrics.mean_absolute_error(y_train, model.predict(X_train)),\n",
    "        'mae_test' : metrics.mean_absolute_error(y_test, model.predict(X_test)),\n",
    "        'rmse_train' : metrics.mean_squared_error(y_train, model.predict(X_train), squared=False),\n",
    "        'rmse_test' : metrics.mean_squared_error(y_test, model.predict(X_test), squared=False)\n",
    "                }\n",
    "    \n",
    "    return results_dict"
   ]
  },
  {
   "cell_type": "code",
   "execution_count": 15,
   "id": "40148e20-854a-46a7-8574-33b9f5b8699b",
   "metadata": {},
   "outputs": [],
   "source": [
    "results_dict = {}"
   ]
  },
  {
   "cell_type": "code",
   "execution_count": 16,
   "id": "1b67ebc0-749c-45b7-8ea4-1b781b416528",
   "metadata": {},
   "outputs": [],
   "source": [
    "model = lasso_gridsearch\n",
    "model_name = 'LASSO gridsearch'\n",
    "\n",
    "results_dict = results(df, tests, 'SalePrice', model, model_name, results_dict)"
   ]
  },
  {
   "cell_type": "code",
   "execution_count": 17,
   "id": "4778862b-218e-4d70-80c4-d26f940270c5",
   "metadata": {},
   "outputs": [
    {
     "data": {
      "text/html": [
       "<div>\n",
       "<style scoped>\n",
       "    .dataframe tbody tr th:only-of-type {\n",
       "        vertical-align: middle;\n",
       "    }\n",
       "\n",
       "    .dataframe tbody tr th {\n",
       "        vertical-align: top;\n",
       "    }\n",
       "\n",
       "    .dataframe thead th {\n",
       "        text-align: right;\n",
       "    }\n",
       "</style>\n",
       "<table border=\"1\" class=\"dataframe\">\n",
       "  <thead>\n",
       "    <tr style=\"text-align: right;\">\n",
       "      <th></th>\n",
       "      <th>best_hyperparam</th>\n",
       "      <th>r2_train</th>\n",
       "      <th>r2_test</th>\n",
       "      <th>mae_train</th>\n",
       "      <th>mae_test</th>\n",
       "      <th>rmse_train</th>\n",
       "      <th>rmse_test</th>\n",
       "    </tr>\n",
       "  </thead>\n",
       "  <tbody>\n",
       "    <tr>\n",
       "      <th>LASSO gridsearch</th>\n",
       "      <td>alpha: 283.30961</td>\n",
       "      <td>0.937949</td>\n",
       "      <td>0.911396</td>\n",
       "      <td>13794.44189</td>\n",
       "      <td>15884.919076</td>\n",
       "      <td>19696.764324</td>\n",
       "      <td>24055.961883</td>\n",
       "    </tr>\n",
       "  </tbody>\n",
       "</table>\n",
       "</div>"
      ],
      "text/plain": [
       "                   best_hyperparam  r2_train   r2_test    mae_train  \\\n",
       "LASSO gridsearch  alpha: 283.30961  0.937949  0.911396  13794.44189   \n",
       "\n",
       "                      mae_test    rmse_train     rmse_test  \n",
       "LASSO gridsearch  15884.919076  19696.764324  24055.961883  "
      ]
     },
     "execution_count": 17,
     "metadata": {},
     "output_type": "execute_result"
    }
   ],
   "source": [
    "results_df = pd.DataFrame.from_dict(results_dict, orient='index')\n",
    "results_df"
   ]
  },
  {
   "cell_type": "markdown",
   "id": "438c765d-982f-423c-8262-244feef74ed4",
   "metadata": {},
   "source": [
    "## LASSO log-transform"
   ]
  },
  {
   "cell_type": "code",
   "execution_count": 18,
   "id": "cedda0c3-913e-44f6-a8f4-4fdcc7faad06",
   "metadata": {},
   "outputs": [],
   "source": [
    "#Make a log transformer for a LASSO \n",
    "lasso_logreg = TransformedTargetRegressor(\n",
    "    regressor=Lasso(max_iter=10_000),\n",
    "    func = np.log,\n",
    "    inverse_func=np.exp\n",
    ") "
   ]
  },
  {
   "cell_type": "code",
   "execution_count": 19,
   "id": "c4b5186f-24aa-4a3f-9779-6e46d0e8d3bb",
   "metadata": {},
   "outputs": [],
   "source": [
    "#Write a pipline to dummify categorical variables,\n",
    "#then standardize all variables,\n",
    "#then perform a LASSO regularized regression\n",
    "lasso_log_pipe = Pipeline([\n",
    "    ('dcats', dummify_cats),\n",
    "    ('ss', StandardScaler()),\n",
    "    ('ll', lasso_logreg)\n",
    "])"
   ]
  },
  {
   "cell_type": "code",
   "execution_count": 20,
   "id": "12b84d81-a58e-48fb-93aa-b545d183a9df",
   "metadata": {},
   "outputs": [],
   "source": [
    "lasso_log_params = {\n",
    "    'll__regressor__alpha': np.logspace(-4, 0, 200)\n",
    "}"
   ]
  },
  {
   "cell_type": "code",
   "execution_count": 21,
   "id": "23d2d507-0150-4a9a-812b-4d289a7a6d22",
   "metadata": {},
   "outputs": [],
   "source": [
    "#Perform a gridsearch to find the optimal LASSO hyperparameter\n",
    "lasso_log_gridsearch = GridSearchCV(lasso_log_pipe,     \n",
    "                              lasso_log_params,\n",
    "                              cv=5,        \n",
    "                              verbose=1,\n",
    "                              n_jobs=-2)"
   ]
  },
  {
   "cell_type": "code",
   "execution_count": 22,
   "id": "d221ccc6-0b3c-45cb-becb-9af4c92b96fb",
   "metadata": {},
   "outputs": [
    {
     "name": "stdout",
     "output_type": "stream",
     "text": [
      "Fitting 5 folds for each of 200 candidates, totalling 1000 fits\n"
     ]
    },
    {
     "data": {
      "text/plain": [
       "GridSearchCV(cv=5,\n",
       "             estimator=Pipeline(steps=[('dcats',\n",
       "                                        ColumnTransformer(remainder='passthrough',\n",
       "                                                          transformers=[('ohe',\n",
       "                                                                         OneHotEncoder(drop='if_binary',\n",
       "                                                                                       handle_unknown='ignore',\n",
       "                                                                                       sparse=False),\n",
       "                                                                         ['MS '\n",
       "                                                                          'SubClass',\n",
       "                                                                          'MS '\n",
       "                                                                          'Zoning',\n",
       "                                                                          'Street',\n",
       "                                                                          'Alley',\n",
       "                                                                          'Land '\n",
       "                                                                          'Contour',\n",
       "                                                                          'Lot '\n",
       "                                                                          'Config',\n",
       "                                                                          'Neighborhood',\n",
       "                                                                          'Condition '\n",
       "                                                                          '1',\n",
       "                                                                          'Condition '\n",
       "                                                                          '2',\n",
       "                                                                          'Bldg '\n",
       "                                                                          'Type',\n",
       "                                                                          'House '\n",
       "                                                                          'Style',\n",
       "                                                                          'Roof '\n",
       "                                                                          'Style',\n",
       "                                                                          'R...\n",
       "       3.44896226e-01, 3.61234270e-01, 3.78346262e-01, 3.96268864e-01,\n",
       "       4.15040476e-01, 4.34701316e-01, 4.55293507e-01, 4.76861170e-01,\n",
       "       4.99450512e-01, 5.23109931e-01, 5.47890118e-01, 5.73844165e-01,\n",
       "       6.01027678e-01, 6.29498899e-01, 6.59318827e-01, 6.90551352e-01,\n",
       "       7.23263390e-01, 7.57525026e-01, 7.93409667e-01, 8.30994195e-01,\n",
       "       8.70359136e-01, 9.11588830e-01, 9.54771611e-01, 1.00000000e+00])},\n",
       "             verbose=1)"
      ]
     },
     "execution_count": 22,
     "metadata": {},
     "output_type": "execute_result"
    }
   ],
   "source": [
    "lasso_log_gridsearch.fit(df.drop(columns='SalePrice'), y)"
   ]
  },
  {
   "cell_type": "code",
   "execution_count": 23,
   "id": "b22d44c7-ed07-44b7-ac87-37e6ce391644",
   "metadata": {},
   "outputs": [],
   "source": [
    "model = lasso_log_gridsearch\n",
    "model_name = 'LASSO Log(y) gridsearch'\n",
    "\n",
    "results_dict = results(df, tests, 'SalePrice', model, model_name, results_dict)"
   ]
  },
  {
   "cell_type": "code",
   "execution_count": 24,
   "id": "84a11778-9f13-4933-86a6-16130fac7897",
   "metadata": {},
   "outputs": [
    {
     "data": {
      "text/html": [
       "<div>\n",
       "<style scoped>\n",
       "    .dataframe tbody tr th:only-of-type {\n",
       "        vertical-align: middle;\n",
       "    }\n",
       "\n",
       "    .dataframe tbody tr th {\n",
       "        vertical-align: top;\n",
       "    }\n",
       "\n",
       "    .dataframe thead th {\n",
       "        text-align: right;\n",
       "    }\n",
       "</style>\n",
       "<table border=\"1\" class=\"dataframe\">\n",
       "  <thead>\n",
       "    <tr style=\"text-align: right;\">\n",
       "      <th></th>\n",
       "      <th>best_hyperparam</th>\n",
       "      <th>r2_train</th>\n",
       "      <th>r2_test</th>\n",
       "      <th>mae_train</th>\n",
       "      <th>mae_test</th>\n",
       "      <th>rmse_train</th>\n",
       "      <th>rmse_test</th>\n",
       "    </tr>\n",
       "  </thead>\n",
       "  <tbody>\n",
       "    <tr>\n",
       "      <th>LASSO Log(y) gridsearch</th>\n",
       "      <td>alpha: 0.00233</td>\n",
       "      <td>0.952689</td>\n",
       "      <td>0.928585</td>\n",
       "      <td>12033.71688</td>\n",
       "      <td>13463.558197</td>\n",
       "      <td>17198.997617</td>\n",
       "      <td>21596.822248</td>\n",
       "    </tr>\n",
       "    <tr>\n",
       "      <th>LASSO gridsearch</th>\n",
       "      <td>alpha: 283.30961</td>\n",
       "      <td>0.937949</td>\n",
       "      <td>0.911396</td>\n",
       "      <td>13794.44189</td>\n",
       "      <td>15884.919076</td>\n",
       "      <td>19696.764324</td>\n",
       "      <td>24055.961883</td>\n",
       "    </tr>\n",
       "  </tbody>\n",
       "</table>\n",
       "</div>"
      ],
      "text/plain": [
       "                          best_hyperparam  r2_train   r2_test    mae_train  \\\n",
       "LASSO Log(y) gridsearch    alpha: 0.00233  0.952689  0.928585  12033.71688   \n",
       "LASSO gridsearch         alpha: 283.30961  0.937949  0.911396  13794.44189   \n",
       "\n",
       "                             mae_test    rmse_train     rmse_test  \n",
       "LASSO Log(y) gridsearch  13463.558197  17198.997617  21596.822248  \n",
       "LASSO gridsearch         15884.919076  19696.764324  24055.961883  "
      ]
     },
     "execution_count": 24,
     "metadata": {},
     "output_type": "execute_result"
    }
   ],
   "source": [
    "results_df = pd.DataFrame.from_dict(results_dict, orient='index')\n",
    "results_df.sort_values('r2_test', ascending=False)"
   ]
  },
  {
   "cell_type": "markdown",
   "id": "814c8633-e9fd-46c9-b828-a6c5b8bfaeaa",
   "metadata": {},
   "source": [
    "## Summary of results so far\n",
    "\n",
    "The above dataframe contains the results of the optimal (from gridsearch) LASSO regularized regressions.  They are sorted by $R^2$ scores on the reserved (test) data set.\n",
    "\n",
    "As before, it seems that performing a log transfrom on `SalePrice` before running any regressions yields slightly better results.  Thus, for the remainder of our regularized regressions, we will employ this transformation.\n",
    "\n",
    "So far, these results are fairly comparable to the best results from the `above_below_mid` encoded regressions in the last notebook.  The $R^2$ and mean absolute error (mae) scores on the test data set are slightly better with the LASSO Log(y) regression than the best regression from the last notebook, but it's not clear that this slight increase in expected performace is worth the total loss of interpretability that accompanies these sorts of regularized regressions.\n",
    "\n",
    "Below, we will try some Ridge and ElastnicNet regularized regressions."
   ]
  },
  {
   "cell_type": "markdown",
   "id": "03f3c709-8b68-4dd7-98ee-5ea05c7ae1dc",
   "metadata": {},
   "source": [
    "## Ridge Log-Transform"
   ]
  },
  {
   "cell_type": "code",
   "execution_count": 25,
   "id": "2559f4d8-b5db-4b37-85b4-2f79008d2b6f",
   "metadata": {},
   "outputs": [],
   "source": [
    "#Make a log transformer for an ElasticNet regularized regression\n",
    "ridge_logreg = TransformedTargetRegressor(\n",
    "    regressor=Ridge(max_iter=10_000),\n",
    "    func = np.log,\n",
    "    inverse_func=np.exp\n",
    ") "
   ]
  },
  {
   "cell_type": "code",
   "execution_count": 26,
   "id": "906b6533-f2ed-44b6-8c11-fde31219d362",
   "metadata": {},
   "outputs": [],
   "source": [
    "#Write a pipline to dummify categorical variables,\n",
    "#then standardize all variables,\n",
    "#then perform an ElasticNet regularized regression\n",
    "ridge_log_pipe = Pipeline([\n",
    "    ('dcats', dummify_cats),\n",
    "    ('ss', StandardScaler()),\n",
    "    ('rl', ridge_logreg)\n",
    "])"
   ]
  },
  {
   "cell_type": "code",
   "execution_count": 27,
   "id": "296cbcf0-c445-46e8-96e4-946b8931f07d",
   "metadata": {},
   "outputs": [],
   "source": [
    "ridge_log_params = {\n",
    "    'rl__regressor__alpha': np.logspace(-2, 3, 400)\n",
    "}"
   ]
  },
  {
   "cell_type": "code",
   "execution_count": 28,
   "id": "efd13013-7866-4004-b79b-b89a77a4e24e",
   "metadata": {},
   "outputs": [],
   "source": [
    "#Perform a gridsearch to find the optimal ElasticNet hyperparameters\n",
    "ridge_log_gridsearch = GridSearchCV(ridge_log_pipe,     \n",
    "                              ridge_log_params,\n",
    "                              cv=5,        \n",
    "                              verbose=1,\n",
    "                              n_jobs=-2)"
   ]
  },
  {
   "cell_type": "code",
   "execution_count": 29,
   "id": "e92f71d6-dcda-4fc7-a4b5-ace7bdcf316d",
   "metadata": {},
   "outputs": [
    {
     "name": "stdout",
     "output_type": "stream",
     "text": [
      "Fitting 5 folds for each of 400 candidates, totalling 2000 fits\n"
     ]
    },
    {
     "data": {
      "text/plain": [
       "GridSearchCV(cv=5,\n",
       "             estimator=Pipeline(steps=[('dcats',\n",
       "                                        ColumnTransformer(remainder='passthrough',\n",
       "                                                          transformers=[('ohe',\n",
       "                                                                         OneHotEncoder(drop='if_binary',\n",
       "                                                                                       handle_unknown='ignore',\n",
       "                                                                                       sparse=False),\n",
       "                                                                         ['MS '\n",
       "                                                                          'SubClass',\n",
       "                                                                          'MS '\n",
       "                                                                          'Zoning',\n",
       "                                                                          'Street',\n",
       "                                                                          'Alley',\n",
       "                                                                          'Land '\n",
       "                                                                          'Contour',\n",
       "                                                                          'Lot '\n",
       "                                                                          'Config',\n",
       "                                                                          'Neighborhood',\n",
       "                                                                          'Condition '\n",
       "                                                                          '1',\n",
       "                                                                          'Condition '\n",
       "                                                                          '2',\n",
       "                                                                          'Bldg '\n",
       "                                                                          'Type',\n",
       "                                                                          'House '\n",
       "                                                                          'Style',\n",
       "                                                                          'Roof '\n",
       "                                                                          'Style',\n",
       "                                                                          'R...\n",
       "       5.14967058e+02, 5.30042602e+02, 5.45559478e+02, 5.61530608e+02,\n",
       "       5.77969288e+02, 5.94889208e+02, 6.12304454e+02, 6.30229527e+02,\n",
       "       6.48679353e+02, 6.67669294e+02, 6.87215161e+02, 7.07333228e+02,\n",
       "       7.28040247e+02, 7.49353460e+02, 7.71290612e+02, 7.93869969e+02,\n",
       "       8.17110332e+02, 8.41031051e+02, 8.65652043e+02, 8.90993810e+02,\n",
       "       9.17077451e+02, 9.43924684e+02, 9.71557865e+02, 1.00000000e+03])},\n",
       "             verbose=1)"
      ]
     },
     "execution_count": 29,
     "metadata": {},
     "output_type": "execute_result"
    }
   ],
   "source": [
    "ridge_log_gridsearch.fit(df.drop(columns='SalePrice'), y)"
   ]
  },
  {
   "cell_type": "code",
   "execution_count": 30,
   "id": "a72775fa-c7d8-4e88-8d01-5635548947f2",
   "metadata": {},
   "outputs": [],
   "source": [
    "model = ridge_log_gridsearch\n",
    "model_name = 'Ridge Log(y) gridsearch'\n",
    "\n",
    "results_dict = results(df, tests, 'SalePrice', model, model_name, results_dict)"
   ]
  },
  {
   "cell_type": "code",
   "execution_count": 31,
   "id": "4c526c1a-7b4a-45c8-88db-f0bdbc4e15d2",
   "metadata": {
    "tags": []
   },
   "outputs": [
    {
     "data": {
      "text/html": [
       "<div>\n",
       "<style scoped>\n",
       "    .dataframe tbody tr th:only-of-type {\n",
       "        vertical-align: middle;\n",
       "    }\n",
       "\n",
       "    .dataframe tbody tr th {\n",
       "        vertical-align: top;\n",
       "    }\n",
       "\n",
       "    .dataframe thead th {\n",
       "        text-align: right;\n",
       "    }\n",
       "</style>\n",
       "<table border=\"1\" class=\"dataframe\">\n",
       "  <thead>\n",
       "    <tr style=\"text-align: right;\">\n",
       "      <th></th>\n",
       "      <th>best_hyperparam</th>\n",
       "      <th>r2_train</th>\n",
       "      <th>r2_test</th>\n",
       "      <th>mae_train</th>\n",
       "      <th>mae_test</th>\n",
       "      <th>rmse_train</th>\n",
       "      <th>rmse_test</th>\n",
       "    </tr>\n",
       "  </thead>\n",
       "  <tbody>\n",
       "    <tr>\n",
       "      <th>LASSO Log(y) gridsearch</th>\n",
       "      <td>alpha: 0.00233</td>\n",
       "      <td>0.952689</td>\n",
       "      <td>0.928585</td>\n",
       "      <td>12033.71688</td>\n",
       "      <td>13463.558197</td>\n",
       "      <td>17198.997617</td>\n",
       "      <td>21596.822248</td>\n",
       "    </tr>\n",
       "    <tr>\n",
       "      <th>Ridge Log(y) gridsearch</th>\n",
       "      <td>alpha: 182.24332</td>\n",
       "      <td>0.956421</td>\n",
       "      <td>0.920388</td>\n",
       "      <td>11648.14588</td>\n",
       "      <td>14644.860840</td>\n",
       "      <td>16506.690785</td>\n",
       "      <td>22802.593371</td>\n",
       "    </tr>\n",
       "    <tr>\n",
       "      <th>LASSO gridsearch</th>\n",
       "      <td>alpha: 283.30961</td>\n",
       "      <td>0.937949</td>\n",
       "      <td>0.911396</td>\n",
       "      <td>13794.44189</td>\n",
       "      <td>15884.919076</td>\n",
       "      <td>19696.764324</td>\n",
       "      <td>24055.961883</td>\n",
       "    </tr>\n",
       "  </tbody>\n",
       "</table>\n",
       "</div>"
      ],
      "text/plain": [
       "                          best_hyperparam  r2_train   r2_test    mae_train  \\\n",
       "LASSO Log(y) gridsearch    alpha: 0.00233  0.952689  0.928585  12033.71688   \n",
       "Ridge Log(y) gridsearch  alpha: 182.24332  0.956421  0.920388  11648.14588   \n",
       "LASSO gridsearch         alpha: 283.30961  0.937949  0.911396  13794.44189   \n",
       "\n",
       "                             mae_test    rmse_train     rmse_test  \n",
       "LASSO Log(y) gridsearch  13463.558197  17198.997617  21596.822248  \n",
       "Ridge Log(y) gridsearch  14644.860840  16506.690785  22802.593371  \n",
       "LASSO gridsearch         15884.919076  19696.764324  24055.961883  "
      ]
     },
     "execution_count": 31,
     "metadata": {},
     "output_type": "execute_result"
    }
   ],
   "source": [
    "results_df = pd.DataFrame.from_dict(results_dict, orient='index')\n",
    "results_df.sort_values('r2_test', ascending=False)"
   ]
  },
  {
   "cell_type": "markdown",
   "id": "83800d8f-4d3b-487d-969a-9f6ef5f0c5fb",
   "metadata": {},
   "source": [
    "## ElasticNet Log-transform gridsearch"
   ]
  },
  {
   "cell_type": "code",
   "execution_count": 32,
   "id": "8ca649aa-8c38-4c1b-8d12-dd7b2bbbd52c",
   "metadata": {},
   "outputs": [],
   "source": [
    "#Make a log transformer for an ElasticNet regularized regression\n",
    "en_logreg = TransformedTargetRegressor(\n",
    "    regressor=ElasticNet(max_iter=10_000),\n",
    "    func = np.log,\n",
    "    inverse_func=np.exp\n",
    ") "
   ]
  },
  {
   "cell_type": "code",
   "execution_count": 33,
   "id": "a80cb32b-0fb2-4d78-b1bf-9b15799f5629",
   "metadata": {},
   "outputs": [],
   "source": [
    "#Write a pipline to dummify categorical variables,\n",
    "#then standardize all variables,\n",
    "#then perform an ElasticNet regularized regression\n",
    "en_log_pipe = Pipeline([\n",
    "    ('dcats', dummify_cats),\n",
    "    ('ss', StandardScaler()),\n",
    "    ('enl', en_logreg)\n",
    "])"
   ]
  },
  {
   "cell_type": "code",
   "execution_count": 34,
   "id": "afcf6d2f-b812-40b6-b753-b10d86aef64b",
   "metadata": {},
   "outputs": [],
   "source": [
    "en_log_params = {\n",
    "    'enl__regressor__alpha': np.logspace(-3, 3, 200),\n",
    "    'enl__regressor__l1_ratio': np.linspace(0,1,21)\n",
    "}"
   ]
  },
  {
   "cell_type": "code",
   "execution_count": 35,
   "id": "1c77efff-aa0f-48af-b016-8de5abb26f6f",
   "metadata": {},
   "outputs": [],
   "source": [
    "#Perform a gridsearch to find the optimal ElasticNet hyperparameters\n",
    "en_log_gridsearch = GridSearchCV(en_log_pipe,     \n",
    "                              en_log_params,\n",
    "                              cv=5,        \n",
    "                              verbose=1,\n",
    "                              n_jobs=-2)"
   ]
  },
  {
   "cell_type": "code",
   "execution_count": 36,
   "id": "47b83f96-8fb9-4045-ba9d-14b2745dc7c8",
   "metadata": {},
   "outputs": [
    {
     "name": "stdout",
     "output_type": "stream",
     "text": [
      "Fitting 5 folds for each of 4200 candidates, totalling 21000 fits\n"
     ]
    },
    {
     "data": {
      "text/plain": [
       "GridSearchCV(cv=5,\n",
       "             estimator=Pipeline(steps=[('dcats',\n",
       "                                        ColumnTransformer(remainder='passthrough',\n",
       "                                                          transformers=[('ohe',\n",
       "                                                                         OneHotEncoder(drop='if_binary',\n",
       "                                                                                       handle_unknown='ignore',\n",
       "                                                                                       sparse=False),\n",
       "                                                                         ['MS '\n",
       "                                                                          'SubClass',\n",
       "                                                                          'MS '\n",
       "                                                                          'Zoning',\n",
       "                                                                          'Street',\n",
       "                                                                          'Alley',\n",
       "                                                                          'Land '\n",
       "                                                                          'Contour',\n",
       "                                                                          'Lot '\n",
       "                                                                          'Config',\n",
       "                                                                          'Neighborhood',\n",
       "                                                                          'Condition '\n",
       "                                                                          '1',\n",
       "                                                                          'Condition '\n",
       "                                                                          '2',\n",
       "                                                                          'Bldg '\n",
       "                                                                          'Type',\n",
       "                                                                          'House '\n",
       "                                                                          'Style',\n",
       "                                                                          'Roof '\n",
       "                                                                          'Style',\n",
       "                                                                          'R...\n",
       "       3.52970730e+02, 3.78346262e+02, 4.05546074e+02, 4.34701316e+02,\n",
       "       4.65952567e+02, 4.99450512e+02, 5.35356668e+02, 5.73844165e+02,\n",
       "       6.15098579e+02, 6.59318827e+02, 7.06718127e+02, 7.57525026e+02,\n",
       "       8.11984499e+02, 8.70359136e+02, 9.32930403e+02, 1.00000000e+03]),\n",
       "                         'enl__regressor__l1_ratio': array([0.  , 0.05, 0.1 , 0.15, 0.2 , 0.25, 0.3 , 0.35, 0.4 , 0.45, 0.5 ,\n",
       "       0.55, 0.6 , 0.65, 0.7 , 0.75, 0.8 , 0.85, 0.9 , 0.95, 1.  ])},\n",
       "             verbose=1)"
      ]
     },
     "execution_count": 36,
     "metadata": {},
     "output_type": "execute_result"
    }
   ],
   "source": [
    "en_log_gridsearch.fit(df.drop(columns='SalePrice'), y)"
   ]
  },
  {
   "cell_type": "code",
   "execution_count": 37,
   "id": "6ed863bd-01ed-416d-9685-22a88ce3ac72",
   "metadata": {},
   "outputs": [
    {
     "data": {
      "text/plain": [
       "{'enl__regressor__alpha': 0.04552935074866948,\n",
       " 'enl__regressor__l1_ratio': 0.05}"
      ]
     },
     "execution_count": 37,
     "metadata": {},
     "output_type": "execute_result"
    }
   ],
   "source": [
    "en_log_gridsearch.best_params_"
   ]
  },
  {
   "cell_type": "code",
   "execution_count": 38,
   "id": "31ada697-daf4-4bd5-bc36-4c368520d1d5",
   "metadata": {},
   "outputs": [],
   "source": [
    "model = en_log_gridsearch\n",
    "model_name = 'ElasticNet Log(y) gridsearch'\n",
    "\n",
    "results_dict = results(df, tests, 'SalePrice', model, model_name, results_dict)"
   ]
  },
  {
   "cell_type": "code",
   "execution_count": 39,
   "id": "051ddf47-5f39-446e-b7a8-14cd73e71ea8",
   "metadata": {
    "tags": []
   },
   "outputs": [
    {
     "data": {
      "text/html": [
       "<div>\n",
       "<style scoped>\n",
       "    .dataframe tbody tr th:only-of-type {\n",
       "        vertical-align: middle;\n",
       "    }\n",
       "\n",
       "    .dataframe tbody tr th {\n",
       "        vertical-align: top;\n",
       "    }\n",
       "\n",
       "    .dataframe thead th {\n",
       "        text-align: right;\n",
       "    }\n",
       "</style>\n",
       "<table border=\"1\" class=\"dataframe\">\n",
       "  <thead>\n",
       "    <tr style=\"text-align: right;\">\n",
       "      <th></th>\n",
       "      <th>best_hyperparam</th>\n",
       "      <th>r2_train</th>\n",
       "      <th>r2_test</th>\n",
       "      <th>mae_train</th>\n",
       "      <th>mae_test</th>\n",
       "      <th>rmse_train</th>\n",
       "      <th>rmse_test</th>\n",
       "    </tr>\n",
       "  </thead>\n",
       "  <tbody>\n",
       "    <tr>\n",
       "      <th>LASSO Log(y) gridsearch</th>\n",
       "      <td>alpha: 0.00233</td>\n",
       "      <td>0.952689</td>\n",
       "      <td>0.928585</td>\n",
       "      <td>12033.716880</td>\n",
       "      <td>13463.558197</td>\n",
       "      <td>17198.997617</td>\n",
       "      <td>21596.822248</td>\n",
       "    </tr>\n",
       "    <tr>\n",
       "      <th>ElasticNet Log(y) gridsearch</th>\n",
       "      <td>alpha: 0.04553 l1_ratio: 0.05</td>\n",
       "      <td>0.952876</td>\n",
       "      <td>0.927212</td>\n",
       "      <td>12042.889862</td>\n",
       "      <td>13677.910275</td>\n",
       "      <td>17164.911949</td>\n",
       "      <td>21803.539834</td>\n",
       "    </tr>\n",
       "    <tr>\n",
       "      <th>Ridge Log(y) gridsearch</th>\n",
       "      <td>alpha: 182.24332</td>\n",
       "      <td>0.956421</td>\n",
       "      <td>0.920388</td>\n",
       "      <td>11648.145880</td>\n",
       "      <td>14644.860840</td>\n",
       "      <td>16506.690785</td>\n",
       "      <td>22802.593371</td>\n",
       "    </tr>\n",
       "    <tr>\n",
       "      <th>LASSO gridsearch</th>\n",
       "      <td>alpha: 283.30961</td>\n",
       "      <td>0.937949</td>\n",
       "      <td>0.911396</td>\n",
       "      <td>13794.441890</td>\n",
       "      <td>15884.919076</td>\n",
       "      <td>19696.764324</td>\n",
       "      <td>24055.961883</td>\n",
       "    </tr>\n",
       "  </tbody>\n",
       "</table>\n",
       "</div>"
      ],
      "text/plain": [
       "                                            best_hyperparam  r2_train  \\\n",
       "LASSO Log(y) gridsearch                      alpha: 0.00233  0.952689   \n",
       "ElasticNet Log(y) gridsearch  alpha: 0.04553 l1_ratio: 0.05  0.952876   \n",
       "Ridge Log(y) gridsearch                    alpha: 182.24332  0.956421   \n",
       "LASSO gridsearch                           alpha: 283.30961  0.937949   \n",
       "\n",
       "                               r2_test     mae_train      mae_test  \\\n",
       "LASSO Log(y) gridsearch       0.928585  12033.716880  13463.558197   \n",
       "ElasticNet Log(y) gridsearch  0.927212  12042.889862  13677.910275   \n",
       "Ridge Log(y) gridsearch       0.920388  11648.145880  14644.860840   \n",
       "LASSO gridsearch              0.911396  13794.441890  15884.919076   \n",
       "\n",
       "                                rmse_train     rmse_test  \n",
       "LASSO Log(y) gridsearch       17198.997617  21596.822248  \n",
       "ElasticNet Log(y) gridsearch  17164.911949  21803.539834  \n",
       "Ridge Log(y) gridsearch       16506.690785  22802.593371  \n",
       "LASSO gridsearch              19696.764324  24055.961883  "
      ]
     },
     "execution_count": 39,
     "metadata": {},
     "output_type": "execute_result"
    }
   ],
   "source": [
    "results_df = pd.DataFrame.from_dict(results_dict, orient='index')\n",
    "results_df.sort_values('r2_test', ascending=False)"
   ]
  },
  {
   "cell_type": "markdown",
   "id": "1ea450fe-b616-4b67-93fa-bbfcbd0d8751",
   "metadata": {},
   "source": [
    "As we can see, this ElasticNet regularized regression performs best when its $L^1$ ratio is .05: that is, when it's very close to a Ridge regression rather than a LASSO regression.\n",
    "\n",
    "Its performace is slightly worse than our original LASSO Log(y) regression, which makes sense since we used a rather sparse space of parameters for our gridsearch (so it didn't take too much time).  Let's try one more grid search with a much more refined space of hyperparameters, based on our last attempt:"
   ]
  },
  {
   "cell_type": "code",
   "execution_count": 40,
   "id": "d369b379-041b-4dfd-ace7-f5d6045cb27a",
   "metadata": {},
   "outputs": [],
   "source": [
    "refined_enlog_params = {\n",
    "    'enl__regressor__alpha': np.linspace(.035, .055, 101),\n",
    "    'enl__regressor__l1_ratio': np.linspace(.04,.06,21)\n",
    "}"
   ]
  },
  {
   "cell_type": "code",
   "execution_count": 41,
   "id": "38da9ec4-acaf-444a-bdab-5dfe0b2eeae9",
   "metadata": {},
   "outputs": [],
   "source": [
    "#Perform a gridsearch to find the optimal ElasticNet hyperparameters\n",
    "refined_enlog_gridsearch = GridSearchCV(en_log_pipe,     \n",
    "                              refined_enlog_params,\n",
    "                              cv=5,        \n",
    "                              verbose=1,\n",
    "                              n_jobs=-2)"
   ]
  },
  {
   "cell_type": "code",
   "execution_count": 42,
   "id": "161d4b79-f013-4aa9-9a4b-67f71b0acdb8",
   "metadata": {},
   "outputs": [
    {
     "name": "stdout",
     "output_type": "stream",
     "text": [
      "Fitting 5 folds for each of 2121 candidates, totalling 10605 fits\n"
     ]
    },
    {
     "data": {
      "text/plain": [
       "GridSearchCV(cv=5,\n",
       "             estimator=Pipeline(steps=[('dcats',\n",
       "                                        ColumnTransformer(remainder='passthrough',\n",
       "                                                          transformers=[('ohe',\n",
       "                                                                         OneHotEncoder(drop='if_binary',\n",
       "                                                                                       handle_unknown='ignore',\n",
       "                                                                                       sparse=False),\n",
       "                                                                         ['MS '\n",
       "                                                                          'SubClass',\n",
       "                                                                          'MS '\n",
       "                                                                          'Zoning',\n",
       "                                                                          'Street',\n",
       "                                                                          'Alley',\n",
       "                                                                          'Land '\n",
       "                                                                          'Contour',\n",
       "                                                                          'Lot '\n",
       "                                                                          'Config',\n",
       "                                                                          'Neighborhood',\n",
       "                                                                          'Condition '\n",
       "                                                                          '1',\n",
       "                                                                          'Condition '\n",
       "                                                                          '2',\n",
       "                                                                          'Bldg '\n",
       "                                                                          'Type',\n",
       "                                                                          'House '\n",
       "                                                                          'Style',\n",
       "                                                                          'Roof '\n",
       "                                                                          'Style',\n",
       "                                                                          'R...\n",
       "       0.0494, 0.0496, 0.0498, 0.05  , 0.0502, 0.0504, 0.0506, 0.0508,\n",
       "       0.051 , 0.0512, 0.0514, 0.0516, 0.0518, 0.052 , 0.0522, 0.0524,\n",
       "       0.0526, 0.0528, 0.053 , 0.0532, 0.0534, 0.0536, 0.0538, 0.054 ,\n",
       "       0.0542, 0.0544, 0.0546, 0.0548, 0.055 ]),\n",
       "                         'enl__regressor__l1_ratio': array([0.04 , 0.041, 0.042, 0.043, 0.044, 0.045, 0.046, 0.047, 0.048,\n",
       "       0.049, 0.05 , 0.051, 0.052, 0.053, 0.054, 0.055, 0.056, 0.057,\n",
       "       0.058, 0.059, 0.06 ])},\n",
       "             verbose=1)"
      ]
     },
     "execution_count": 42,
     "metadata": {},
     "output_type": "execute_result"
    }
   ],
   "source": [
    "refined_enlog_gridsearch.fit(df.drop(columns='SalePrice'), y)"
   ]
  },
  {
   "cell_type": "code",
   "execution_count": 43,
   "id": "80b49700-dad3-46cd-a9ae-31716160aee2",
   "metadata": {},
   "outputs": [],
   "source": [
    "model = refined_enlog_gridsearch\n",
    "model_name = 'Refined ElasticNet Log(y) gridsearch'\n",
    "\n",
    "results_dict = results(df, tests, 'SalePrice', model, model_name, results_dict)"
   ]
  },
  {
   "cell_type": "code",
   "execution_count": 44,
   "id": "812511ac-7d2d-4e61-ab5d-2ee246ad5c6c",
   "metadata": {
    "tags": []
   },
   "outputs": [
    {
     "data": {
      "text/html": [
       "<div>\n",
       "<style scoped>\n",
       "    .dataframe tbody tr th:only-of-type {\n",
       "        vertical-align: middle;\n",
       "    }\n",
       "\n",
       "    .dataframe tbody tr th {\n",
       "        vertical-align: top;\n",
       "    }\n",
       "\n",
       "    .dataframe thead th {\n",
       "        text-align: right;\n",
       "    }\n",
       "</style>\n",
       "<table border=\"1\" class=\"dataframe\">\n",
       "  <thead>\n",
       "    <tr style=\"text-align: right;\">\n",
       "      <th></th>\n",
       "      <th>best_hyperparam</th>\n",
       "      <th>r2_train</th>\n",
       "      <th>r2_test</th>\n",
       "      <th>mae_train</th>\n",
       "      <th>mae_test</th>\n",
       "      <th>rmse_train</th>\n",
       "      <th>rmse_test</th>\n",
       "    </tr>\n",
       "  </thead>\n",
       "  <tbody>\n",
       "    <tr>\n",
       "      <th>LASSO Log(y) gridsearch</th>\n",
       "      <td>alpha: 0.00233</td>\n",
       "      <td>0.952689</td>\n",
       "      <td>0.928585</td>\n",
       "      <td>12033.716880</td>\n",
       "      <td>13463.558197</td>\n",
       "      <td>17198.997617</td>\n",
       "      <td>21596.822248</td>\n",
       "    </tr>\n",
       "    <tr>\n",
       "      <th>Refined ElasticNet Log(y) gridsearch</th>\n",
       "      <td>alpha: 0.0448 l1_ratio: 0.05</td>\n",
       "      <td>0.952969</td>\n",
       "      <td>0.927259</td>\n",
       "      <td>12033.739171</td>\n",
       "      <td>13678.306841</td>\n",
       "      <td>17147.883627</td>\n",
       "      <td>21796.487489</td>\n",
       "    </tr>\n",
       "    <tr>\n",
       "      <th>ElasticNet Log(y) gridsearch</th>\n",
       "      <td>alpha: 0.04553 l1_ratio: 0.05</td>\n",
       "      <td>0.952876</td>\n",
       "      <td>0.927212</td>\n",
       "      <td>12042.889862</td>\n",
       "      <td>13677.910275</td>\n",
       "      <td>17164.911949</td>\n",
       "      <td>21803.539834</td>\n",
       "    </tr>\n",
       "    <tr>\n",
       "      <th>Ridge Log(y) gridsearch</th>\n",
       "      <td>alpha: 182.24332</td>\n",
       "      <td>0.956421</td>\n",
       "      <td>0.920388</td>\n",
       "      <td>11648.145880</td>\n",
       "      <td>14644.860840</td>\n",
       "      <td>16506.690785</td>\n",
       "      <td>22802.593371</td>\n",
       "    </tr>\n",
       "    <tr>\n",
       "      <th>LASSO gridsearch</th>\n",
       "      <td>alpha: 283.30961</td>\n",
       "      <td>0.937949</td>\n",
       "      <td>0.911396</td>\n",
       "      <td>13794.441890</td>\n",
       "      <td>15884.919076</td>\n",
       "      <td>19696.764324</td>\n",
       "      <td>24055.961883</td>\n",
       "    </tr>\n",
       "  </tbody>\n",
       "</table>\n",
       "</div>"
      ],
      "text/plain": [
       "                                                    best_hyperparam  r2_train  \\\n",
       "LASSO Log(y) gridsearch                              alpha: 0.00233  0.952689   \n",
       "Refined ElasticNet Log(y) gridsearch   alpha: 0.0448 l1_ratio: 0.05  0.952969   \n",
       "ElasticNet Log(y) gridsearch          alpha: 0.04553 l1_ratio: 0.05  0.952876   \n",
       "Ridge Log(y) gridsearch                            alpha: 182.24332  0.956421   \n",
       "LASSO gridsearch                                   alpha: 283.30961  0.937949   \n",
       "\n",
       "                                       r2_test     mae_train      mae_test  \\\n",
       "LASSO Log(y) gridsearch               0.928585  12033.716880  13463.558197   \n",
       "Refined ElasticNet Log(y) gridsearch  0.927259  12033.739171  13678.306841   \n",
       "ElasticNet Log(y) gridsearch          0.927212  12042.889862  13677.910275   \n",
       "Ridge Log(y) gridsearch               0.920388  11648.145880  14644.860840   \n",
       "LASSO gridsearch                      0.911396  13794.441890  15884.919076   \n",
       "\n",
       "                                        rmse_train     rmse_test  \n",
       "LASSO Log(y) gridsearch               17198.997617  21596.822248  \n",
       "Refined ElasticNet Log(y) gridsearch  17147.883627  21796.487489  \n",
       "ElasticNet Log(y) gridsearch          17164.911949  21803.539834  \n",
       "Ridge Log(y) gridsearch               16506.690785  22802.593371  \n",
       "LASSO gridsearch                      19696.764324  24055.961883  "
      ]
     },
     "execution_count": 44,
     "metadata": {},
     "output_type": "execute_result"
    }
   ],
   "source": [
    "results_df = pd.DataFrame.from_dict(results_dict, orient='index')\n",
    "results_df.sort_values('r2_test', ascending=False)"
   ]
  },
  {
   "cell_type": "markdown",
   "id": "92c6962e-81b6-45f0-ae00-878463408133",
   "metadata": {},
   "source": [
    "## A more refined LASSO regression"
   ]
  },
  {
   "cell_type": "code",
   "execution_count": 45,
   "id": "f6839c00-3a13-497f-b6be-ce07588fa21f",
   "metadata": {},
   "outputs": [],
   "source": [
    "refined_lassolog_params = {\n",
    "    'll__regressor__alpha': np.linspace(.0005, .0035, 400)\n",
    "}"
   ]
  },
  {
   "cell_type": "code",
   "execution_count": 46,
   "id": "feab5208-ca0b-4cd5-b63b-1e91ab027d86",
   "metadata": {},
   "outputs": [],
   "source": [
    "#Perform a gridsearch to find the optimal LASSO hyperparameter\n",
    "refined_lassolog_gridsearch = GridSearchCV(lasso_log_pipe,     \n",
    "                              refined_lassolog_params,\n",
    "                              cv=5,        \n",
    "                              verbose=1,\n",
    "                              n_jobs=-2)"
   ]
  },
  {
   "cell_type": "code",
   "execution_count": 47,
   "id": "e9114375-dd98-4b18-b4ea-1ec668a0422c",
   "metadata": {},
   "outputs": [
    {
     "name": "stdout",
     "output_type": "stream",
     "text": [
      "Fitting 5 folds for each of 400 candidates, totalling 2000 fits\n"
     ]
    },
    {
     "data": {
      "text/plain": [
       "GridSearchCV(cv=5,\n",
       "             estimator=Pipeline(steps=[('dcats',\n",
       "                                        ColumnTransformer(remainder='passthrough',\n",
       "                                                          transformers=[('ohe',\n",
       "                                                                         OneHotEncoder(drop='if_binary',\n",
       "                                                                                       handle_unknown='ignore',\n",
       "                                                                                       sparse=False),\n",
       "                                                                         ['MS '\n",
       "                                                                          'SubClass',\n",
       "                                                                          'MS '\n",
       "                                                                          'Zoning',\n",
       "                                                                          'Street',\n",
       "                                                                          'Alley',\n",
       "                                                                          'Land '\n",
       "                                                                          'Contour',\n",
       "                                                                          'Lot '\n",
       "                                                                          'Config',\n",
       "                                                                          'Neighborhood',\n",
       "                                                                          'Condition '\n",
       "                                                                          '1',\n",
       "                                                                          'Condition '\n",
       "                                                                          '2',\n",
       "                                                                          'Bldg '\n",
       "                                                                          'Type',\n",
       "                                                                          'House '\n",
       "                                                                          'Style',\n",
       "                                                                          'Roof '\n",
       "                                                                          'Style',\n",
       "                                                                          'R...\n",
       "       0.00324436, 0.00325188, 0.0032594 , 0.00326692, 0.00327444,\n",
       "       0.00328195, 0.00328947, 0.00329699, 0.00330451, 0.00331203,\n",
       "       0.00331955, 0.00332707, 0.00333459, 0.00334211, 0.00334962,\n",
       "       0.00335714, 0.00336466, 0.00337218, 0.0033797 , 0.00338722,\n",
       "       0.00339474, 0.00340226, 0.00340977, 0.00341729, 0.00342481,\n",
       "       0.00343233, 0.00343985, 0.00344737, 0.00345489, 0.00346241,\n",
       "       0.00346992, 0.00347744, 0.00348496, 0.00349248, 0.0035    ])},\n",
       "             verbose=1)"
      ]
     },
     "execution_count": 47,
     "metadata": {},
     "output_type": "execute_result"
    }
   ],
   "source": [
    "refined_lassolog_gridsearch.fit(df.drop(columns='SalePrice'), y)"
   ]
  },
  {
   "cell_type": "code",
   "execution_count": 48,
   "id": "a865d8d3-e431-4115-b404-15ee237ca540",
   "metadata": {},
   "outputs": [],
   "source": [
    "model = refined_lassolog_gridsearch\n",
    "model_name = 'Refined LASSO Log(y) gridsearch'\n",
    "\n",
    "results_dict = results(df, tests, 'SalePrice', model, model_name, results_dict)"
   ]
  },
  {
   "cell_type": "code",
   "execution_count": 49,
   "id": "b7f7c19d-f9b6-49ca-a617-65a452804be7",
   "metadata": {
    "tags": []
   },
   "outputs": [
    {
     "data": {
      "text/html": [
       "<div>\n",
       "<style scoped>\n",
       "    .dataframe tbody tr th:only-of-type {\n",
       "        vertical-align: middle;\n",
       "    }\n",
       "\n",
       "    .dataframe tbody tr th {\n",
       "        vertical-align: top;\n",
       "    }\n",
       "\n",
       "    .dataframe thead th {\n",
       "        text-align: right;\n",
       "    }\n",
       "</style>\n",
       "<table border=\"1\" class=\"dataframe\">\n",
       "  <thead>\n",
       "    <tr style=\"text-align: right;\">\n",
       "      <th></th>\n",
       "      <th>best_hyperparam</th>\n",
       "      <th>r2_train</th>\n",
       "      <th>r2_test</th>\n",
       "      <th>mae_train</th>\n",
       "      <th>mae_test</th>\n",
       "      <th>rmse_train</th>\n",
       "      <th>rmse_test</th>\n",
       "    </tr>\n",
       "  </thead>\n",
       "  <tbody>\n",
       "    <tr>\n",
       "      <th>LASSO Log(y) gridsearch</th>\n",
       "      <td>alpha: 0.00233</td>\n",
       "      <td>0.952689</td>\n",
       "      <td>0.928585</td>\n",
       "      <td>12033.716880</td>\n",
       "      <td>13463.558197</td>\n",
       "      <td>17198.997617</td>\n",
       "      <td>21596.822248</td>\n",
       "    </tr>\n",
       "    <tr>\n",
       "      <th>Refined LASSO Log(y) gridsearch</th>\n",
       "      <td>alpha: 0.00233</td>\n",
       "      <td>0.952670</td>\n",
       "      <td>0.928582</td>\n",
       "      <td>12035.498267</td>\n",
       "      <td>13463.161311</td>\n",
       "      <td>17202.303149</td>\n",
       "      <td>21597.362742</td>\n",
       "    </tr>\n",
       "    <tr>\n",
       "      <th>Refined ElasticNet Log(y) gridsearch</th>\n",
       "      <td>alpha: 0.0448 l1_ratio: 0.05</td>\n",
       "      <td>0.952969</td>\n",
       "      <td>0.927259</td>\n",
       "      <td>12033.739171</td>\n",
       "      <td>13678.306841</td>\n",
       "      <td>17147.883627</td>\n",
       "      <td>21796.487489</td>\n",
       "    </tr>\n",
       "    <tr>\n",
       "      <th>ElasticNet Log(y) gridsearch</th>\n",
       "      <td>alpha: 0.04553 l1_ratio: 0.05</td>\n",
       "      <td>0.952876</td>\n",
       "      <td>0.927212</td>\n",
       "      <td>12042.889862</td>\n",
       "      <td>13677.910275</td>\n",
       "      <td>17164.911949</td>\n",
       "      <td>21803.539834</td>\n",
       "    </tr>\n",
       "    <tr>\n",
       "      <th>Ridge Log(y) gridsearch</th>\n",
       "      <td>alpha: 182.24332</td>\n",
       "      <td>0.956421</td>\n",
       "      <td>0.920388</td>\n",
       "      <td>11648.145880</td>\n",
       "      <td>14644.860840</td>\n",
       "      <td>16506.690785</td>\n",
       "      <td>22802.593371</td>\n",
       "    </tr>\n",
       "    <tr>\n",
       "      <th>LASSO gridsearch</th>\n",
       "      <td>alpha: 283.30961</td>\n",
       "      <td>0.937949</td>\n",
       "      <td>0.911396</td>\n",
       "      <td>13794.441890</td>\n",
       "      <td>15884.919076</td>\n",
       "      <td>19696.764324</td>\n",
       "      <td>24055.961883</td>\n",
       "    </tr>\n",
       "  </tbody>\n",
       "</table>\n",
       "</div>"
      ],
      "text/plain": [
       "                                                    best_hyperparam  r2_train  \\\n",
       "LASSO Log(y) gridsearch                              alpha: 0.00233  0.952689   \n",
       "Refined LASSO Log(y) gridsearch                      alpha: 0.00233  0.952670   \n",
       "Refined ElasticNet Log(y) gridsearch   alpha: 0.0448 l1_ratio: 0.05  0.952969   \n",
       "ElasticNet Log(y) gridsearch          alpha: 0.04553 l1_ratio: 0.05  0.952876   \n",
       "Ridge Log(y) gridsearch                            alpha: 182.24332  0.956421   \n",
       "LASSO gridsearch                                   alpha: 283.30961  0.937949   \n",
       "\n",
       "                                       r2_test     mae_train      mae_test  \\\n",
       "LASSO Log(y) gridsearch               0.928585  12033.716880  13463.558197   \n",
       "Refined LASSO Log(y) gridsearch       0.928582  12035.498267  13463.161311   \n",
       "Refined ElasticNet Log(y) gridsearch  0.927259  12033.739171  13678.306841   \n",
       "ElasticNet Log(y) gridsearch          0.927212  12042.889862  13677.910275   \n",
       "Ridge Log(y) gridsearch               0.920388  11648.145880  14644.860840   \n",
       "LASSO gridsearch                      0.911396  13794.441890  15884.919076   \n",
       "\n",
       "                                        rmse_train     rmse_test  \n",
       "LASSO Log(y) gridsearch               17198.997617  21596.822248  \n",
       "Refined LASSO Log(y) gridsearch       17202.303149  21597.362742  \n",
       "Refined ElasticNet Log(y) gridsearch  17147.883627  21796.487489  \n",
       "ElasticNet Log(y) gridsearch          17164.911949  21803.539834  \n",
       "Ridge Log(y) gridsearch               16506.690785  22802.593371  \n",
       "LASSO gridsearch                      19696.764324  24055.961883  "
      ]
     },
     "execution_count": 49,
     "metadata": {},
     "output_type": "execute_result"
    }
   ],
   "source": [
    "results_df = pd.DataFrame.from_dict(results_dict, orient='index')\n",
    "results_df.sort_values('r2_test', ascending=False)"
   ]
  },
  {
   "cell_type": "markdown",
   "id": "153e59cd-a931-450d-b170-fe9862242ff2",
   "metadata": {},
   "source": [
    "## Discussion of Results\n",
    "\n",
    "As we can see, our refined ElasticNet model does ever-so-slightly better than our best LASSO model in terms of $R^2$ on the training data set, but it does ever-so-slightly worse in terms of $R^2$ on the test data set.  Thus, the best LASSO and ElasticNet models seem to have roughly comparable explanatory power, even though the ElasticNet model's optimal `l1_ratio` hyperparameter makes it pretty close to a Ridge regression."
   ]
  },
  {
   "cell_type": "markdown",
   "id": "491bd9ba-f3b2-4cf4-b7aa-7be39d820396",
   "metadata": {},
   "source": [
    "## Aside: Making a Kaggle submission using a pipeline"
   ]
  },
  {
   "cell_type": "code",
   "execution_count": 50,
   "id": "b384c9d4-0c24-4399-b07e-0f53475a25ca",
   "metadata": {},
   "outputs": [],
   "source": [
    "kaggle = pd.read_csv('../datasets/test_processed.csv')"
   ]
  },
  {
   "cell_type": "code",
   "execution_count": 51,
   "id": "a0ee34c4-6461-4706-a316-b9dfeb44c4a4",
   "metadata": {},
   "outputs": [
    {
     "data": {
      "text/plain": [
       "2040"
      ]
     },
     "execution_count": 51,
     "metadata": {},
     "output_type": "execute_result"
    }
   ],
   "source": [
    "#Make a new dataset using both our training data and our reserved data\n",
    "#(The model will be tested on the Kaggle data)\n",
    "\n",
    "X = pd.concat([df.drop(columns='SalePrice'), tests.drop(columns='SalePrice')])\n",
    "y = pd.concat([df['SalePrice'], tests['SalePrice']])\n",
    "len(X)"
   ]
  },
  {
   "cell_type": "code",
   "execution_count": 52,
   "id": "c56f110d-bc5c-4b64-b4fc-260ded8dc83d",
   "metadata": {},
   "outputs": [
    {
     "name": "stdout",
     "output_type": "stream",
     "text": [
      "Fitting 5 folds for each of 400 candidates, totalling 2000 fits\n"
     ]
    },
    {
     "data": {
      "text/plain": [
       "GridSearchCV(cv=5,\n",
       "             estimator=Pipeline(steps=[('dcats',\n",
       "                                        ColumnTransformer(remainder='passthrough',\n",
       "                                                          transformers=[('ohe',\n",
       "                                                                         OneHotEncoder(drop='if_binary',\n",
       "                                                                                       handle_unknown='ignore',\n",
       "                                                                                       sparse=False),\n",
       "                                                                         ['MS '\n",
       "                                                                          'SubClass',\n",
       "                                                                          'MS '\n",
       "                                                                          'Zoning',\n",
       "                                                                          'Street',\n",
       "                                                                          'Alley',\n",
       "                                                                          'Land '\n",
       "                                                                          'Contour',\n",
       "                                                                          'Lot '\n",
       "                                                                          'Config',\n",
       "                                                                          'Neighborhood',\n",
       "                                                                          'Condition '\n",
       "                                                                          '1',\n",
       "                                                                          'Condition '\n",
       "                                                                          '2',\n",
       "                                                                          'Bldg '\n",
       "                                                                          'Type',\n",
       "                                                                          'House '\n",
       "                                                                          'Style',\n",
       "                                                                          'Roof '\n",
       "                                                                          'Style',\n",
       "                                                                          'R...\n",
       "       0.00324436, 0.00325188, 0.0032594 , 0.00326692, 0.00327444,\n",
       "       0.00328195, 0.00328947, 0.00329699, 0.00330451, 0.00331203,\n",
       "       0.00331955, 0.00332707, 0.00333459, 0.00334211, 0.00334962,\n",
       "       0.00335714, 0.00336466, 0.00337218, 0.0033797 , 0.00338722,\n",
       "       0.00339474, 0.00340226, 0.00340977, 0.00341729, 0.00342481,\n",
       "       0.00343233, 0.00343985, 0.00344737, 0.00345489, 0.00346241,\n",
       "       0.00346992, 0.00347744, 0.00348496, 0.00349248, 0.0035    ])},\n",
       "             verbose=1)"
      ]
     },
     "execution_count": 52,
     "metadata": {},
     "output_type": "execute_result"
    }
   ],
   "source": [
    "#Choose the model\n",
    "model = refined_lassolog_gridsearch\n",
    "\n",
    "model.fit(X, y)"
   ]
  },
  {
   "cell_type": "code",
   "execution_count": 53,
   "id": "f2a0c3a6-dbe6-4f6f-bddb-f3e789d2b371",
   "metadata": {},
   "outputs": [],
   "source": [
    "kaggle_preds = model.predict(kaggle)"
   ]
  },
  {
   "cell_type": "code",
   "execution_count": 54,
   "id": "8eae9dca-00ff-49aa-957c-b5092d376166",
   "metadata": {},
   "outputs": [
    {
     "data": {
      "text/html": [
       "<div>\n",
       "<style scoped>\n",
       "    .dataframe tbody tr th:only-of-type {\n",
       "        vertical-align: middle;\n",
       "    }\n",
       "\n",
       "    .dataframe tbody tr th {\n",
       "        vertical-align: top;\n",
       "    }\n",
       "\n",
       "    .dataframe thead th {\n",
       "        text-align: right;\n",
       "    }\n",
       "</style>\n",
       "<table border=\"1\" class=\"dataframe\">\n",
       "  <thead>\n",
       "    <tr style=\"text-align: right;\">\n",
       "      <th></th>\n",
       "      <th>Id</th>\n",
       "      <th>SalePrice</th>\n",
       "    </tr>\n",
       "  </thead>\n",
       "  <tbody>\n",
       "    <tr>\n",
       "      <th>0</th>\n",
       "      <td>2658</td>\n",
       "      <td>111880.089205</td>\n",
       "    </tr>\n",
       "    <tr>\n",
       "      <th>1</th>\n",
       "      <td>2718</td>\n",
       "      <td>160007.543064</td>\n",
       "    </tr>\n",
       "    <tr>\n",
       "      <th>2</th>\n",
       "      <td>2414</td>\n",
       "      <td>209796.919544</td>\n",
       "    </tr>\n",
       "    <tr>\n",
       "      <th>3</th>\n",
       "      <td>1989</td>\n",
       "      <td>103680.093415</td>\n",
       "    </tr>\n",
       "    <tr>\n",
       "      <th>4</th>\n",
       "      <td>625</td>\n",
       "      <td>171396.924955</td>\n",
       "    </tr>\n",
       "  </tbody>\n",
       "</table>\n",
       "</div>"
      ],
      "text/plain": [
       "     Id      SalePrice\n",
       "0  2658  111880.089205\n",
       "1  2718  160007.543064\n",
       "2  2414  209796.919544\n",
       "3  1989  103680.093415\n",
       "4   625  171396.924955"
      ]
     },
     "execution_count": 54,
     "metadata": {},
     "output_type": "execute_result"
    }
   ],
   "source": [
    "kaggle['SalePrice'] = kaggle_preds\n",
    "output = kaggle[['Id', 'SalePrice']]\n",
    "output.head()"
   ]
  },
  {
   "cell_type": "code",
   "execution_count": 55,
   "id": "3a4f15bd-b431-4e83-9a74-7330e6cd7c3b",
   "metadata": {},
   "outputs": [],
   "source": [
    "#Change this cell with the name of the csv to be exported\n",
    "output_filename = 'lasso_predictions'\n",
    "\n",
    "output.to_csv(f'../datasets/kaggle_submissions/{output_filename}.csv', index=False)"
   ]
  },
  {
   "cell_type": "markdown",
   "id": "36609aba-98ec-4d2d-8651-6d7ad1e829f1",
   "metadata": {},
   "source": [
    "# Conclusions"
   ]
  },
  {
   "cell_type": "markdown",
   "id": "0ed32ce2-11a9-4fae-8312-2095561c51f7",
   "metadata": {},
   "source": [
    "We have learned that it is certainly possible to make relatively accurate predictions of the sale prices of homes in Ames, Iowa using the features in our data set.  To get the best predictions, we one-hot encoded the categorical variables in the data set then employed a hyperparameter grid search using LASSO and ElasticNet regularized regressions.  The best-performing models selected in this way achieved $R^2$ scores of about .9286 on the reserved test data, meaning that they can explain about 92.86% if the variability of homes' sale prices using the features they include.  They achieved a mean abolute error of about 13463, meaning their predictions were off by $13,460 or so on average.\n",
    "\n",
    "However, when compared to the simpler regression models from [the last notebook](./4_modeling.ipynb), the added performance of these regularized models may not be worth their lack of interpretability.\n",
    "\n",
    "The models in the previous notebook were created using `above_below_mid` encoding on the categorical features.  While such an encoding makes us unable to see *exactly which values* of a categorical variable contribute most strongly to `SalePrice`, it allows us to include a much larger number of categorical variables in our model without overfitting.  Thus, it gives us much more power to see *which categorical variables contribute to `SalePrice`* while maintaining confidence that our predictions will be reasonably accurate outside of the data on which our model was trained.\n",
    "\n",
    "Altogether, the best models of `SalePrice` predicted the log of `SalePrice`.  This was true both for our simple linear regressions and our regularized regressions.  The best simple model was found using a gridsearch over the minimum-correlation-with-`SalePrice` thresholds for categorical and numeric variables; it included 32 numeric variables and 12 categorical variables and achieved an $R^2$ score of .915 on the test data and a mean absolute error of 15,312 on the test data.  These scores are certainly not as good as the corresponding $R^2 = .9286$ and MAE=13,463 scores achieved by the regularized models, but they are not very far off.  Since its performance scores are quite high and it is interpretable, **our production model is the one explored at then end of the previous notebook**."
   ]
  }
 ],
 "metadata": {
  "kernelspec": {
   "display_name": "Python 3 (ipykernel)",
   "language": "python",
   "name": "python3"
  },
  "language_info": {
   "codemirror_mode": {
    "name": "ipython",
    "version": 3
   },
   "file_extension": ".py",
   "mimetype": "text/x-python",
   "name": "python",
   "nbconvert_exporter": "python",
   "pygments_lexer": "ipython3",
   "version": "3.9.13"
  }
 },
 "nbformat": 4,
 "nbformat_minor": 5
}
