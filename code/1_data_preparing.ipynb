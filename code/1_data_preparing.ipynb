{
 "cells": [
  {
   "cell_type": "markdown",
   "id": "d3f6f2e1-b5ee-4978-9a2a-9c6f69a218a3",
   "metadata": {},
   "source": [
    "Problem Statement: Make sure to state the metric we're using to evaluate fit!  In our case, it's RMSE."
   ]
  },
  {
   "cell_type": "markdown",
   "id": "982a7b44-a663-4003-852a-6b48a99b3733",
   "metadata": {},
   "source": [
    "# Imports"
   ]
  },
  {
   "cell_type": "code",
   "execution_count": 1,
   "id": "1980ac1b-1612-4972-8b47-8b6a0fb6a4b3",
   "metadata": {},
   "outputs": [],
   "source": [
    "# Import packages\n",
    "import numpy as np\n",
    "import pandas as pd\n",
    "import matplotlib.pyplot as plt\n"
   ]
  },
  {
   "cell_type": "markdown",
   "id": "2bf754b1-08e6-4722-9ad1-5db3cb7148f0",
   "metadata": {},
   "source": [
    "# Data Import: Training Set"
   ]
  },
  {
   "cell_type": "code",
   "execution_count": 2,
   "id": "bb50d27d-3ebb-4bad-9d7c-4e48b5bb329b",
   "metadata": {},
   "outputs": [],
   "source": [
    "#Import data\n",
    "df = pd.read_csv('../datasets/train.csv')"
   ]
  },
  {
   "cell_type": "markdown",
   "id": "04fdb431-fe3e-4673-98a2-22f0004a4ac0",
   "metadata": {},
   "source": [
    "# Checking Missing Values"
   ]
  },
  {
   "cell_type": "code",
   "execution_count": 3,
   "id": "cb4eb537-d02a-4b4c-b61d-9baf78833308",
   "metadata": {},
   "outputs": [
    {
     "name": "stdout",
     "output_type": "stream",
     "text": [
      "330 missing values from variable Lot Frontage\n",
      "1911 missing values from variable Alley\n",
      "22 missing values from variable Mas Vnr Type\n",
      "22 missing values from variable Mas Vnr Area\n",
      "55 missing values from variable Bsmt Qual\n",
      "55 missing values from variable Bsmt Cond\n",
      "58 missing values from variable Bsmt Exposure\n",
      "55 missing values from variable BsmtFin Type 1\n",
      "1 missing values from variable BsmtFin SF 1\n",
      "56 missing values from variable BsmtFin Type 2\n",
      "1 missing values from variable BsmtFin SF 2\n",
      "1 missing values from variable Bsmt Unf SF\n",
      "1 missing values from variable Total Bsmt SF\n",
      "2 missing values from variable Bsmt Full Bath\n",
      "2 missing values from variable Bsmt Half Bath\n",
      "1000 missing values from variable Fireplace Qu\n",
      "113 missing values from variable Garage Type\n",
      "114 missing values from variable Garage Yr Blt\n",
      "114 missing values from variable Garage Finish\n",
      "1 missing values from variable Garage Cars\n",
      "1 missing values from variable Garage Area\n",
      "114 missing values from variable Garage Qual\n",
      "114 missing values from variable Garage Cond\n",
      "2042 missing values from variable Pool QC\n",
      "1651 missing values from variable Fence\n",
      "1986 missing values from variable Misc Feature\n"
     ]
    }
   ],
   "source": [
    "#Look for missing values\n",
    "variables_with_missing = df.isnull().sum().index\n",
    "missing_nos = df.isnull().sum().values\n",
    "\n",
    "for i in range(len(variables_with_missing)):\n",
    "    if missing_nos[i] != 0:\n",
    "        print(f'{missing_nos[i]} missing values from variable {variables_with_missing[i]}')"
   ]
  },
  {
   "cell_type": "markdown",
   "id": "4bffd651-f2d6-440e-9bc0-6f57f37233ed",
   "metadata": {},
   "source": [
    "## General Approach to Missing Data\n",
    "Looking at the [data description](http://jse.amstat.org/v19n3/decock/DataDocumentation.txt), we see that some variables may be recorded as \"NA\" or \"None\" to mean *not* that the data set is missing an observation, but instead that a certain feature is missing.  For example, the variable \"Alley\" is supposed to take on 3 values: 'Grvl', 'Pave' and 'NA'.  But we see that all the non-missing values are 'Grvl' or 'Pave' (see cell below).  So this means that most likely these values were not *missing* but were recorded as empty if they met certain criteria.\n",
    "\n",
    "Our general approach to checking for missing values will be: for each variable, first check the data description for whether \"NA\" or \"None\" (etc.) could represent a category rather than a missing value.  If so, replace all instances of that missing value with \"DNE\" (Does Not Exist).  If not, we'll deal with the missing entry as though it is actually missing.\n",
    "\n",
    "Secondly, looking at the list of missing values in the previous cell, we see that often times several variables relate to the same part of the house.  For example, there are many variables with the word `Bsmt` (basement) in them.  Many of these variables seem to be *missing exactly 55 entries, or just a few more than 55 entries*.  Looking at the data description, wherein we find that \"NA\" means \"No Basement\", it is plausible to think that all 55 of the missing values for each of the `Bsmt` variables come from the same 55 houses.  We'll verify that this is the case before replacing these variables' 55 missing values with the string `no_bsmt`.\n",
    "\n",
    "But what do we do with the `Bsmt` variables that are missing *more than 55 entries*?  For example, `Bsmt Exposure` is missing 58 values, not 55.  If we applied the same approach to this variable as we did to the other `Bsmt` variables that were missing exactly 55 entries, we would essentially be concluding that all 58 of these missing entries correspond to homes with no basements (and not to actual missing data).  But it is not plausible that *more than 55 of the houses in the data set had no basement*, since several of the `Bsmt` variables were missing *only 55 entries, and the same 55 in each of these variables*.  It therefore seems more likely that 55 of the 58 missing values in `Bsmt Exposure` are those same 55 homes that were elsewhere recorded to have no basement, while the other 3 missing values are actually missing.  So assuming that exactly 55 of the missing values for `Bsmt Exposure` match up to the same 55 houses from before, we'll replace only *these* missing values with the string `no_bsmt`, while leaving the other 3 values missing for now.\n",
    "\n",
    "Similar remarks apply to the many variables relating to the garage that are missing around 114 entries.\n",
    "\n",
    "In this notebook, we'll investigate the data and determine which data points are genuinely missing, as opposed to being entered as missing even though their values were known.  We will drop these values that are genuinely missing, as well as the \"outliers\" mentioned in the data description.  After this is done, we will have completed our \"data preparing\" phase.\n",
    "\n",
    "In [the next notebook](./2_data_cleaning.ipynb), we will \"clean\" the data: we will fill in all missing values according to the process described above and make any other changes necessary for our analysis."
   ]
  },
  {
   "cell_type": "markdown",
   "id": "fabbb757-1de6-4496-9133-063e3db72d0e",
   "metadata": {},
   "source": [
    "## Basements\n",
    "We can see that 3 of the `Bsmt` variables are missing 55 values.  Let's check that these are all the same 55 rows in each case:"
   ]
  },
  {
   "cell_type": "code",
   "execution_count": 4,
   "id": "b9665f08-be99-432a-bff8-81d64f99df99",
   "metadata": {},
   "outputs": [
    {
     "data": {
      "text/plain": [
       "55"
      ]
     },
     "execution_count": 4,
     "metadata": {},
     "output_type": "execute_result"
    }
   ],
   "source": [
    "condition = df['Bsmt Qual'].isnull() | df['Bsmt Cond'].isnull() | df['BsmtFin Type 1'].isnull()\n",
    "#Look at those rows with ANY of these three variables missing\n",
    "\n",
    "len(df[condition])\n",
    "#This should equal 55 if all the homes missing one of these variables are missing the other two as well"
   ]
  },
  {
   "cell_type": "markdown",
   "id": "b629b071-f8af-4642-b8a5-afd4b9221e64",
   "metadata": {},
   "source": [
    "So these 3 variables' 55 missing entries all correspond to the same 55 homes.  Let's check if these same 55 are missing from `Bsmt Exposure` and `BsmtFin Type 2`:"
   ]
  },
  {
   "cell_type": "code",
   "execution_count": 5,
   "id": "e850ed1e-e071-46e1-8181-7f8761e9144f",
   "metadata": {},
   "outputs": [
    {
     "data": {
      "text/plain": [
       "55"
      ]
     },
     "execution_count": 5,
     "metadata": {},
     "output_type": "execute_result"
    }
   ],
   "source": [
    "#Bsmt Exposure\n",
    "condition1 = df['Bsmt Qual'].isnull() & df['Bsmt Exposure'].isnull() & df['BsmtFin Type 2'].isnull()\n",
    "#Look at those rows with ALL THREE of these variables missing\n",
    "\n",
    "len(df[condition1])\n",
    "#This should equal 55 if all 55 of those homes that are missing Bsmt Qual also have  missing values\n",
    "#in these other two variables"
   ]
  },
  {
   "cell_type": "markdown",
   "id": "9a98e79c-d2cf-454a-8ee4-657285c7c244",
   "metadata": {},
   "source": [
    "So the variables `Bsmt Exposure` and `BsmtFin Type 2` are missing the same 55 homes as those missing from `Bsmt Qual`, plus 3 more for `Bsmt Exposure` and 1 more for `BsmtFin Type 2`.  We'll assume that those 3 more and 1 more are *legitimately missing values* and remove these data points from our data set.  So let's record these \"legitimately missing\" values' indices so that we can remove them later:"
   ]
  },
  {
   "cell_type": "code",
   "execution_count": 6,
   "id": "7211e11e-f4b1-4992-9139-760ca255d5dd",
   "metadata": {},
   "outputs": [
    {
     "data": {
      "text/html": [
       "<div>\n",
       "<style scoped>\n",
       "    .dataframe tbody tr th:only-of-type {\n",
       "        vertical-align: middle;\n",
       "    }\n",
       "\n",
       "    .dataframe tbody tr th {\n",
       "        vertical-align: top;\n",
       "    }\n",
       "\n",
       "    .dataframe thead th {\n",
       "        text-align: right;\n",
       "    }\n",
       "</style>\n",
       "<table border=\"1\" class=\"dataframe\">\n",
       "  <thead>\n",
       "    <tr style=\"text-align: right;\">\n",
       "      <th></th>\n",
       "      <th>Id</th>\n",
       "      <th>PID</th>\n",
       "      <th>MS SubClass</th>\n",
       "      <th>MS Zoning</th>\n",
       "      <th>Lot Frontage</th>\n",
       "      <th>Lot Area</th>\n",
       "      <th>Street</th>\n",
       "      <th>Alley</th>\n",
       "      <th>Lot Shape</th>\n",
       "      <th>Land Contour</th>\n",
       "      <th>...</th>\n",
       "      <th>Screen Porch</th>\n",
       "      <th>Pool Area</th>\n",
       "      <th>Pool QC</th>\n",
       "      <th>Fence</th>\n",
       "      <th>Misc Feature</th>\n",
       "      <th>Misc Val</th>\n",
       "      <th>Mo Sold</th>\n",
       "      <th>Yr Sold</th>\n",
       "      <th>Sale Type</th>\n",
       "      <th>SalePrice</th>\n",
       "    </tr>\n",
       "  </thead>\n",
       "  <tbody>\n",
       "    <tr>\n",
       "      <th>1456</th>\n",
       "      <td>1797</td>\n",
       "      <td>528458090</td>\n",
       "      <td>60</td>\n",
       "      <td>FV</td>\n",
       "      <td>81.0</td>\n",
       "      <td>10411</td>\n",
       "      <td>Pave</td>\n",
       "      <td>NaN</td>\n",
       "      <td>Reg</td>\n",
       "      <td>Lvl</td>\n",
       "      <td>...</td>\n",
       "      <td>0</td>\n",
       "      <td>0</td>\n",
       "      <td>NaN</td>\n",
       "      <td>NaN</td>\n",
       "      <td>NaN</td>\n",
       "      <td>0</td>\n",
       "      <td>7</td>\n",
       "      <td>2007</td>\n",
       "      <td>New</td>\n",
       "      <td>212109</td>\n",
       "    </tr>\n",
       "    <tr>\n",
       "      <th>1547</th>\n",
       "      <td>67</td>\n",
       "      <td>528445060</td>\n",
       "      <td>20</td>\n",
       "      <td>RL</td>\n",
       "      <td>73.0</td>\n",
       "      <td>8987</td>\n",
       "      <td>Pave</td>\n",
       "      <td>NaN</td>\n",
       "      <td>Reg</td>\n",
       "      <td>Lvl</td>\n",
       "      <td>...</td>\n",
       "      <td>0</td>\n",
       "      <td>0</td>\n",
       "      <td>NaN</td>\n",
       "      <td>NaN</td>\n",
       "      <td>NaN</td>\n",
       "      <td>0</td>\n",
       "      <td>5</td>\n",
       "      <td>2010</td>\n",
       "      <td>WD</td>\n",
       "      <td>221500</td>\n",
       "    </tr>\n",
       "    <tr>\n",
       "      <th>1997</th>\n",
       "      <td>2780</td>\n",
       "      <td>907194130</td>\n",
       "      <td>60</td>\n",
       "      <td>RL</td>\n",
       "      <td>65.0</td>\n",
       "      <td>14006</td>\n",
       "      <td>Pave</td>\n",
       "      <td>NaN</td>\n",
       "      <td>IR1</td>\n",
       "      <td>Lvl</td>\n",
       "      <td>...</td>\n",
       "      <td>0</td>\n",
       "      <td>0</td>\n",
       "      <td>NaN</td>\n",
       "      <td>NaN</td>\n",
       "      <td>NaN</td>\n",
       "      <td>0</td>\n",
       "      <td>2</td>\n",
       "      <td>2006</td>\n",
       "      <td>WD</td>\n",
       "      <td>192500</td>\n",
       "    </tr>\n",
       "  </tbody>\n",
       "</table>\n",
       "<p>3 rows × 81 columns</p>\n",
       "</div>"
      ],
      "text/plain": [
       "        Id        PID  MS SubClass MS Zoning  Lot Frontage  Lot Area Street  \\\n",
       "1456  1797  528458090           60        FV          81.0     10411   Pave   \n",
       "1547    67  528445060           20        RL          73.0      8987   Pave   \n",
       "1997  2780  907194130           60        RL          65.0     14006   Pave   \n",
       "\n",
       "     Alley Lot Shape Land Contour  ... Screen Porch Pool Area Pool QC Fence  \\\n",
       "1456   NaN       Reg          Lvl  ...            0         0     NaN   NaN   \n",
       "1547   NaN       Reg          Lvl  ...            0         0     NaN   NaN   \n",
       "1997   NaN       IR1          Lvl  ...            0         0     NaN   NaN   \n",
       "\n",
       "     Misc Feature Misc Val Mo Sold Yr Sold  Sale Type  SalePrice  \n",
       "1456          NaN        0       7    2007        New     212109  \n",
       "1547          NaN        0       5    2010        WD      221500  \n",
       "1997          NaN        0       2    2006        WD      192500  \n",
       "\n",
       "[3 rows x 81 columns]"
      ]
     },
     "execution_count": 6,
     "metadata": {},
     "output_type": "execute_result"
    }
   ],
   "source": [
    "#Which observations are missing 'Bsmt Exposure' but are NOT among the 55 homes accounted for above?\n",
    "drops = df[df['Bsmt Exposure'].isnull() & ~df['Bsmt Qual'].isnull()].index\n",
    "\n",
    "#Store these in a list for later\n",
    "drop_indices = list(drops)\n",
    "\n",
    "#Examine these data points\n",
    "df.iloc[ drops ]"
   ]
  },
  {
   "cell_type": "code",
   "execution_count": 7,
   "id": "49f7c0f3-2fcc-40db-a619-dd3eba81c34e",
   "metadata": {},
   "outputs": [
    {
     "data": {
      "text/html": [
       "<div>\n",
       "<style scoped>\n",
       "    .dataframe tbody tr th:only-of-type {\n",
       "        vertical-align: middle;\n",
       "    }\n",
       "\n",
       "    .dataframe tbody tr th {\n",
       "        vertical-align: top;\n",
       "    }\n",
       "\n",
       "    .dataframe thead th {\n",
       "        text-align: right;\n",
       "    }\n",
       "</style>\n",
       "<table border=\"1\" class=\"dataframe\">\n",
       "  <thead>\n",
       "    <tr style=\"text-align: right;\">\n",
       "      <th></th>\n",
       "      <th>Id</th>\n",
       "      <th>PID</th>\n",
       "      <th>MS SubClass</th>\n",
       "      <th>MS Zoning</th>\n",
       "      <th>Lot Frontage</th>\n",
       "      <th>Lot Area</th>\n",
       "      <th>Street</th>\n",
       "      <th>Alley</th>\n",
       "      <th>Lot Shape</th>\n",
       "      <th>Land Contour</th>\n",
       "      <th>...</th>\n",
       "      <th>Screen Porch</th>\n",
       "      <th>Pool Area</th>\n",
       "      <th>Pool QC</th>\n",
       "      <th>Fence</th>\n",
       "      <th>Misc Feature</th>\n",
       "      <th>Misc Val</th>\n",
       "      <th>Mo Sold</th>\n",
       "      <th>Yr Sold</th>\n",
       "      <th>Sale Type</th>\n",
       "      <th>SalePrice</th>\n",
       "    </tr>\n",
       "  </thead>\n",
       "  <tbody>\n",
       "    <tr>\n",
       "      <th>1147</th>\n",
       "      <td>445</td>\n",
       "      <td>528142130</td>\n",
       "      <td>20</td>\n",
       "      <td>RL</td>\n",
       "      <td>85.0</td>\n",
       "      <td>10655</td>\n",
       "      <td>Pave</td>\n",
       "      <td>NaN</td>\n",
       "      <td>IR1</td>\n",
       "      <td>Lvl</td>\n",
       "      <td>...</td>\n",
       "      <td>0</td>\n",
       "      <td>0</td>\n",
       "      <td>NaN</td>\n",
       "      <td>NaN</td>\n",
       "      <td>NaN</td>\n",
       "      <td>0</td>\n",
       "      <td>10</td>\n",
       "      <td>2009</td>\n",
       "      <td>WD</td>\n",
       "      <td>284000</td>\n",
       "    </tr>\n",
       "  </tbody>\n",
       "</table>\n",
       "<p>1 rows × 81 columns</p>\n",
       "</div>"
      ],
      "text/plain": [
       "       Id        PID  MS SubClass MS Zoning  Lot Frontage  Lot Area Street  \\\n",
       "1147  445  528142130           20        RL          85.0     10655   Pave   \n",
       "\n",
       "     Alley Lot Shape Land Contour  ... Screen Porch Pool Area Pool QC Fence  \\\n",
       "1147   NaN       IR1          Lvl  ...            0         0     NaN   NaN   \n",
       "\n",
       "     Misc Feature Misc Val Mo Sold Yr Sold  Sale Type  SalePrice  \n",
       "1147          NaN        0      10    2009        WD      284000  \n",
       "\n",
       "[1 rows x 81 columns]"
      ]
     },
     "execution_count": 7,
     "metadata": {},
     "output_type": "execute_result"
    }
   ],
   "source": [
    "#Which observation is missing 'BsmtFin Type 2' but is NOT among the 55 homes accounted for above?\n",
    "drop = df[df['BsmtFin Type 2'].isnull() & ~df['Bsmt Qual'].isnull()].index\n",
    "\n",
    "#Add its index to our list to drop later\n",
    "drop_indices.extend(list(drop))\n",
    "\n",
    "#Examine this value\n",
    "df.iloc[ drop ]"
   ]
  },
  {
   "cell_type": "code",
   "execution_count": 8,
   "id": "61b56c9e-8711-4ea5-a9b7-c41a85aff474",
   "metadata": {},
   "outputs": [
    {
     "data": {
      "text/plain": [
       "[1456, 1547, 1997, 1147]"
      ]
     },
     "execution_count": 8,
     "metadata": {},
     "output_type": "execute_result"
    }
   ],
   "source": [
    "#Check that we've recorded the right indices to drop later\n",
    "drop_indices"
   ]
  },
  {
   "cell_type": "markdown",
   "id": "4c12c45b-a574-4831-af47-0e8e30eea3fa",
   "metadata": {},
   "source": [
    "In summary: none of the 3 observations with missing `Bsmt Exposure` values are the same as the one missing its `BsmtFin Type 2` value.\n",
    "\n",
    "In any case, we'll want to drop these values later, so we'll keep track of their indices with `drop_indices`.\n",
    "\n",
    "Now let's move on to the other `Bsmt` variables that were missing some observations:"
   ]
  },
  {
   "cell_type": "code",
   "execution_count": 9,
   "id": "222cd554-0461-403e-86e8-e51415eef706",
   "metadata": {},
   "outputs": [
    {
     "name": "stdout",
     "output_type": "stream",
     "text": [
      "Number of rows with missing BsmtFin SF 1 value: 1\n",
      "Number of rows with missing BsmtFin SF 2 value: 1\n",
      "Number of rows with missing Bsmt Unf SF value: 1\n",
      "Number of rows with missing Total Bsmt SF value: 1\n"
     ]
    }
   ],
   "source": [
    "#Now examine other 'Bmst' varialbes that had missing values (each had 1)\n",
    "bsmts2 = ['BsmtFin SF 1', 'BsmtFin SF 2', 'Bsmt Unf SF', 'Total Bsmt SF']\n",
    "for col in bsmts2:\n",
    "    print(f\"Number of rows with missing {col} value: {len(df[df[col].isnull()])}\")"
   ]
  },
  {
   "cell_type": "code",
   "execution_count": 10,
   "id": "619e8d92-acb2-46c3-a2b6-7cbc54aa2f29",
   "metadata": {},
   "outputs": [
    {
     "data": {
      "text/html": [
       "<div>\n",
       "<style scoped>\n",
       "    .dataframe tbody tr th:only-of-type {\n",
       "        vertical-align: middle;\n",
       "    }\n",
       "\n",
       "    .dataframe tbody tr th {\n",
       "        vertical-align: top;\n",
       "    }\n",
       "\n",
       "    .dataframe thead th {\n",
       "        text-align: right;\n",
       "    }\n",
       "</style>\n",
       "<table border=\"1\" class=\"dataframe\">\n",
       "  <thead>\n",
       "    <tr style=\"text-align: right;\">\n",
       "      <th></th>\n",
       "      <th>Id</th>\n",
       "      <th>PID</th>\n",
       "      <th>MS SubClass</th>\n",
       "      <th>MS Zoning</th>\n",
       "      <th>Lot Frontage</th>\n",
       "      <th>Lot Area</th>\n",
       "      <th>Street</th>\n",
       "      <th>Alley</th>\n",
       "      <th>Lot Shape</th>\n",
       "      <th>Land Contour</th>\n",
       "      <th>...</th>\n",
       "      <th>Screen Porch</th>\n",
       "      <th>Pool Area</th>\n",
       "      <th>Pool QC</th>\n",
       "      <th>Fence</th>\n",
       "      <th>Misc Feature</th>\n",
       "      <th>Misc Val</th>\n",
       "      <th>Mo Sold</th>\n",
       "      <th>Yr Sold</th>\n",
       "      <th>Sale Type</th>\n",
       "      <th>SalePrice</th>\n",
       "    </tr>\n",
       "  </thead>\n",
       "  <tbody>\n",
       "    <tr>\n",
       "      <th>1327</th>\n",
       "      <td>1342</td>\n",
       "      <td>903230120</td>\n",
       "      <td>20</td>\n",
       "      <td>RM</td>\n",
       "      <td>99.0</td>\n",
       "      <td>5940</td>\n",
       "      <td>Pave</td>\n",
       "      <td>NaN</td>\n",
       "      <td>IR1</td>\n",
       "      <td>Lvl</td>\n",
       "      <td>...</td>\n",
       "      <td>0</td>\n",
       "      <td>0</td>\n",
       "      <td>NaN</td>\n",
       "      <td>MnPrv</td>\n",
       "      <td>NaN</td>\n",
       "      <td>0</td>\n",
       "      <td>4</td>\n",
       "      <td>2008</td>\n",
       "      <td>ConLD</td>\n",
       "      <td>79000</td>\n",
       "    </tr>\n",
       "  </tbody>\n",
       "</table>\n",
       "<p>1 rows × 81 columns</p>\n",
       "</div>"
      ],
      "text/plain": [
       "        Id        PID  MS SubClass MS Zoning  Lot Frontage  Lot Area Street  \\\n",
       "1327  1342  903230120           20        RM          99.0      5940   Pave   \n",
       "\n",
       "     Alley Lot Shape Land Contour  ... Screen Porch Pool Area Pool QC  Fence  \\\n",
       "1327   NaN       IR1          Lvl  ...            0         0     NaN  MnPrv   \n",
       "\n",
       "     Misc Feature Misc Val Mo Sold Yr Sold  Sale Type  SalePrice  \n",
       "1327          NaN        0       4    2008      ConLD      79000  \n",
       "\n",
       "[1 rows x 81 columns]"
      ]
     },
     "execution_count": 10,
     "metadata": {},
     "output_type": "execute_result"
    }
   ],
   "source": [
    "#Are these missing values all the same one?\n",
    "df[ df['BsmtFin SF 1'].isnull() & df['BsmtFin SF 2'].isnull() & df['Bsmt Unf SF'].isnull() & df['Total Bsmt SF'].isnull() ]"
   ]
  },
  {
   "cell_type": "code",
   "execution_count": 11,
   "id": "f76d76af-eea4-4e89-bb90-34ee90a6b985",
   "metadata": {},
   "outputs": [
    {
     "name": "stdout",
     "output_type": "stream",
     "text": [
      "Number of rows with missing Bsmt Full Bath value: 2\n",
      "Number of rows with missing Bsmt Half Bath value: 2\n"
     ]
    },
    {
     "data": {
      "text/html": [
       "<div>\n",
       "<style scoped>\n",
       "    .dataframe tbody tr th:only-of-type {\n",
       "        vertical-align: middle;\n",
       "    }\n",
       "\n",
       "    .dataframe tbody tr th {\n",
       "        vertical-align: top;\n",
       "    }\n",
       "\n",
       "    .dataframe thead th {\n",
       "        text-align: right;\n",
       "    }\n",
       "</style>\n",
       "<table border=\"1\" class=\"dataframe\">\n",
       "  <thead>\n",
       "    <tr style=\"text-align: right;\">\n",
       "      <th></th>\n",
       "      <th>Id</th>\n",
       "      <th>PID</th>\n",
       "      <th>MS SubClass</th>\n",
       "      <th>MS Zoning</th>\n",
       "      <th>Lot Frontage</th>\n",
       "      <th>Lot Area</th>\n",
       "      <th>Street</th>\n",
       "      <th>Alley</th>\n",
       "      <th>Lot Shape</th>\n",
       "      <th>Land Contour</th>\n",
       "      <th>...</th>\n",
       "      <th>Screen Porch</th>\n",
       "      <th>Pool Area</th>\n",
       "      <th>Pool QC</th>\n",
       "      <th>Fence</th>\n",
       "      <th>Misc Feature</th>\n",
       "      <th>Misc Val</th>\n",
       "      <th>Mo Sold</th>\n",
       "      <th>Yr Sold</th>\n",
       "      <th>Sale Type</th>\n",
       "      <th>SalePrice</th>\n",
       "    </tr>\n",
       "  </thead>\n",
       "  <tbody>\n",
       "    <tr>\n",
       "      <th>616</th>\n",
       "      <td>1498</td>\n",
       "      <td>908154080</td>\n",
       "      <td>20</td>\n",
       "      <td>RL</td>\n",
       "      <td>123.0</td>\n",
       "      <td>47007</td>\n",
       "      <td>Pave</td>\n",
       "      <td>NaN</td>\n",
       "      <td>IR1</td>\n",
       "      <td>Lvl</td>\n",
       "      <td>...</td>\n",
       "      <td>0</td>\n",
       "      <td>0</td>\n",
       "      <td>NaN</td>\n",
       "      <td>NaN</td>\n",
       "      <td>NaN</td>\n",
       "      <td>0</td>\n",
       "      <td>7</td>\n",
       "      <td>2008</td>\n",
       "      <td>WD</td>\n",
       "      <td>284700</td>\n",
       "    </tr>\n",
       "    <tr>\n",
       "      <th>1327</th>\n",
       "      <td>1342</td>\n",
       "      <td>903230120</td>\n",
       "      <td>20</td>\n",
       "      <td>RM</td>\n",
       "      <td>99.0</td>\n",
       "      <td>5940</td>\n",
       "      <td>Pave</td>\n",
       "      <td>NaN</td>\n",
       "      <td>IR1</td>\n",
       "      <td>Lvl</td>\n",
       "      <td>...</td>\n",
       "      <td>0</td>\n",
       "      <td>0</td>\n",
       "      <td>NaN</td>\n",
       "      <td>MnPrv</td>\n",
       "      <td>NaN</td>\n",
       "      <td>0</td>\n",
       "      <td>4</td>\n",
       "      <td>2008</td>\n",
       "      <td>ConLD</td>\n",
       "      <td>79000</td>\n",
       "    </tr>\n",
       "  </tbody>\n",
       "</table>\n",
       "<p>2 rows × 81 columns</p>\n",
       "</div>"
      ],
      "text/plain": [
       "        Id        PID  MS SubClass MS Zoning  Lot Frontage  Lot Area Street  \\\n",
       "616   1498  908154080           20        RL         123.0     47007   Pave   \n",
       "1327  1342  903230120           20        RM          99.0      5940   Pave   \n",
       "\n",
       "     Alley Lot Shape Land Contour  ... Screen Porch Pool Area Pool QC  Fence  \\\n",
       "616    NaN       IR1          Lvl  ...            0         0     NaN    NaN   \n",
       "1327   NaN       IR1          Lvl  ...            0         0     NaN  MnPrv   \n",
       "\n",
       "     Misc Feature Misc Val Mo Sold Yr Sold  Sale Type  SalePrice  \n",
       "616           NaN        0       7    2008        WD      284700  \n",
       "1327          NaN        0       4    2008      ConLD      79000  \n",
       "\n",
       "[2 rows x 81 columns]"
      ]
     },
     "execution_count": 11,
     "metadata": {},
     "output_type": "execute_result"
    }
   ],
   "source": [
    "#They are! How about these other cloumn names that were missing exactly 2 values?\n",
    "bsmts3 = ['Bsmt Full Bath', 'Bsmt Half Bath']\n",
    "for col in bsmts3:\n",
    "    print(f\"Number of rows with missing {col} value: {len(df[df[col].isnull()])}\")\n",
    "    \n",
    "df[ df['Bsmt Full Bath'].isnull() & df['Bsmt Half Bath'].isnull() ]"
   ]
  },
  {
   "cell_type": "markdown",
   "id": "5a7292da-faf4-4ce2-87c6-a2bbe3a2fb68",
   "metadata": {},
   "source": [
    "In summary: Observation number 1327 is missing all 6 of the values listed in `bsmts2` and `bsmts3`, while observation number 616 is only missing the two values in `bsmts3`.\n",
    "\n",
    "Meanwhile, 4 other observations were legitimately missing their `Bsmt Exposure` or `BsmtFin Type 2` values; we already recorded their indices in our `drop_indices` list.\n",
    "\n",
    "I think we can safely drop these 6 observations, as our data set has over 2000 observations."
   ]
  },
  {
   "cell_type": "code",
   "execution_count": 12,
   "id": "444f9bdd-c930-4bf7-8d3f-8c14998d86fb",
   "metadata": {},
   "outputs": [
    {
     "data": {
      "text/plain": [
       "[1456, 1547, 1997, 1147, 616, 1327]"
      ]
     },
     "execution_count": 12,
     "metadata": {},
     "output_type": "execute_result"
    }
   ],
   "source": [
    "#Add these last two to our list of indices to drop\n",
    "drop_indices.extend( list( df[ df['Bsmt Full Bath'].isnull() ].index) )\n",
    "drop_indices"
   ]
  },
  {
   "cell_type": "code",
   "execution_count": 13,
   "id": "29ed4d4f-a64f-4912-814f-0adf4971d80c",
   "metadata": {},
   "outputs": [
    {
     "data": {
      "text/plain": [
       "2051"
      ]
     },
     "execution_count": 13,
     "metadata": {},
     "output_type": "execute_result"
    }
   ],
   "source": [
    "len(df)"
   ]
  },
  {
   "cell_type": "code",
   "execution_count": 14,
   "id": "4438af12-01aa-45aa-9733-a09930354e1b",
   "metadata": {},
   "outputs": [
    {
     "data": {
      "text/plain": [
       "2045"
      ]
     },
     "execution_count": 14,
     "metadata": {},
     "output_type": "execute_result"
    }
   ],
   "source": [
    "#Drop these 6 observations\n",
    "df.drop(index=drop_indices, inplace=True)\n",
    "len(df)"
   ]
  },
  {
   "cell_type": "code",
   "execution_count": 15,
   "id": "6bcca691-9c95-446e-adbe-13dc9b525422",
   "metadata": {},
   "outputs": [
    {
     "name": "stdout",
     "output_type": "stream",
     "text": [
      "Number of rows with missing Bsmt Qual value: 53\n",
      "Number of rows with missing Bsmt Cond value: 53\n",
      "Number of rows with missing BsmtFin Type 1 value: 53\n",
      "Number of rows with missing Bsmt Exposure value: 53\n",
      "Number of rows with missing BsmtFin Type 2 value: 53\n",
      "Number of rows with missing BsmtFin SF 1 value: 0\n",
      "Number of rows with missing BsmtFin SF 2 value: 0\n",
      "Number of rows with missing Bsmt Unf SF value: 0\n",
      "Number of rows with missing Total Bsmt SF value: 0\n",
      "Number of rows with missing Bsmt Full Bath value: 0\n",
      "Number of rows with missing Bsmt Half Bath value: 0\n"
     ]
    }
   ],
   "source": [
    "#Check the null counts to make sure nothing is still missing\n",
    "bsmts = ['Bsmt Qual', 'Bsmt Cond', 'BsmtFin Type 1', 'Bsmt Exposure', 'BsmtFin Type 2']\n",
    "\n",
    "for col in bsmts + bsmts2 + bsmts3:\n",
    "    print(f\"Number of rows with missing {col} value: {len(df[df[col].isnull()])}\")"
   ]
  },
  {
   "cell_type": "code",
   "execution_count": 16,
   "id": "101af31e-108d-4a0e-b0b6-663c5f086ab2",
   "metadata": {},
   "outputs": [
    {
     "data": {
      "text/html": [
       "<div>\n",
       "<style scoped>\n",
       "    .dataframe tbody tr th:only-of-type {\n",
       "        vertical-align: middle;\n",
       "    }\n",
       "\n",
       "    .dataframe tbody tr th {\n",
       "        vertical-align: top;\n",
       "    }\n",
       "\n",
       "    .dataframe thead th {\n",
       "        text-align: right;\n",
       "    }\n",
       "</style>\n",
       "<table border=\"1\" class=\"dataframe\">\n",
       "  <thead>\n",
       "    <tr style=\"text-align: right;\">\n",
       "      <th></th>\n",
       "      <th>Id</th>\n",
       "      <th>PID</th>\n",
       "      <th>MS SubClass</th>\n",
       "      <th>MS Zoning</th>\n",
       "      <th>Lot Frontage</th>\n",
       "      <th>Lot Area</th>\n",
       "      <th>Street</th>\n",
       "      <th>Alley</th>\n",
       "      <th>Lot Shape</th>\n",
       "      <th>Land Contour</th>\n",
       "      <th>...</th>\n",
       "      <th>Screen Porch</th>\n",
       "      <th>Pool Area</th>\n",
       "      <th>Pool QC</th>\n",
       "      <th>Fence</th>\n",
       "      <th>Misc Feature</th>\n",
       "      <th>Misc Val</th>\n",
       "      <th>Mo Sold</th>\n",
       "      <th>Yr Sold</th>\n",
       "      <th>Sale Type</th>\n",
       "      <th>SalePrice</th>\n",
       "    </tr>\n",
       "  </thead>\n",
       "  <tbody>\n",
       "    <tr>\n",
       "      <th>0</th>\n",
       "      <td>109</td>\n",
       "      <td>533352170</td>\n",
       "      <td>60</td>\n",
       "      <td>RL</td>\n",
       "      <td>NaN</td>\n",
       "      <td>13517</td>\n",
       "      <td>Pave</td>\n",
       "      <td>NaN</td>\n",
       "      <td>IR1</td>\n",
       "      <td>Lvl</td>\n",
       "      <td>...</td>\n",
       "      <td>0</td>\n",
       "      <td>0</td>\n",
       "      <td>NaN</td>\n",
       "      <td>NaN</td>\n",
       "      <td>NaN</td>\n",
       "      <td>0</td>\n",
       "      <td>3</td>\n",
       "      <td>2010</td>\n",
       "      <td>WD</td>\n",
       "      <td>130500</td>\n",
       "    </tr>\n",
       "    <tr>\n",
       "      <th>1</th>\n",
       "      <td>544</td>\n",
       "      <td>531379050</td>\n",
       "      <td>60</td>\n",
       "      <td>RL</td>\n",
       "      <td>43.0</td>\n",
       "      <td>11492</td>\n",
       "      <td>Pave</td>\n",
       "      <td>NaN</td>\n",
       "      <td>IR1</td>\n",
       "      <td>Lvl</td>\n",
       "      <td>...</td>\n",
       "      <td>0</td>\n",
       "      <td>0</td>\n",
       "      <td>NaN</td>\n",
       "      <td>NaN</td>\n",
       "      <td>NaN</td>\n",
       "      <td>0</td>\n",
       "      <td>4</td>\n",
       "      <td>2009</td>\n",
       "      <td>WD</td>\n",
       "      <td>220000</td>\n",
       "    </tr>\n",
       "    <tr>\n",
       "      <th>2</th>\n",
       "      <td>153</td>\n",
       "      <td>535304180</td>\n",
       "      <td>20</td>\n",
       "      <td>RL</td>\n",
       "      <td>68.0</td>\n",
       "      <td>7922</td>\n",
       "      <td>Pave</td>\n",
       "      <td>NaN</td>\n",
       "      <td>Reg</td>\n",
       "      <td>Lvl</td>\n",
       "      <td>...</td>\n",
       "      <td>0</td>\n",
       "      <td>0</td>\n",
       "      <td>NaN</td>\n",
       "      <td>NaN</td>\n",
       "      <td>NaN</td>\n",
       "      <td>0</td>\n",
       "      <td>1</td>\n",
       "      <td>2010</td>\n",
       "      <td>WD</td>\n",
       "      <td>109000</td>\n",
       "    </tr>\n",
       "    <tr>\n",
       "      <th>3</th>\n",
       "      <td>318</td>\n",
       "      <td>916386060</td>\n",
       "      <td>60</td>\n",
       "      <td>RL</td>\n",
       "      <td>73.0</td>\n",
       "      <td>9802</td>\n",
       "      <td>Pave</td>\n",
       "      <td>NaN</td>\n",
       "      <td>Reg</td>\n",
       "      <td>Lvl</td>\n",
       "      <td>...</td>\n",
       "      <td>0</td>\n",
       "      <td>0</td>\n",
       "      <td>NaN</td>\n",
       "      <td>NaN</td>\n",
       "      <td>NaN</td>\n",
       "      <td>0</td>\n",
       "      <td>4</td>\n",
       "      <td>2010</td>\n",
       "      <td>WD</td>\n",
       "      <td>174000</td>\n",
       "    </tr>\n",
       "    <tr>\n",
       "      <th>4</th>\n",
       "      <td>255</td>\n",
       "      <td>906425045</td>\n",
       "      <td>50</td>\n",
       "      <td>RL</td>\n",
       "      <td>82.0</td>\n",
       "      <td>14235</td>\n",
       "      <td>Pave</td>\n",
       "      <td>NaN</td>\n",
       "      <td>IR1</td>\n",
       "      <td>Lvl</td>\n",
       "      <td>...</td>\n",
       "      <td>0</td>\n",
       "      <td>0</td>\n",
       "      <td>NaN</td>\n",
       "      <td>NaN</td>\n",
       "      <td>NaN</td>\n",
       "      <td>0</td>\n",
       "      <td>3</td>\n",
       "      <td>2010</td>\n",
       "      <td>WD</td>\n",
       "      <td>138500</td>\n",
       "    </tr>\n",
       "  </tbody>\n",
       "</table>\n",
       "<p>5 rows × 81 columns</p>\n",
       "</div>"
      ],
      "text/plain": [
       "    Id        PID  MS SubClass MS Zoning  Lot Frontage  Lot Area Street Alley  \\\n",
       "0  109  533352170           60        RL           NaN     13517   Pave   NaN   \n",
       "1  544  531379050           60        RL          43.0     11492   Pave   NaN   \n",
       "2  153  535304180           20        RL          68.0      7922   Pave   NaN   \n",
       "3  318  916386060           60        RL          73.0      9802   Pave   NaN   \n",
       "4  255  906425045           50        RL          82.0     14235   Pave   NaN   \n",
       "\n",
       "  Lot Shape Land Contour  ... Screen Porch Pool Area Pool QC Fence  \\\n",
       "0       IR1          Lvl  ...            0         0     NaN   NaN   \n",
       "1       IR1          Lvl  ...            0         0     NaN   NaN   \n",
       "2       Reg          Lvl  ...            0         0     NaN   NaN   \n",
       "3       Reg          Lvl  ...            0         0     NaN   NaN   \n",
       "4       IR1          Lvl  ...            0         0     NaN   NaN   \n",
       "\n",
       "  Misc Feature Misc Val Mo Sold Yr Sold  Sale Type  SalePrice  \n",
       "0          NaN        0       3    2010        WD      130500  \n",
       "1          NaN        0       4    2009        WD      220000  \n",
       "2          NaN        0       1    2010        WD      109000  \n",
       "3          NaN        0       4    2010        WD      174000  \n",
       "4          NaN        0       3    2010        WD      138500  \n",
       "\n",
       "[5 rows x 81 columns]"
      ]
     },
     "execution_count": 16,
     "metadata": {},
     "output_type": "execute_result"
    }
   ],
   "source": [
    "#Re-index after dropping (failing to do so may cause errors)\n",
    "df.reset_index(inplace=True,drop=True)\n",
    "df.head()"
   ]
  },
  {
   "cell_type": "markdown",
   "id": "af59613b-a327-4fa7-b9cc-b59ac186dbc4",
   "metadata": {},
   "source": [
    "## Garages"
   ]
  },
  {
   "cell_type": "code",
   "execution_count": 17,
   "id": "c61dbaef-3d58-4110-b6b0-c9274e306936",
   "metadata": {},
   "outputs": [],
   "source": [
    "garages = ['Garage Qual', 'Garage Cond', 'Garage Finish', 'Garage Yr Blt', 'Garage Type']"
   ]
  },
  {
   "cell_type": "code",
   "execution_count": 18,
   "id": "5ae21441-7f41-4b31-a91b-773055831bde",
   "metadata": {},
   "outputs": [
    {
     "data": {
      "text/plain": [
       "Garage Qual      114\n",
       "Garage Cond      114\n",
       "Garage Finish    114\n",
       "Garage Yr Blt    114\n",
       "Garage Type      113\n",
       "Garage Cars        1\n",
       "Garage Area        1\n",
       "dtype: int64"
      ]
     },
     "execution_count": 18,
     "metadata": {},
     "output_type": "execute_result"
    }
   ],
   "source": [
    "df[garages + ['Garage Cars', 'Garage Area']].isnull().sum()"
   ]
  },
  {
   "cell_type": "code",
   "execution_count": 19,
   "id": "41d22f04-3082-41c8-9f49-dec82bcac0b5",
   "metadata": {},
   "outputs": [
    {
     "data": {
      "text/plain": [
       "114"
      ]
     },
     "execution_count": 19,
     "metadata": {},
     "output_type": "execute_result"
    }
   ],
   "source": [
    "#Check if all 114 are the same homes. If so, this should yield 114\n",
    "len(df[ df['Garage Qual'].isnull() & df['Garage Cond'].isnull() & df['Garage Finish'].isnull() & df['Garage Yr Blt'].isnull() ])"
   ]
  },
  {
   "cell_type": "code",
   "execution_count": 20,
   "id": "16176917-a959-4206-8566-02463426d936",
   "metadata": {},
   "outputs": [
    {
     "data": {
      "text/plain": [
       "113"
      ]
     },
     "execution_count": 20,
     "metadata": {},
     "output_type": "execute_result"
    }
   ],
   "source": [
    "#Check if those 113 are a subset of the 114. If so, this should yield 113\n",
    "len(df[ df['Garage Qual'].isnull() & df['Garage Type'].isnull() ])"
   ]
  },
  {
   "cell_type": "code",
   "execution_count": 21,
   "id": "8a5185d5-b9d1-4e41-9153-0251e6c536c8",
   "metadata": {},
   "outputs": [
    {
     "data": {
      "text/html": [
       "<div>\n",
       "<style scoped>\n",
       "    .dataframe tbody tr th:only-of-type {\n",
       "        vertical-align: middle;\n",
       "    }\n",
       "\n",
       "    .dataframe tbody tr th {\n",
       "        vertical-align: top;\n",
       "    }\n",
       "\n",
       "    .dataframe thead th {\n",
       "        text-align: right;\n",
       "    }\n",
       "</style>\n",
       "<table border=\"1\" class=\"dataframe\">\n",
       "  <thead>\n",
       "    <tr style=\"text-align: right;\">\n",
       "      <th></th>\n",
       "      <th>Id</th>\n",
       "      <th>PID</th>\n",
       "      <th>MS SubClass</th>\n",
       "      <th>MS Zoning</th>\n",
       "      <th>Lot Frontage</th>\n",
       "      <th>Lot Area</th>\n",
       "      <th>Street</th>\n",
       "      <th>Alley</th>\n",
       "      <th>Lot Shape</th>\n",
       "      <th>Land Contour</th>\n",
       "      <th>...</th>\n",
       "      <th>Screen Porch</th>\n",
       "      <th>Pool Area</th>\n",
       "      <th>Pool QC</th>\n",
       "      <th>Fence</th>\n",
       "      <th>Misc Feature</th>\n",
       "      <th>Misc Val</th>\n",
       "      <th>Mo Sold</th>\n",
       "      <th>Yr Sold</th>\n",
       "      <th>Sale Type</th>\n",
       "      <th>SalePrice</th>\n",
       "    </tr>\n",
       "  </thead>\n",
       "  <tbody>\n",
       "    <tr>\n",
       "      <th>1707</th>\n",
       "      <td>2237</td>\n",
       "      <td>910201180</td>\n",
       "      <td>70</td>\n",
       "      <td>RM</td>\n",
       "      <td>50.0</td>\n",
       "      <td>9060</td>\n",
       "      <td>Pave</td>\n",
       "      <td>NaN</td>\n",
       "      <td>Reg</td>\n",
       "      <td>Lvl</td>\n",
       "      <td>...</td>\n",
       "      <td>0</td>\n",
       "      <td>0</td>\n",
       "      <td>NaN</td>\n",
       "      <td>MnPrv</td>\n",
       "      <td>NaN</td>\n",
       "      <td>0</td>\n",
       "      <td>3</td>\n",
       "      <td>2007</td>\n",
       "      <td>WD</td>\n",
       "      <td>150909</td>\n",
       "    </tr>\n",
       "  </tbody>\n",
       "</table>\n",
       "<p>1 rows × 81 columns</p>\n",
       "</div>"
      ],
      "text/plain": [
       "        Id        PID  MS SubClass MS Zoning  Lot Frontage  Lot Area Street  \\\n",
       "1707  2237  910201180           70        RM          50.0      9060   Pave   \n",
       "\n",
       "     Alley Lot Shape Land Contour  ... Screen Porch Pool Area Pool QC  Fence  \\\n",
       "1707   NaN       Reg          Lvl  ...            0         0     NaN  MnPrv   \n",
       "\n",
       "     Misc Feature Misc Val Mo Sold Yr Sold  Sale Type  SalePrice  \n",
       "1707          NaN        0       3    2007        WD      150909  \n",
       "\n",
       "[1 rows x 81 columns]"
      ]
     },
     "execution_count": 21,
     "metadata": {},
     "output_type": "execute_result"
    }
   ],
   "source": [
    "#Which data point is the one that's missing all the Garage values EXCEPT `Garage Type`?\n",
    "df[ df['Garage Qual'].isnull() & ~df['Garage Type'].isnull() ]"
   ]
  },
  {
   "cell_type": "code",
   "execution_count": 22,
   "id": "d4ff5f60-0ade-477c-aa03-745f6372cc19",
   "metadata": {},
   "outputs": [
    {
     "data": {
      "text/html": [
       "<div>\n",
       "<style scoped>\n",
       "    .dataframe tbody tr th:only-of-type {\n",
       "        vertical-align: middle;\n",
       "    }\n",
       "\n",
       "    .dataframe tbody tr th {\n",
       "        vertical-align: top;\n",
       "    }\n",
       "\n",
       "    .dataframe thead th {\n",
       "        text-align: right;\n",
       "    }\n",
       "</style>\n",
       "<table border=\"1\" class=\"dataframe\">\n",
       "  <thead>\n",
       "    <tr style=\"text-align: right;\">\n",
       "      <th></th>\n",
       "      <th>Id</th>\n",
       "      <th>PID</th>\n",
       "      <th>MS SubClass</th>\n",
       "      <th>MS Zoning</th>\n",
       "      <th>Lot Frontage</th>\n",
       "      <th>Lot Area</th>\n",
       "      <th>Street</th>\n",
       "      <th>Alley</th>\n",
       "      <th>Lot Shape</th>\n",
       "      <th>Land Contour</th>\n",
       "      <th>...</th>\n",
       "      <th>Screen Porch</th>\n",
       "      <th>Pool Area</th>\n",
       "      <th>Pool QC</th>\n",
       "      <th>Fence</th>\n",
       "      <th>Misc Feature</th>\n",
       "      <th>Misc Val</th>\n",
       "      <th>Mo Sold</th>\n",
       "      <th>Yr Sold</th>\n",
       "      <th>Sale Type</th>\n",
       "      <th>SalePrice</th>\n",
       "    </tr>\n",
       "  </thead>\n",
       "  <tbody>\n",
       "    <tr>\n",
       "      <th>1707</th>\n",
       "      <td>2237</td>\n",
       "      <td>910201180</td>\n",
       "      <td>70</td>\n",
       "      <td>RM</td>\n",
       "      <td>50.0</td>\n",
       "      <td>9060</td>\n",
       "      <td>Pave</td>\n",
       "      <td>NaN</td>\n",
       "      <td>Reg</td>\n",
       "      <td>Lvl</td>\n",
       "      <td>...</td>\n",
       "      <td>0</td>\n",
       "      <td>0</td>\n",
       "      <td>NaN</td>\n",
       "      <td>MnPrv</td>\n",
       "      <td>NaN</td>\n",
       "      <td>0</td>\n",
       "      <td>3</td>\n",
       "      <td>2007</td>\n",
       "      <td>WD</td>\n",
       "      <td>150909</td>\n",
       "    </tr>\n",
       "  </tbody>\n",
       "</table>\n",
       "<p>1 rows × 81 columns</p>\n",
       "</div>"
      ],
      "text/plain": [
       "        Id        PID  MS SubClass MS Zoning  Lot Frontage  Lot Area Street  \\\n",
       "1707  2237  910201180           70        RM          50.0      9060   Pave   \n",
       "\n",
       "     Alley Lot Shape Land Contour  ... Screen Porch Pool Area Pool QC  Fence  \\\n",
       "1707   NaN       Reg          Lvl  ...            0         0     NaN  MnPrv   \n",
       "\n",
       "     Misc Feature Misc Val Mo Sold Yr Sold  Sale Type  SalePrice  \n",
       "1707          NaN        0       3    2007        WD      150909  \n",
       "\n",
       "[1 rows x 81 columns]"
      ]
     },
     "execution_count": 22,
     "metadata": {},
     "output_type": "execute_result"
    }
   ],
   "source": [
    "#Is this the same one observation that's missing both `Garage Cars` and `Garage Area`?\n",
    "df[df['Garage Cars'].isnull() & df['Garage Area'].isnull()]"
   ]
  },
  {
   "cell_type": "code",
   "execution_count": 23,
   "id": "101fe5d8-701c-4f73-83f7-ce1591fd288a",
   "metadata": {},
   "outputs": [
    {
     "data": {
      "text/plain": [
       "Int64Index([1707], dtype='int64')"
      ]
     },
     "execution_count": 23,
     "metadata": {},
     "output_type": "execute_result"
    }
   ],
   "source": [
    "#It is! So we'll just drop that one observation, then later fill the other 113 with \"DNE\"\n",
    "\n",
    "#First, get the index of the one observation to drop:\n",
    "drop_index = df[df['Garage Cars'].isnull() & df['Garage Area'].isnull()].index\n",
    "drop_index"
   ]
  },
  {
   "cell_type": "code",
   "execution_count": 24,
   "id": "bd32d403-bf6e-4247-b648-e4fbcbce8080",
   "metadata": {},
   "outputs": [
    {
     "data": {
      "text/html": [
       "<div>\n",
       "<style scoped>\n",
       "    .dataframe tbody tr th:only-of-type {\n",
       "        vertical-align: middle;\n",
       "    }\n",
       "\n",
       "    .dataframe tbody tr th {\n",
       "        vertical-align: top;\n",
       "    }\n",
       "\n",
       "    .dataframe thead th {\n",
       "        text-align: right;\n",
       "    }\n",
       "</style>\n",
       "<table border=\"1\" class=\"dataframe\">\n",
       "  <thead>\n",
       "    <tr style=\"text-align: right;\">\n",
       "      <th></th>\n",
       "      <th>Id</th>\n",
       "      <th>PID</th>\n",
       "      <th>MS SubClass</th>\n",
       "      <th>MS Zoning</th>\n",
       "      <th>Lot Frontage</th>\n",
       "      <th>Lot Area</th>\n",
       "      <th>Street</th>\n",
       "      <th>Alley</th>\n",
       "      <th>Lot Shape</th>\n",
       "      <th>Land Contour</th>\n",
       "      <th>...</th>\n",
       "      <th>Screen Porch</th>\n",
       "      <th>Pool Area</th>\n",
       "      <th>Pool QC</th>\n",
       "      <th>Fence</th>\n",
       "      <th>Misc Feature</th>\n",
       "      <th>Misc Val</th>\n",
       "      <th>Mo Sold</th>\n",
       "      <th>Yr Sold</th>\n",
       "      <th>Sale Type</th>\n",
       "      <th>SalePrice</th>\n",
       "    </tr>\n",
       "  </thead>\n",
       "  <tbody>\n",
       "  </tbody>\n",
       "</table>\n",
       "<p>0 rows × 81 columns</p>\n",
       "</div>"
      ],
      "text/plain": [
       "Empty DataFrame\n",
       "Columns: [Id, PID, MS SubClass, MS Zoning, Lot Frontage, Lot Area, Street, Alley, Lot Shape, Land Contour, Utilities, Lot Config, Land Slope, Neighborhood, Condition 1, Condition 2, Bldg Type, House Style, Overall Qual, Overall Cond, Year Built, Year Remod/Add, Roof Style, Roof Matl, Exterior 1st, Exterior 2nd, Mas Vnr Type, Mas Vnr Area, Exter Qual, Exter Cond, Foundation, Bsmt Qual, Bsmt Cond, Bsmt Exposure, BsmtFin Type 1, BsmtFin SF 1, BsmtFin Type 2, BsmtFin SF 2, Bsmt Unf SF, Total Bsmt SF, Heating, Heating QC, Central Air, Electrical, 1st Flr SF, 2nd Flr SF, Low Qual Fin SF, Gr Liv Area, Bsmt Full Bath, Bsmt Half Bath, Full Bath, Half Bath, Bedroom AbvGr, Kitchen AbvGr, Kitchen Qual, TotRms AbvGrd, Functional, Fireplaces, Fireplace Qu, Garage Type, Garage Yr Blt, Garage Finish, Garage Cars, Garage Area, Garage Qual, Garage Cond, Paved Drive, Wood Deck SF, Open Porch SF, Enclosed Porch, 3Ssn Porch, Screen Porch, Pool Area, Pool QC, Fence, Misc Feature, Misc Val, Mo Sold, Yr Sold, Sale Type, SalePrice]\n",
       "Index: []\n",
       "\n",
       "[0 rows x 81 columns]"
      ]
     },
     "execution_count": 24,
     "metadata": {},
     "output_type": "execute_result"
    }
   ],
   "source": [
    "#Drop this observation\n",
    "df.drop(index=drop_index, inplace=True)\n",
    "\n",
    "#Check that it was dropped\n",
    "df[df['Garage Cars'].isnull() & df['Garage Area'].isnull()]"
   ]
  },
  {
   "cell_type": "code",
   "execution_count": 25,
   "id": "1a928adf-dc07-4cb5-be03-1bb81b171a5c",
   "metadata": {},
   "outputs": [
    {
     "data": {
      "text/html": [
       "<div>\n",
       "<style scoped>\n",
       "    .dataframe tbody tr th:only-of-type {\n",
       "        vertical-align: middle;\n",
       "    }\n",
       "\n",
       "    .dataframe tbody tr th {\n",
       "        vertical-align: top;\n",
       "    }\n",
       "\n",
       "    .dataframe thead th {\n",
       "        text-align: right;\n",
       "    }\n",
       "</style>\n",
       "<table border=\"1\" class=\"dataframe\">\n",
       "  <thead>\n",
       "    <tr style=\"text-align: right;\">\n",
       "      <th></th>\n",
       "      <th>Id</th>\n",
       "      <th>PID</th>\n",
       "      <th>MS SubClass</th>\n",
       "      <th>MS Zoning</th>\n",
       "      <th>Lot Frontage</th>\n",
       "      <th>Lot Area</th>\n",
       "      <th>Street</th>\n",
       "      <th>Alley</th>\n",
       "      <th>Lot Shape</th>\n",
       "      <th>Land Contour</th>\n",
       "      <th>...</th>\n",
       "      <th>Screen Porch</th>\n",
       "      <th>Pool Area</th>\n",
       "      <th>Pool QC</th>\n",
       "      <th>Fence</th>\n",
       "      <th>Misc Feature</th>\n",
       "      <th>Misc Val</th>\n",
       "      <th>Mo Sold</th>\n",
       "      <th>Yr Sold</th>\n",
       "      <th>Sale Type</th>\n",
       "      <th>SalePrice</th>\n",
       "    </tr>\n",
       "  </thead>\n",
       "  <tbody>\n",
       "    <tr>\n",
       "      <th>0</th>\n",
       "      <td>109</td>\n",
       "      <td>533352170</td>\n",
       "      <td>60</td>\n",
       "      <td>RL</td>\n",
       "      <td>NaN</td>\n",
       "      <td>13517</td>\n",
       "      <td>Pave</td>\n",
       "      <td>NaN</td>\n",
       "      <td>IR1</td>\n",
       "      <td>Lvl</td>\n",
       "      <td>...</td>\n",
       "      <td>0</td>\n",
       "      <td>0</td>\n",
       "      <td>NaN</td>\n",
       "      <td>NaN</td>\n",
       "      <td>NaN</td>\n",
       "      <td>0</td>\n",
       "      <td>3</td>\n",
       "      <td>2010</td>\n",
       "      <td>WD</td>\n",
       "      <td>130500</td>\n",
       "    </tr>\n",
       "    <tr>\n",
       "      <th>1</th>\n",
       "      <td>544</td>\n",
       "      <td>531379050</td>\n",
       "      <td>60</td>\n",
       "      <td>RL</td>\n",
       "      <td>43.0</td>\n",
       "      <td>11492</td>\n",
       "      <td>Pave</td>\n",
       "      <td>NaN</td>\n",
       "      <td>IR1</td>\n",
       "      <td>Lvl</td>\n",
       "      <td>...</td>\n",
       "      <td>0</td>\n",
       "      <td>0</td>\n",
       "      <td>NaN</td>\n",
       "      <td>NaN</td>\n",
       "      <td>NaN</td>\n",
       "      <td>0</td>\n",
       "      <td>4</td>\n",
       "      <td>2009</td>\n",
       "      <td>WD</td>\n",
       "      <td>220000</td>\n",
       "    </tr>\n",
       "    <tr>\n",
       "      <th>2</th>\n",
       "      <td>153</td>\n",
       "      <td>535304180</td>\n",
       "      <td>20</td>\n",
       "      <td>RL</td>\n",
       "      <td>68.0</td>\n",
       "      <td>7922</td>\n",
       "      <td>Pave</td>\n",
       "      <td>NaN</td>\n",
       "      <td>Reg</td>\n",
       "      <td>Lvl</td>\n",
       "      <td>...</td>\n",
       "      <td>0</td>\n",
       "      <td>0</td>\n",
       "      <td>NaN</td>\n",
       "      <td>NaN</td>\n",
       "      <td>NaN</td>\n",
       "      <td>0</td>\n",
       "      <td>1</td>\n",
       "      <td>2010</td>\n",
       "      <td>WD</td>\n",
       "      <td>109000</td>\n",
       "    </tr>\n",
       "    <tr>\n",
       "      <th>3</th>\n",
       "      <td>318</td>\n",
       "      <td>916386060</td>\n",
       "      <td>60</td>\n",
       "      <td>RL</td>\n",
       "      <td>73.0</td>\n",
       "      <td>9802</td>\n",
       "      <td>Pave</td>\n",
       "      <td>NaN</td>\n",
       "      <td>Reg</td>\n",
       "      <td>Lvl</td>\n",
       "      <td>...</td>\n",
       "      <td>0</td>\n",
       "      <td>0</td>\n",
       "      <td>NaN</td>\n",
       "      <td>NaN</td>\n",
       "      <td>NaN</td>\n",
       "      <td>0</td>\n",
       "      <td>4</td>\n",
       "      <td>2010</td>\n",
       "      <td>WD</td>\n",
       "      <td>174000</td>\n",
       "    </tr>\n",
       "    <tr>\n",
       "      <th>4</th>\n",
       "      <td>255</td>\n",
       "      <td>906425045</td>\n",
       "      <td>50</td>\n",
       "      <td>RL</td>\n",
       "      <td>82.0</td>\n",
       "      <td>14235</td>\n",
       "      <td>Pave</td>\n",
       "      <td>NaN</td>\n",
       "      <td>IR1</td>\n",
       "      <td>Lvl</td>\n",
       "      <td>...</td>\n",
       "      <td>0</td>\n",
       "      <td>0</td>\n",
       "      <td>NaN</td>\n",
       "      <td>NaN</td>\n",
       "      <td>NaN</td>\n",
       "      <td>0</td>\n",
       "      <td>3</td>\n",
       "      <td>2010</td>\n",
       "      <td>WD</td>\n",
       "      <td>138500</td>\n",
       "    </tr>\n",
       "  </tbody>\n",
       "</table>\n",
       "<p>5 rows × 81 columns</p>\n",
       "</div>"
      ],
      "text/plain": [
       "    Id        PID  MS SubClass MS Zoning  Lot Frontage  Lot Area Street Alley  \\\n",
       "0  109  533352170           60        RL           NaN     13517   Pave   NaN   \n",
       "1  544  531379050           60        RL          43.0     11492   Pave   NaN   \n",
       "2  153  535304180           20        RL          68.0      7922   Pave   NaN   \n",
       "3  318  916386060           60        RL          73.0      9802   Pave   NaN   \n",
       "4  255  906425045           50        RL          82.0     14235   Pave   NaN   \n",
       "\n",
       "  Lot Shape Land Contour  ... Screen Porch Pool Area Pool QC Fence  \\\n",
       "0       IR1          Lvl  ...            0         0     NaN   NaN   \n",
       "1       IR1          Lvl  ...            0         0     NaN   NaN   \n",
       "2       Reg          Lvl  ...            0         0     NaN   NaN   \n",
       "3       Reg          Lvl  ...            0         0     NaN   NaN   \n",
       "4       IR1          Lvl  ...            0         0     NaN   NaN   \n",
       "\n",
       "  Misc Feature Misc Val Mo Sold Yr Sold  Sale Type  SalePrice  \n",
       "0          NaN        0       3    2010        WD      130500  \n",
       "1          NaN        0       4    2009        WD      220000  \n",
       "2          NaN        0       1    2010        WD      109000  \n",
       "3          NaN        0       4    2010        WD      174000  \n",
       "4          NaN        0       3    2010        WD      138500  \n",
       "\n",
       "[5 rows x 81 columns]"
      ]
     },
     "execution_count": 25,
     "metadata": {},
     "output_type": "execute_result"
    }
   ],
   "source": [
    "#Reset the index after dropping, so as not to create issues\n",
    "df.reset_index(inplace=True,drop=True)\n",
    "df.head()"
   ]
  },
  {
   "cell_type": "code",
   "execution_count": 26,
   "id": "316b9427-a938-43d7-b846-3d5418cedf66",
   "metadata": {},
   "outputs": [
    {
     "name": "stdout",
     "output_type": "stream",
     "text": [
      "Number of rows with missing Garage Qual value: 113\n",
      "Number of rows with missing Garage Cond value: 113\n",
      "Number of rows with missing Garage Finish value: 113\n",
      "Number of rows with missing Garage Yr Blt value: 113\n",
      "Number of rows with missing Garage Type value: 113\n",
      "Number of rows with missing Garage Cars value: 0\n",
      "Number of rows with missing Garage Area value: 0\n"
     ]
    }
   ],
   "source": [
    "#Check that everything adds up\n",
    "for col in garages+['Garage Cars', 'Garage Area']:\n",
    "    print(f\"Number of rows with missing {col} value: {len(df[df[col].isnull()])}\")"
   ]
  },
  {
   "cell_type": "markdown",
   "id": "036bccb1-503b-40f7-9b50-6bd82773923b",
   "metadata": {
    "tags": []
   },
   "source": [
    "## Masonry Veneer"
   ]
  },
  {
   "cell_type": "code",
   "execution_count": 27,
   "id": "cafa093c-1eb7-4d13-b07e-7e59d167c106",
   "metadata": {},
   "outputs": [
    {
     "data": {
      "text/plain": [
       "None       1214\n",
       "BrkFace     627\n",
       "Stone       168\n",
       "BrkCmn       13\n",
       "Name: Mas Vnr Type, dtype: int64"
      ]
     },
     "execution_count": 27,
     "metadata": {},
     "output_type": "execute_result"
    }
   ],
   "source": [
    "df['Mas Vnr Type'].value_counts()"
   ]
  },
  {
   "cell_type": "code",
   "execution_count": 28,
   "id": "09bf0b3c-7e09-4a41-b3bf-52e73a5c281e",
   "metadata": {},
   "outputs": [
    {
     "name": "stdout",
     "output_type": "stream",
     "text": [
      "Number of rows with missing Mas Vnr Type value: 22\n",
      "Number of rows with missing Mas Vnr Area value: 22\n"
     ]
    }
   ],
   "source": [
    "masonry = ['Mas Vnr Type', 'Mas Vnr Area']\n",
    "for col in masonry:\n",
    "    print(f\"Number of rows with missing {col} value: {len(df[df[col].isnull()])}\")"
   ]
  },
  {
   "cell_type": "code",
   "execution_count": 29,
   "id": "3976bd4b-3e59-4eda-b646-d2cef0fd65b3",
   "metadata": {},
   "outputs": [
    {
     "data": {
      "text/plain": [
       "22"
      ]
     },
     "execution_count": 29,
     "metadata": {},
     "output_type": "execute_result"
    }
   ],
   "source": [
    "#Are these all the same 22 data points?\n",
    "len(df[ df['Mas Vnr Type'].isnull() & df['Mas Vnr Area'].isnull() ])"
   ]
  },
  {
   "cell_type": "markdown",
   "id": "01085f7d-dc52-4a83-8894-64079f55ef45",
   "metadata": {},
   "source": [
    "So these 22 observations are missing both `Mas Vnr Type` and `Mas Vnr Area`.  However, an additional 1214 observations seem to have \"None\" as their masonry veneer type.  Let's check that these 1214 observations all have a `Mas Vnr Area` of 0:"
   ]
  },
  {
   "cell_type": "code",
   "execution_count": 30,
   "id": "c1a5fe46-557c-4cf8-afb4-e242356a8d35",
   "metadata": {},
   "outputs": [
    {
     "data": {
      "text/plain": [
       "1209"
      ]
     },
     "execution_count": 30,
     "metadata": {},
     "output_type": "execute_result"
    }
   ],
   "source": [
    "#This cell should output 1214 if so\n",
    "len(df[ (df['Mas Vnr Type']=='None') & (df['Mas Vnr Area']==0) ])"
   ]
  },
  {
   "cell_type": "markdown",
   "id": "889f44c6-8066-49ff-855c-42a40a998b5c",
   "metadata": {},
   "source": [
    "So apparently 5 observations *have some masonry veneer area but have no masonry veneer type*.  What are these?"
   ]
  },
  {
   "cell_type": "code",
   "execution_count": 31,
   "id": "ae6fbd2b-b707-4841-a510-ff62214a8ac2",
   "metadata": {},
   "outputs": [
    {
     "data": {
      "text/html": [
       "<div>\n",
       "<style scoped>\n",
       "    .dataframe tbody tr th:only-of-type {\n",
       "        vertical-align: middle;\n",
       "    }\n",
       "\n",
       "    .dataframe tbody tr th {\n",
       "        vertical-align: top;\n",
       "    }\n",
       "\n",
       "    .dataframe thead th {\n",
       "        text-align: right;\n",
       "    }\n",
       "</style>\n",
       "<table border=\"1\" class=\"dataframe\">\n",
       "  <thead>\n",
       "    <tr style=\"text-align: right;\">\n",
       "      <th></th>\n",
       "      <th>Mas Vnr Area</th>\n",
       "      <th>Mas Vnr Type</th>\n",
       "    </tr>\n",
       "  </thead>\n",
       "  <tbody>\n",
       "    <tr>\n",
       "      <th>764</th>\n",
       "      <td>1.0</td>\n",
       "      <td>None</td>\n",
       "    </tr>\n",
       "    <tr>\n",
       "      <th>809</th>\n",
       "      <td>288.0</td>\n",
       "      <td>None</td>\n",
       "    </tr>\n",
       "    <tr>\n",
       "      <th>1146</th>\n",
       "      <td>1.0</td>\n",
       "      <td>None</td>\n",
       "    </tr>\n",
       "    <tr>\n",
       "      <th>1679</th>\n",
       "      <td>1.0</td>\n",
       "      <td>None</td>\n",
       "    </tr>\n",
       "    <tr>\n",
       "      <th>1826</th>\n",
       "      <td>344.0</td>\n",
       "      <td>None</td>\n",
       "    </tr>\n",
       "  </tbody>\n",
       "</table>\n",
       "</div>"
      ],
      "text/plain": [
       "      Mas Vnr Area Mas Vnr Type\n",
       "764            1.0         None\n",
       "809          288.0         None\n",
       "1146           1.0         None\n",
       "1679           1.0         None\n",
       "1826         344.0         None"
      ]
     },
     "execution_count": 31,
     "metadata": {},
     "output_type": "execute_result"
    }
   ],
   "source": [
    "df[ (df['Mas Vnr Type']=='None') & (df['Mas Vnr Area']!=0) ][['Mas Vnr Area', 'Mas Vnr Type']]"
   ]
  },
  {
   "cell_type": "markdown",
   "id": "4729ba1f-3e15-4d46-8741-23701730d1c9",
   "metadata": {},
   "source": [
    "It seems to me that the three observations with a masonry veneer area of only *one square foot* may as well be considered to have no masonry veneer at all (especially since the `Mas Vnr Type` is missing for them), meaning the \"None\"s in their `Mas Vnr Type` column probably truly indicate a lack of masonry veneer.  The other two of these observations likely *do* have masonry veneer; otherwise these numbers should not have appeared in their `Mas Vnr Area`.\n",
    "\n",
    "I think the safest move is to drop these two odd data points with a large `Mas Vnr Area` and no `Mas Vnr Type`, then to set all the 'None' values to be `np.nan` so that they will be properly filled in the next notebook."
   ]
  },
  {
   "cell_type": "code",
   "execution_count": 32,
   "id": "c5f4c0f4-a077-4845-be21-4ae9efe95127",
   "metadata": {},
   "outputs": [
    {
     "data": {
      "text/plain": [
       "Int64Index([809, 1826], dtype='int64')"
      ]
     },
     "execution_count": 32,
     "metadata": {},
     "output_type": "execute_result"
    }
   ],
   "source": [
    "#Find the indices of the two observations to drop\n",
    "drop_indices = df[ (df['Mas Vnr Type']=='None') & (df['Mas Vnr Area']>100) ].index\n",
    "drop_indices"
   ]
  },
  {
   "cell_type": "code",
   "execution_count": 33,
   "id": "d604b38e-b012-4169-a926-498e67df2201",
   "metadata": {},
   "outputs": [
    {
     "data": {
      "text/html": [
       "<div>\n",
       "<style scoped>\n",
       "    .dataframe tbody tr th:only-of-type {\n",
       "        vertical-align: middle;\n",
       "    }\n",
       "\n",
       "    .dataframe tbody tr th {\n",
       "        vertical-align: top;\n",
       "    }\n",
       "\n",
       "    .dataframe thead th {\n",
       "        text-align: right;\n",
       "    }\n",
       "</style>\n",
       "<table border=\"1\" class=\"dataframe\">\n",
       "  <thead>\n",
       "    <tr style=\"text-align: right;\">\n",
       "      <th></th>\n",
       "      <th>Id</th>\n",
       "      <th>PID</th>\n",
       "      <th>MS SubClass</th>\n",
       "      <th>MS Zoning</th>\n",
       "      <th>Lot Frontage</th>\n",
       "      <th>Lot Area</th>\n",
       "      <th>Street</th>\n",
       "      <th>Alley</th>\n",
       "      <th>Lot Shape</th>\n",
       "      <th>Land Contour</th>\n",
       "      <th>...</th>\n",
       "      <th>Screen Porch</th>\n",
       "      <th>Pool Area</th>\n",
       "      <th>Pool QC</th>\n",
       "      <th>Fence</th>\n",
       "      <th>Misc Feature</th>\n",
       "      <th>Misc Val</th>\n",
       "      <th>Mo Sold</th>\n",
       "      <th>Yr Sold</th>\n",
       "      <th>Sale Type</th>\n",
       "      <th>SalePrice</th>\n",
       "    </tr>\n",
       "  </thead>\n",
       "  <tbody>\n",
       "  </tbody>\n",
       "</table>\n",
       "<p>0 rows × 81 columns</p>\n",
       "</div>"
      ],
      "text/plain": [
       "Empty DataFrame\n",
       "Columns: [Id, PID, MS SubClass, MS Zoning, Lot Frontage, Lot Area, Street, Alley, Lot Shape, Land Contour, Utilities, Lot Config, Land Slope, Neighborhood, Condition 1, Condition 2, Bldg Type, House Style, Overall Qual, Overall Cond, Year Built, Year Remod/Add, Roof Style, Roof Matl, Exterior 1st, Exterior 2nd, Mas Vnr Type, Mas Vnr Area, Exter Qual, Exter Cond, Foundation, Bsmt Qual, Bsmt Cond, Bsmt Exposure, BsmtFin Type 1, BsmtFin SF 1, BsmtFin Type 2, BsmtFin SF 2, Bsmt Unf SF, Total Bsmt SF, Heating, Heating QC, Central Air, Electrical, 1st Flr SF, 2nd Flr SF, Low Qual Fin SF, Gr Liv Area, Bsmt Full Bath, Bsmt Half Bath, Full Bath, Half Bath, Bedroom AbvGr, Kitchen AbvGr, Kitchen Qual, TotRms AbvGrd, Functional, Fireplaces, Fireplace Qu, Garage Type, Garage Yr Blt, Garage Finish, Garage Cars, Garage Area, Garage Qual, Garage Cond, Paved Drive, Wood Deck SF, Open Porch SF, Enclosed Porch, 3Ssn Porch, Screen Porch, Pool Area, Pool QC, Fence, Misc Feature, Misc Val, Mo Sold, Yr Sold, Sale Type, SalePrice]\n",
       "Index: []\n",
       "\n",
       "[0 rows x 81 columns]"
      ]
     },
     "execution_count": 33,
     "metadata": {},
     "output_type": "execute_result"
    }
   ],
   "source": [
    "#Drop these observations\n",
    "df.drop(index=drop_indices, inplace=True)\n",
    "\n",
    "#Check that they were dropped\n",
    "df[ (df['Mas Vnr Type']=='None') & (df['Mas Vnr Area']>100) ]"
   ]
  },
  {
   "cell_type": "code",
   "execution_count": 34,
   "id": "b33bb537-95cd-432a-a73b-4e7427554edf",
   "metadata": {},
   "outputs": [
    {
     "data": {
      "text/html": [
       "<div>\n",
       "<style scoped>\n",
       "    .dataframe tbody tr th:only-of-type {\n",
       "        vertical-align: middle;\n",
       "    }\n",
       "\n",
       "    .dataframe tbody tr th {\n",
       "        vertical-align: top;\n",
       "    }\n",
       "\n",
       "    .dataframe thead th {\n",
       "        text-align: right;\n",
       "    }\n",
       "</style>\n",
       "<table border=\"1\" class=\"dataframe\">\n",
       "  <thead>\n",
       "    <tr style=\"text-align: right;\">\n",
       "      <th></th>\n",
       "      <th>Id</th>\n",
       "      <th>PID</th>\n",
       "      <th>MS SubClass</th>\n",
       "      <th>MS Zoning</th>\n",
       "      <th>Lot Frontage</th>\n",
       "      <th>Lot Area</th>\n",
       "      <th>Street</th>\n",
       "      <th>Alley</th>\n",
       "      <th>Lot Shape</th>\n",
       "      <th>Land Contour</th>\n",
       "      <th>...</th>\n",
       "      <th>Screen Porch</th>\n",
       "      <th>Pool Area</th>\n",
       "      <th>Pool QC</th>\n",
       "      <th>Fence</th>\n",
       "      <th>Misc Feature</th>\n",
       "      <th>Misc Val</th>\n",
       "      <th>Mo Sold</th>\n",
       "      <th>Yr Sold</th>\n",
       "      <th>Sale Type</th>\n",
       "      <th>SalePrice</th>\n",
       "    </tr>\n",
       "  </thead>\n",
       "  <tbody>\n",
       "    <tr>\n",
       "      <th>0</th>\n",
       "      <td>109</td>\n",
       "      <td>533352170</td>\n",
       "      <td>60</td>\n",
       "      <td>RL</td>\n",
       "      <td>NaN</td>\n",
       "      <td>13517</td>\n",
       "      <td>Pave</td>\n",
       "      <td>NaN</td>\n",
       "      <td>IR1</td>\n",
       "      <td>Lvl</td>\n",
       "      <td>...</td>\n",
       "      <td>0</td>\n",
       "      <td>0</td>\n",
       "      <td>NaN</td>\n",
       "      <td>NaN</td>\n",
       "      <td>NaN</td>\n",
       "      <td>0</td>\n",
       "      <td>3</td>\n",
       "      <td>2010</td>\n",
       "      <td>WD</td>\n",
       "      <td>130500</td>\n",
       "    </tr>\n",
       "    <tr>\n",
       "      <th>1</th>\n",
       "      <td>544</td>\n",
       "      <td>531379050</td>\n",
       "      <td>60</td>\n",
       "      <td>RL</td>\n",
       "      <td>43.0</td>\n",
       "      <td>11492</td>\n",
       "      <td>Pave</td>\n",
       "      <td>NaN</td>\n",
       "      <td>IR1</td>\n",
       "      <td>Lvl</td>\n",
       "      <td>...</td>\n",
       "      <td>0</td>\n",
       "      <td>0</td>\n",
       "      <td>NaN</td>\n",
       "      <td>NaN</td>\n",
       "      <td>NaN</td>\n",
       "      <td>0</td>\n",
       "      <td>4</td>\n",
       "      <td>2009</td>\n",
       "      <td>WD</td>\n",
       "      <td>220000</td>\n",
       "    </tr>\n",
       "    <tr>\n",
       "      <th>2</th>\n",
       "      <td>153</td>\n",
       "      <td>535304180</td>\n",
       "      <td>20</td>\n",
       "      <td>RL</td>\n",
       "      <td>68.0</td>\n",
       "      <td>7922</td>\n",
       "      <td>Pave</td>\n",
       "      <td>NaN</td>\n",
       "      <td>Reg</td>\n",
       "      <td>Lvl</td>\n",
       "      <td>...</td>\n",
       "      <td>0</td>\n",
       "      <td>0</td>\n",
       "      <td>NaN</td>\n",
       "      <td>NaN</td>\n",
       "      <td>NaN</td>\n",
       "      <td>0</td>\n",
       "      <td>1</td>\n",
       "      <td>2010</td>\n",
       "      <td>WD</td>\n",
       "      <td>109000</td>\n",
       "    </tr>\n",
       "    <tr>\n",
       "      <th>3</th>\n",
       "      <td>318</td>\n",
       "      <td>916386060</td>\n",
       "      <td>60</td>\n",
       "      <td>RL</td>\n",
       "      <td>73.0</td>\n",
       "      <td>9802</td>\n",
       "      <td>Pave</td>\n",
       "      <td>NaN</td>\n",
       "      <td>Reg</td>\n",
       "      <td>Lvl</td>\n",
       "      <td>...</td>\n",
       "      <td>0</td>\n",
       "      <td>0</td>\n",
       "      <td>NaN</td>\n",
       "      <td>NaN</td>\n",
       "      <td>NaN</td>\n",
       "      <td>0</td>\n",
       "      <td>4</td>\n",
       "      <td>2010</td>\n",
       "      <td>WD</td>\n",
       "      <td>174000</td>\n",
       "    </tr>\n",
       "    <tr>\n",
       "      <th>4</th>\n",
       "      <td>255</td>\n",
       "      <td>906425045</td>\n",
       "      <td>50</td>\n",
       "      <td>RL</td>\n",
       "      <td>82.0</td>\n",
       "      <td>14235</td>\n",
       "      <td>Pave</td>\n",
       "      <td>NaN</td>\n",
       "      <td>IR1</td>\n",
       "      <td>Lvl</td>\n",
       "      <td>...</td>\n",
       "      <td>0</td>\n",
       "      <td>0</td>\n",
       "      <td>NaN</td>\n",
       "      <td>NaN</td>\n",
       "      <td>NaN</td>\n",
       "      <td>0</td>\n",
       "      <td>3</td>\n",
       "      <td>2010</td>\n",
       "      <td>WD</td>\n",
       "      <td>138500</td>\n",
       "    </tr>\n",
       "  </tbody>\n",
       "</table>\n",
       "<p>5 rows × 81 columns</p>\n",
       "</div>"
      ],
      "text/plain": [
       "    Id        PID  MS SubClass MS Zoning  Lot Frontage  Lot Area Street Alley  \\\n",
       "0  109  533352170           60        RL           NaN     13517   Pave   NaN   \n",
       "1  544  531379050           60        RL          43.0     11492   Pave   NaN   \n",
       "2  153  535304180           20        RL          68.0      7922   Pave   NaN   \n",
       "3  318  916386060           60        RL          73.0      9802   Pave   NaN   \n",
       "4  255  906425045           50        RL          82.0     14235   Pave   NaN   \n",
       "\n",
       "  Lot Shape Land Contour  ... Screen Porch Pool Area Pool QC Fence  \\\n",
       "0       IR1          Lvl  ...            0         0     NaN   NaN   \n",
       "1       IR1          Lvl  ...            0         0     NaN   NaN   \n",
       "2       Reg          Lvl  ...            0         0     NaN   NaN   \n",
       "3       Reg          Lvl  ...            0         0     NaN   NaN   \n",
       "4       IR1          Lvl  ...            0         0     NaN   NaN   \n",
       "\n",
       "  Misc Feature Misc Val Mo Sold Yr Sold  Sale Type  SalePrice  \n",
       "0          NaN        0       3    2010        WD      130500  \n",
       "1          NaN        0       4    2009        WD      220000  \n",
       "2          NaN        0       1    2010        WD      109000  \n",
       "3          NaN        0       4    2010        WD      174000  \n",
       "4          NaN        0       3    2010        WD      138500  \n",
       "\n",
       "[5 rows x 81 columns]"
      ]
     },
     "execution_count": 34,
     "metadata": {},
     "output_type": "execute_result"
    }
   ],
   "source": [
    "#Reset the index after dropping, so as not to create issues\n",
    "df.reset_index(inplace=True,drop=True)\n",
    "df.head()"
   ]
  },
  {
   "cell_type": "code",
   "execution_count": 35,
   "id": "20c6cbfd-1ecb-40bc-8963-23061aaaed0d",
   "metadata": {},
   "outputs": [
    {
     "data": {
      "text/plain": [
       "1212"
      ]
     },
     "execution_count": 35,
     "metadata": {},
     "output_type": "execute_result"
    }
   ],
   "source": [
    "#Change the 'None's to np.nan\n",
    "\n",
    "#Find the indices of these 1212 remaining observations with Mas Vnr Type == 'None'\n",
    "change_indices = df[df['Mas Vnr Type']=='None'].index\n",
    "len(change_indices)"
   ]
  },
  {
   "cell_type": "code",
   "execution_count": 36,
   "id": "5278103a-a760-4a93-a7dd-ad61dfd5737b",
   "metadata": {},
   "outputs": [],
   "source": [
    "#Change these to np.nan\n",
    "df.iloc[change_indices, df.columns.get_loc('Mas Vnr Type')] = np.nan"
   ]
  },
  {
   "cell_type": "code",
   "execution_count": 37,
   "id": "5b055e2b-930d-43af-8afe-1376f1919c85",
   "metadata": {},
   "outputs": [
    {
     "data": {
      "text/plain": [
       "BrkFace    627\n",
       "Stone      168\n",
       "BrkCmn      13\n",
       "Name: Mas Vnr Type, dtype: int64"
      ]
     },
     "execution_count": 37,
     "metadata": {},
     "output_type": "execute_result"
    }
   ],
   "source": [
    "#Check the value counts to make sure it worked\n",
    "df['Mas Vnr Type'].value_counts()"
   ]
  },
  {
   "cell_type": "code",
   "execution_count": 38,
   "id": "0a2ac28f-dcae-4dcf-a578-9e901e01a505",
   "metadata": {},
   "outputs": [
    {
     "data": {
      "text/plain": [
       "Mas Vnr Type    1234\n",
       "dtype: int64"
      ]
     },
     "execution_count": 38,
     "metadata": {},
     "output_type": "execute_result"
    }
   ],
   "source": [
    "#We should now have 22 + 1212 = 1234 missing observations\n",
    "df[['Mas Vnr Type']].isnull().sum()"
   ]
  },
  {
   "cell_type": "markdown",
   "id": "40b103a7-8d16-4720-a322-7629ddf5d388",
   "metadata": {},
   "source": [
    "## Electrical (not needed for training data, but useful for test data below)"
   ]
  },
  {
   "cell_type": "code",
   "execution_count": 39,
   "id": "bf2a66fb-4093-454c-9c3e-a5c87506ea3b",
   "metadata": {},
   "outputs": [
    {
     "data": {
      "text/plain": [
       "SBrkr    1860\n",
       "FuseA     139\n",
       "FuseF      35\n",
       "FuseP       7\n",
       "Mix         1\n",
       "Name: Electrical, dtype: int64"
      ]
     },
     "execution_count": 39,
     "metadata": {},
     "output_type": "execute_result"
    }
   ],
   "source": [
    "df['Electrical'].value_counts()"
   ]
  },
  {
   "cell_type": "markdown",
   "id": "94305ede-eeb6-42d5-adbc-5fdf095cabe1",
   "metadata": {},
   "source": [
    "## We've finished dropping \"legitimately missing values.\"\n",
    "\n",
    "All of the categories above (basement, garage, masonry veneer) contained similar numbers of multiple missing variables.  As we can see, all the remaining missing variables do not share anything in common:"
   ]
  },
  {
   "cell_type": "code",
   "execution_count": 40,
   "id": "fb833a94-a635-4fd9-9006-0496ba6feb6a",
   "metadata": {},
   "outputs": [
    {
     "name": "stdout",
     "output_type": "stream",
     "text": [
      "329 missing values from variable Lot Frontage\n",
      "1902 missing values from variable Alley\n",
      "1234 missing values from variable Mas Vnr Type\n",
      "22 missing values from variable Mas Vnr Area\n",
      "53 missing values from variable Bsmt Qual\n",
      "53 missing values from variable Bsmt Cond\n",
      "53 missing values from variable Bsmt Exposure\n",
      "53 missing values from variable BsmtFin Type 1\n",
      "53 missing values from variable BsmtFin Type 2\n",
      "997 missing values from variable Fireplace Qu\n",
      "113 missing values from variable Garage Type\n",
      "113 missing values from variable Garage Yr Blt\n",
      "113 missing values from variable Garage Finish\n",
      "113 missing values from variable Garage Qual\n",
      "113 missing values from variable Garage Cond\n",
      "2033 missing values from variable Pool QC\n",
      "1644 missing values from variable Fence\n",
      "1977 missing values from variable Misc Feature\n"
     ]
    }
   ],
   "source": [
    "#Look for missing values, again\n",
    "variables_with_missing = df.isnull().sum().index\n",
    "missing_nos = df.isnull().sum().values\n",
    "\n",
    "for i in range(len(variables_with_missing)):\n",
    "    if missing_nos[i] != 0:\n",
    "        print(f'{missing_nos[i]} missing values from variable {variables_with_missing[i]}')"
   ]
  },
  {
   "cell_type": "markdown",
   "id": "5644254c-50ec-41da-822b-91a1e9bbe254",
   "metadata": {},
   "source": [
    "In each of the remaining categories, we'll use a function (in the next notebook, \"data_cleaning\") to fill these values with \"DNE\" (Does Not Exist) or with 0 as appropriate.\n",
    "\n",
    "The only thing that sticks out from this list is the fact that there are only 22 missing values from `Mas Vnr Area` but there are 1234 missing values from `Mas Vnr Type`.  As we saw, this is because those observations that are missing a `Mas Vnr Type` but have a `Mas Vnr Area` all have a `Mas Vnr Area` of 0, which does indeed correspond to a \"missing\" value of `Mas Vnr Type`.\n",
    "\n",
    "So all is accounted for!\n",
    "\n",
    "For now, all that's left is to remove the extreme outliers mentioned in the data description.  So let's find them:"
   ]
  },
  {
   "cell_type": "markdown",
   "id": "f9dff117-d036-4fa8-a896-281879040f4a",
   "metadata": {},
   "source": [
    "## Looking for Outliers"
   ]
  },
  {
   "cell_type": "code",
   "execution_count": 41,
   "id": "1753d1c7-951a-4aca-ae9d-805999307e0b",
   "metadata": {},
   "outputs": [
    {
     "data": {
      "text/plain": [
       "Text(0, 0.5, 'Sale Price ($)')"
      ]
     },
     "execution_count": 41,
     "metadata": {},
     "output_type": "execute_result"
    },
    {
     "data": {
      "image/png": "[encoded data removed]",
      "text/plain": [
       "<Figure size 640x480 with 1 Axes>"
      ]
     },
     "metadata": {},
     "output_type": "display_data"
    }
   ],
   "source": [
    "plt.scatter(df['Gr Liv Area'], df['SalePrice']);\n",
    "plt.xlabel('Above-grade living area (sq ft)');\n",
    "plt.ylabel('Sale Price ($)')"
   ]
  },
  {
   "cell_type": "markdown",
   "id": "3b7a5acf-ba7c-48ca-8116-96388fe3f8ca",
   "metadata": {},
   "source": [
    "As we can see, there are two very unusual observations on the bottom-right: homes with more than 5,000 square feet of above-grade living area that \"sold\" for middling prices.  As the data description says, these likely represent \"Partial Sales\" rather than actual sales.  So we should remove these observations from our data set before doing any predictive modeling:"
   ]
  },
  {
   "cell_type": "code",
   "execution_count": 42,
   "id": "4536ec87-32d4-4a7b-89e1-2437328e1eee",
   "metadata": {},
   "outputs": [
    {
     "data": {
      "text/html": [
       "<div>\n",
       "<style scoped>\n",
       "    .dataframe tbody tr th:only-of-type {\n",
       "        vertical-align: middle;\n",
       "    }\n",
       "\n",
       "    .dataframe tbody tr th {\n",
       "        vertical-align: top;\n",
       "    }\n",
       "\n",
       "    .dataframe thead th {\n",
       "        text-align: right;\n",
       "    }\n",
       "</style>\n",
       "<table border=\"1\" class=\"dataframe\">\n",
       "  <thead>\n",
       "    <tr style=\"text-align: right;\">\n",
       "      <th></th>\n",
       "      <th>Id</th>\n",
       "      <th>PID</th>\n",
       "      <th>MS SubClass</th>\n",
       "      <th>MS Zoning</th>\n",
       "      <th>Lot Frontage</th>\n",
       "      <th>Lot Area</th>\n",
       "      <th>Street</th>\n",
       "      <th>Alley</th>\n",
       "      <th>Lot Shape</th>\n",
       "      <th>Land Contour</th>\n",
       "      <th>...</th>\n",
       "      <th>Screen Porch</th>\n",
       "      <th>Pool Area</th>\n",
       "      <th>Pool QC</th>\n",
       "      <th>Fence</th>\n",
       "      <th>Misc Feature</th>\n",
       "      <th>Misc Val</th>\n",
       "      <th>Mo Sold</th>\n",
       "      <th>Yr Sold</th>\n",
       "      <th>Sale Type</th>\n",
       "      <th>SalePrice</th>\n",
       "    </tr>\n",
       "  </thead>\n",
       "  <tbody>\n",
       "    <tr>\n",
       "      <th>958</th>\n",
       "      <td>1499</td>\n",
       "      <td>908154235</td>\n",
       "      <td>60</td>\n",
       "      <td>RL</td>\n",
       "      <td>313.0</td>\n",
       "      <td>63887</td>\n",
       "      <td>Pave</td>\n",
       "      <td>NaN</td>\n",
       "      <td>IR3</td>\n",
       "      <td>Bnk</td>\n",
       "      <td>...</td>\n",
       "      <td>0</td>\n",
       "      <td>480</td>\n",
       "      <td>Gd</td>\n",
       "      <td>NaN</td>\n",
       "      <td>NaN</td>\n",
       "      <td>0</td>\n",
       "      <td>1</td>\n",
       "      <td>2008</td>\n",
       "      <td>New</td>\n",
       "      <td>160000</td>\n",
       "    </tr>\n",
       "    <tr>\n",
       "      <th>1877</th>\n",
       "      <td>2181</td>\n",
       "      <td>908154195</td>\n",
       "      <td>20</td>\n",
       "      <td>RL</td>\n",
       "      <td>128.0</td>\n",
       "      <td>39290</td>\n",
       "      <td>Pave</td>\n",
       "      <td>NaN</td>\n",
       "      <td>IR1</td>\n",
       "      <td>Bnk</td>\n",
       "      <td>...</td>\n",
       "      <td>0</td>\n",
       "      <td>0</td>\n",
       "      <td>NaN</td>\n",
       "      <td>NaN</td>\n",
       "      <td>Elev</td>\n",
       "      <td>17000</td>\n",
       "      <td>10</td>\n",
       "      <td>2007</td>\n",
       "      <td>New</td>\n",
       "      <td>183850</td>\n",
       "    </tr>\n",
       "  </tbody>\n",
       "</table>\n",
       "<p>2 rows × 81 columns</p>\n",
       "</div>"
      ],
      "text/plain": [
       "        Id        PID  MS SubClass MS Zoning  Lot Frontage  Lot Area Street  \\\n",
       "958   1499  908154235           60        RL         313.0     63887   Pave   \n",
       "1877  2181  908154195           20        RL         128.0     39290   Pave   \n",
       "\n",
       "     Alley Lot Shape Land Contour  ... Screen Porch Pool Area Pool QC Fence  \\\n",
       "958    NaN       IR3          Bnk  ...            0       480      Gd   NaN   \n",
       "1877   NaN       IR1          Bnk  ...            0         0     NaN   NaN   \n",
       "\n",
       "     Misc Feature Misc Val Mo Sold Yr Sold  Sale Type  SalePrice  \n",
       "958           NaN        0       1    2008        New     160000  \n",
       "1877         Elev    17000      10    2007        New     183850  \n",
       "\n",
       "[2 rows x 81 columns]"
      ]
     },
     "execution_count": 42,
     "metadata": {},
     "output_type": "execute_result"
    }
   ],
   "source": [
    "super_large = df['Gr Liv Area'] > 5000\n",
    "df[super_large]"
   ]
  },
  {
   "cell_type": "code",
   "execution_count": 43,
   "id": "83a4e682-6060-4fd2-9dc0-a168952cbb16",
   "metadata": {},
   "outputs": [
    {
     "data": {
      "text/plain": [
       "Int64Index([958, 1877], dtype='int64')"
      ]
     },
     "execution_count": 43,
     "metadata": {},
     "output_type": "execute_result"
    }
   ],
   "source": [
    "#Get their indices\n",
    "drop_indices = df[df['Gr Liv Area'] > 5000].index\n",
    "drop_indices"
   ]
  },
  {
   "cell_type": "code",
   "execution_count": 44,
   "id": "ffc789d2-90ef-4628-b84d-891d54969207",
   "metadata": {},
   "outputs": [
    {
     "data": {
      "text/plain": [
       "2042"
      ]
     },
     "execution_count": 44,
     "metadata": {},
     "output_type": "execute_result"
    }
   ],
   "source": [
    "len(df)"
   ]
  },
  {
   "cell_type": "code",
   "execution_count": 45,
   "id": "70f5e2ca-ff54-428b-a763-a5106633496f",
   "metadata": {},
   "outputs": [
    {
     "data": {
      "text/plain": [
       "2040"
      ]
     },
     "execution_count": 45,
     "metadata": {},
     "output_type": "execute_result"
    }
   ],
   "source": [
    "#Drop these 2 outliers\n",
    "df.drop(index=drop_indices, inplace=True)\n",
    "\n",
    "#Check that exactly 2 were dropped\n",
    "len(df)"
   ]
  },
  {
   "cell_type": "markdown",
   "id": "f20729ed-a542-4d0d-8a87-16cdf1e57d7f",
   "metadata": {},
   "source": [
    "## Data Export: Training Set"
   ]
  },
  {
   "cell_type": "code",
   "execution_count": 46,
   "id": "6ab5947c-3e6d-4b7c-8af2-0ab5dce49e90",
   "metadata": {},
   "outputs": [],
   "source": [
    "df.to_csv('../datasets/train_prepared.csv', index=False)"
   ]
  },
  {
   "cell_type": "markdown",
   "id": "60d06a2b-498d-47ce-885a-85fade7fa911",
   "metadata": {},
   "source": [
    "# Test Data Set"
   ]
  },
  {
   "cell_type": "markdown",
   "id": "377794a9-9eb3-4a35-af18-6f9e83e57bda",
   "metadata": {},
   "source": [
    "Our approach to \"preparing\" this data set will be the same as what we did for the training data set."
   ]
  },
  {
   "cell_type": "markdown",
   "id": "236e2e78-4fd3-4b40-86d6-9da60f2618b2",
   "metadata": {},
   "source": [
    "## Data Import: Test Set"
   ]
  },
  {
   "cell_type": "code",
   "execution_count": 47,
   "id": "a9e12bb6-b667-4741-9437-76dc6f091e0a",
   "metadata": {},
   "outputs": [],
   "source": [
    "df=pd.read_csv('../datasets/test.csv')"
   ]
  },
  {
   "cell_type": "code",
   "execution_count": 48,
   "id": "aa038cc7-73ff-4ef0-95f2-401f4861f404",
   "metadata": {},
   "outputs": [
    {
     "data": {
      "text/html": [
       "<div>\n",
       "<style scoped>\n",
       "    .dataframe tbody tr th:only-of-type {\n",
       "        vertical-align: middle;\n",
       "    }\n",
       "\n",
       "    .dataframe tbody tr th {\n",
       "        vertical-align: top;\n",
       "    }\n",
       "\n",
       "    .dataframe thead th {\n",
       "        text-align: right;\n",
       "    }\n",
       "</style>\n",
       "<table border=\"1\" class=\"dataframe\">\n",
       "  <thead>\n",
       "    <tr style=\"text-align: right;\">\n",
       "      <th></th>\n",
       "      <th>Id</th>\n",
       "      <th>PID</th>\n",
       "      <th>MS SubClass</th>\n",
       "      <th>MS Zoning</th>\n",
       "      <th>Lot Frontage</th>\n",
       "      <th>Lot Area</th>\n",
       "      <th>Street</th>\n",
       "      <th>Alley</th>\n",
       "      <th>Lot Shape</th>\n",
       "      <th>Land Contour</th>\n",
       "      <th>...</th>\n",
       "      <th>3Ssn Porch</th>\n",
       "      <th>Screen Porch</th>\n",
       "      <th>Pool Area</th>\n",
       "      <th>Pool QC</th>\n",
       "      <th>Fence</th>\n",
       "      <th>Misc Feature</th>\n",
       "      <th>Misc Val</th>\n",
       "      <th>Mo Sold</th>\n",
       "      <th>Yr Sold</th>\n",
       "      <th>Sale Type</th>\n",
       "    </tr>\n",
       "  </thead>\n",
       "  <tbody>\n",
       "    <tr>\n",
       "      <th>0</th>\n",
       "      <td>2658</td>\n",
       "      <td>902301120</td>\n",
       "      <td>190</td>\n",
       "      <td>RM</td>\n",
       "      <td>69.0</td>\n",
       "      <td>9142</td>\n",
       "      <td>Pave</td>\n",
       "      <td>Grvl</td>\n",
       "      <td>Reg</td>\n",
       "      <td>Lvl</td>\n",
       "      <td>...</td>\n",
       "      <td>0</td>\n",
       "      <td>0</td>\n",
       "      <td>0</td>\n",
       "      <td>NaN</td>\n",
       "      <td>NaN</td>\n",
       "      <td>NaN</td>\n",
       "      <td>0</td>\n",
       "      <td>4</td>\n",
       "      <td>2006</td>\n",
       "      <td>WD</td>\n",
       "    </tr>\n",
       "    <tr>\n",
       "      <th>1</th>\n",
       "      <td>2718</td>\n",
       "      <td>905108090</td>\n",
       "      <td>90</td>\n",
       "      <td>RL</td>\n",
       "      <td>NaN</td>\n",
       "      <td>9662</td>\n",
       "      <td>Pave</td>\n",
       "      <td>NaN</td>\n",
       "      <td>IR1</td>\n",
       "      <td>Lvl</td>\n",
       "      <td>...</td>\n",
       "      <td>0</td>\n",
       "      <td>0</td>\n",
       "      <td>0</td>\n",
       "      <td>NaN</td>\n",
       "      <td>NaN</td>\n",
       "      <td>NaN</td>\n",
       "      <td>0</td>\n",
       "      <td>8</td>\n",
       "      <td>2006</td>\n",
       "      <td>WD</td>\n",
       "    </tr>\n",
       "    <tr>\n",
       "      <th>2</th>\n",
       "      <td>2414</td>\n",
       "      <td>528218130</td>\n",
       "      <td>60</td>\n",
       "      <td>RL</td>\n",
       "      <td>58.0</td>\n",
       "      <td>17104</td>\n",
       "      <td>Pave</td>\n",
       "      <td>NaN</td>\n",
       "      <td>IR1</td>\n",
       "      <td>Lvl</td>\n",
       "      <td>...</td>\n",
       "      <td>0</td>\n",
       "      <td>0</td>\n",
       "      <td>0</td>\n",
       "      <td>NaN</td>\n",
       "      <td>NaN</td>\n",
       "      <td>NaN</td>\n",
       "      <td>0</td>\n",
       "      <td>9</td>\n",
       "      <td>2006</td>\n",
       "      <td>New</td>\n",
       "    </tr>\n",
       "    <tr>\n",
       "      <th>3</th>\n",
       "      <td>1989</td>\n",
       "      <td>902207150</td>\n",
       "      <td>30</td>\n",
       "      <td>RM</td>\n",
       "      <td>60.0</td>\n",
       "      <td>8520</td>\n",
       "      <td>Pave</td>\n",
       "      <td>NaN</td>\n",
       "      <td>Reg</td>\n",
       "      <td>Lvl</td>\n",
       "      <td>...</td>\n",
       "      <td>0</td>\n",
       "      <td>0</td>\n",
       "      <td>0</td>\n",
       "      <td>NaN</td>\n",
       "      <td>NaN</td>\n",
       "      <td>NaN</td>\n",
       "      <td>0</td>\n",
       "      <td>7</td>\n",
       "      <td>2007</td>\n",
       "      <td>WD</td>\n",
       "    </tr>\n",
       "    <tr>\n",
       "      <th>4</th>\n",
       "      <td>625</td>\n",
       "      <td>535105100</td>\n",
       "      <td>20</td>\n",
       "      <td>RL</td>\n",
       "      <td>NaN</td>\n",
       "      <td>9500</td>\n",
       "      <td>Pave</td>\n",
       "      <td>NaN</td>\n",
       "      <td>IR1</td>\n",
       "      <td>Lvl</td>\n",
       "      <td>...</td>\n",
       "      <td>0</td>\n",
       "      <td>185</td>\n",
       "      <td>0</td>\n",
       "      <td>NaN</td>\n",
       "      <td>NaN</td>\n",
       "      <td>NaN</td>\n",
       "      <td>0</td>\n",
       "      <td>7</td>\n",
       "      <td>2009</td>\n",
       "      <td>WD</td>\n",
       "    </tr>\n",
       "  </tbody>\n",
       "</table>\n",
       "<p>5 rows × 80 columns</p>\n",
       "</div>"
      ],
      "text/plain": [
       "     Id        PID  MS SubClass MS Zoning  Lot Frontage  Lot Area Street  \\\n",
       "0  2658  902301120          190        RM          69.0      9142   Pave   \n",
       "1  2718  905108090           90        RL           NaN      9662   Pave   \n",
       "2  2414  528218130           60        RL          58.0     17104   Pave   \n",
       "3  1989  902207150           30        RM          60.0      8520   Pave   \n",
       "4   625  535105100           20        RL           NaN      9500   Pave   \n",
       "\n",
       "  Alley Lot Shape Land Contour  ... 3Ssn Porch Screen Porch Pool Area Pool QC  \\\n",
       "0  Grvl       Reg          Lvl  ...          0            0         0     NaN   \n",
       "1   NaN       IR1          Lvl  ...          0            0         0     NaN   \n",
       "2   NaN       IR1          Lvl  ...          0            0         0     NaN   \n",
       "3   NaN       Reg          Lvl  ...          0            0         0     NaN   \n",
       "4   NaN       IR1          Lvl  ...          0          185         0     NaN   \n",
       "\n",
       "  Fence Misc Feature Misc Val Mo Sold  Yr Sold  Sale Type  \n",
       "0   NaN          NaN        0       4     2006        WD   \n",
       "1   NaN          NaN        0       8     2006        WD   \n",
       "2   NaN          NaN        0       9     2006        New  \n",
       "3   NaN          NaN        0       7     2007        WD   \n",
       "4   NaN          NaN        0       7     2009        WD   \n",
       "\n",
       "[5 rows x 80 columns]"
      ]
     },
     "execution_count": 48,
     "metadata": {},
     "output_type": "execute_result"
    }
   ],
   "source": [
    "df.head()"
   ]
  },
  {
   "cell_type": "markdown",
   "id": "2ff712e8-f432-4059-aeb7-cb5bcd8b9c79",
   "metadata": {},
   "source": [
    "# Checking Missing Values"
   ]
  },
  {
   "cell_type": "code",
   "execution_count": 49,
   "id": "dd6cad39-b708-4e61-bf57-9e939d4ed736",
   "metadata": {},
   "outputs": [
    {
     "name": "stdout",
     "output_type": "stream",
     "text": [
      "160 missing values from variable Lot Frontage\n",
      "820 missing values from variable Alley\n",
      "1 missing values from variable Mas Vnr Type\n",
      "1 missing values from variable Mas Vnr Area\n",
      "25 missing values from variable Bsmt Qual\n",
      "25 missing values from variable Bsmt Cond\n",
      "25 missing values from variable Bsmt Exposure\n",
      "25 missing values from variable BsmtFin Type 1\n",
      "25 missing values from variable BsmtFin Type 2\n",
      "1 missing values from variable Electrical\n",
      "422 missing values from variable Fireplace Qu\n",
      "44 missing values from variable Garage Type\n",
      "45 missing values from variable Garage Yr Blt\n",
      "45 missing values from variable Garage Finish\n",
      "45 missing values from variable Garage Qual\n",
      "45 missing values from variable Garage Cond\n",
      "874 missing values from variable Pool QC\n",
      "706 missing values from variable Fence\n",
      "837 missing values from variable Misc Feature\n"
     ]
    }
   ],
   "source": [
    "#Look for missing values\n",
    "variables_with_missing = df.isnull().sum().index\n",
    "missing_nos = df.isnull().sum().values\n",
    "\n",
    "for i in range(len(variables_with_missing)):\n",
    "    if missing_nos[i] != 0:\n",
    "        print(f'{missing_nos[i]} missing values from variable {variables_with_missing[i]}')"
   ]
  },
  {
   "cell_type": "markdown",
   "id": "2d37baf1-a453-4ebf-8dd4-85e3ad2cfc36",
   "metadata": {},
   "source": [
    "As we can see, things look similar to how they looked in the training data set.  We'll just double-check that all the basement-related variables that are missing come from the same 25 observations, that all the masonry-related missing values come from the same observations, and that all the 45 missing garage-related values come from the same 45 observations.\n",
    "\n",
    "Note that the only apparent inconsistency here is that there are only *44* missing values from one of the garage-related variables, while the others are missing 45.  This warrants some investigation."
   ]
  },
  {
   "cell_type": "markdown",
   "id": "b826f4b1-ee89-4916-a5ba-ae7f454ea75b",
   "metadata": {},
   "source": [
    "## Garages"
   ]
  },
  {
   "cell_type": "code",
   "execution_count": 50,
   "id": "65d4532f-7de0-4333-bac8-0a8d0d1dbd36",
   "metadata": {},
   "outputs": [
    {
     "data": {
      "text/plain": [
       "45"
      ]
     },
     "execution_count": 50,
     "metadata": {},
     "output_type": "execute_result"
    }
   ],
   "source": [
    "#Check that all 45 missing values (except from `Garage Type`) are from the same 45 observations\n",
    "#If so, this cell should ouput 45\n",
    "len(df[ df['Garage Yr Blt'].isnull() & df['Garage Finish'].isnull() & df['Garage Qual'].isnull() & df['Garage Cond'].isnull() ])"
   ]
  },
  {
   "cell_type": "code",
   "execution_count": 51,
   "id": "f1bf8510-cb98-4b9a-ac1b-70b3fc434310",
   "metadata": {},
   "outputs": [
    {
     "data": {
      "text/plain": [
       "44"
      ]
     },
     "execution_count": 51,
     "metadata": {},
     "output_type": "execute_result"
    }
   ],
   "source": [
    "#Are the 44 observations missing a `Garage Type` a subset of the 45 above?\n",
    "#If so, this cell should output 44\n",
    "len(df[ df['Garage Yr Blt'].isnull() & df['Garage Type'].isnull() ])"
   ]
  },
  {
   "cell_type": "code",
   "execution_count": 52,
   "id": "fe2d416a-a6e9-4b14-84f4-fbef10760500",
   "metadata": {},
   "outputs": [
    {
     "data": {
      "text/html": [
       "<div>\n",
       "<style scoped>\n",
       "    .dataframe tbody tr th:only-of-type {\n",
       "        vertical-align: middle;\n",
       "    }\n",
       "\n",
       "    .dataframe tbody tr th {\n",
       "        vertical-align: top;\n",
       "    }\n",
       "\n",
       "    .dataframe thead th {\n",
       "        text-align: right;\n",
       "    }\n",
       "</style>\n",
       "<table border=\"1\" class=\"dataframe\">\n",
       "  <thead>\n",
       "    <tr style=\"text-align: right;\">\n",
       "      <th></th>\n",
       "      <th>Garage Qual</th>\n",
       "      <th>Garage Finish</th>\n",
       "      <th>Garage Cond</th>\n",
       "      <th>Garage Yr Blt</th>\n",
       "      <th>Garage Type</th>\n",
       "    </tr>\n",
       "  </thead>\n",
       "  <tbody>\n",
       "    <tr>\n",
       "      <th>764</th>\n",
       "      <td>NaN</td>\n",
       "      <td>NaN</td>\n",
       "      <td>NaN</td>\n",
       "      <td>NaN</td>\n",
       "      <td>Detchd</td>\n",
       "    </tr>\n",
       "  </tbody>\n",
       "</table>\n",
       "</div>"
      ],
      "text/plain": [
       "    Garage Qual Garage Finish Garage Cond  Garage Yr Blt Garage Type\n",
       "764         NaN           NaN         NaN            NaN      Detchd"
      ]
     },
     "execution_count": 52,
     "metadata": {},
     "output_type": "execute_result"
    }
   ],
   "source": [
    "#What's going on with the 1 oobservation that's not missing a`Garage Type`\n",
    "#but is missing the other 4 values?\n",
    "df[ df['Garage Qual'].isnull() & ~df['Garage Type'].isnull()][['Garage Qual', 'Garage Finish', 'Garage Cond', 'Garage Yr Blt', 'Garage Type']]"
   ]
  },
  {
   "cell_type": "markdown",
   "id": "8ab69e68-2865-4115-b4d5-5c0f371ec687",
   "metadata": {},
   "source": [
    "This one home has 4 variables that seem to indicate that it has no garage at all, but one variable (`Garage Type`) that says it has a \"detached garage.\"\n",
    "\n",
    "I think it's most likely that the filled-in `Garage Type` is an error and that in reality this home simply lacks a garage.  For this reason, I will replace this value with `np.nan` to reflect the fact that the home does not have a garage.  (In the [next notebook](./2_data_cleaning.ipynb), we will fill these missing values to reflect the fact that all this homes with missing garage-related values simply do not have garages.)"
   ]
  },
  {
   "cell_type": "code",
   "execution_count": 53,
   "id": "3f8101b7-ea6e-4b9c-b0c1-2001112e9a7c",
   "metadata": {},
   "outputs": [
    {
     "data": {
      "text/plain": [
       "Int64Index([764], dtype='int64')"
      ]
     },
     "execution_count": 53,
     "metadata": {},
     "output_type": "execute_result"
    }
   ],
   "source": [
    "#First, get the index of the one observation to change:\n",
    "change_index = df[df['Garage Qual'].isnull() & ~df['Garage Type'].isnull()].index\n",
    "change_index\n"
   ]
  },
  {
   "cell_type": "code",
   "execution_count": 54,
   "id": "b8c2a2d0-72d2-49db-bb05-d8c166ab07eb",
   "metadata": {},
   "outputs": [
    {
     "data": {
      "text/html": [
       "<div>\n",
       "<style scoped>\n",
       "    .dataframe tbody tr th:only-of-type {\n",
       "        vertical-align: middle;\n",
       "    }\n",
       "\n",
       "    .dataframe tbody tr th {\n",
       "        vertical-align: top;\n",
       "    }\n",
       "\n",
       "    .dataframe thead th {\n",
       "        text-align: right;\n",
       "    }\n",
       "</style>\n",
       "<table border=\"1\" class=\"dataframe\">\n",
       "  <thead>\n",
       "    <tr style=\"text-align: right;\">\n",
       "      <th></th>\n",
       "      <th>Garage Qual</th>\n",
       "      <th>Garage Finish</th>\n",
       "      <th>Garage Cond</th>\n",
       "      <th>Garage Yr Blt</th>\n",
       "      <th>Garage Type</th>\n",
       "    </tr>\n",
       "  </thead>\n",
       "  <tbody>\n",
       "    <tr>\n",
       "      <th>764</th>\n",
       "      <td>NaN</td>\n",
       "      <td>NaN</td>\n",
       "      <td>NaN</td>\n",
       "      <td>NaN</td>\n",
       "      <td>NaN</td>\n",
       "    </tr>\n",
       "  </tbody>\n",
       "</table>\n",
       "</div>"
      ],
      "text/plain": [
       "    Garage Qual Garage Finish Garage Cond  Garage Yr Blt Garage Type\n",
       "764         NaN           NaN         NaN            NaN         NaN"
      ]
     },
     "execution_count": 54,
     "metadata": {},
     "output_type": "execute_result"
    }
   ],
   "source": [
    "#Change this observation to reflect that it doesn't have a garage\n",
    "df.iloc[change_index, df.columns.get_loc('Garage Type')] = np.nan\n",
    "\n",
    "#Check that it was changed to NaN\n",
    "df.iloc[change_index][['Garage Qual', 'Garage Finish', 'Garage Cond', 'Garage Yr Blt', 'Garage Type']]"
   ]
  },
  {
   "cell_type": "code",
   "execution_count": 55,
   "id": "59d4bc21-94c0-4d27-be0a-b5e268c10558",
   "metadata": {},
   "outputs": [
    {
     "name": "stdout",
     "output_type": "stream",
     "text": [
      "160 missing values from variable Lot Frontage\n",
      "820 missing values from variable Alley\n",
      "1 missing values from variable Mas Vnr Type\n",
      "1 missing values from variable Mas Vnr Area\n",
      "25 missing values from variable Bsmt Qual\n",
      "25 missing values from variable Bsmt Cond\n",
      "25 missing values from variable Bsmt Exposure\n",
      "25 missing values from variable BsmtFin Type 1\n",
      "25 missing values from variable BsmtFin Type 2\n",
      "1 missing values from variable Electrical\n",
      "422 missing values from variable Fireplace Qu\n",
      "45 missing values from variable Garage Type\n",
      "45 missing values from variable Garage Yr Blt\n",
      "45 missing values from variable Garage Finish\n",
      "45 missing values from variable Garage Qual\n",
      "45 missing values from variable Garage Cond\n",
      "874 missing values from variable Pool QC\n",
      "706 missing values from variable Fence\n",
      "837 missing values from variable Misc Feature\n"
     ]
    }
   ],
   "source": [
    "#Check missing values again\n",
    "variables_with_missing = df.isnull().sum().index\n",
    "missing_nos = df.isnull().sum().values\n",
    "\n",
    "for i in range(len(variables_with_missing)):\n",
    "    if missing_nos[i] != 0:\n",
    "        print(f'{missing_nos[i]} missing values from variable {variables_with_missing[i]}')"
   ]
  },
  {
   "cell_type": "markdown",
   "id": "1817b83f-99fe-47df-9e05-43bc885ee700",
   "metadata": {},
   "source": [
    "## Basements"
   ]
  },
  {
   "cell_type": "code",
   "execution_count": 56,
   "id": "b8fdbde3-747a-4271-926c-0fee67fc2d8c",
   "metadata": {},
   "outputs": [
    {
     "data": {
      "text/plain": [
       "25"
      ]
     },
     "execution_count": 56,
     "metadata": {},
     "output_type": "execute_result"
    }
   ],
   "source": [
    "bsmts = ['Bsmt Qual', 'Bsmt Cond', 'Bsmt Exposure', 'BsmtFin Type 1', 'BsmtFin Type 2']\n",
    "#Are all 25 missing values from these variables due to the same 25 observations?\n",
    "#If so, this cell should output 25\n",
    "len(df[ df['Bsmt Qual'].isnull() & df['Bsmt Cond'].isnull() & df['Bsmt Exposure'].isnull() & df['BsmtFin Type 1'].isnull() & df['BsmtFin Type 2'].isnull() ])"
   ]
  },
  {
   "cell_type": "markdown",
   "id": "2f79d43c-fdc7-4719-ab39-f4f9376aa195",
   "metadata": {},
   "source": [
    "## Masonry Veneer"
   ]
  },
  {
   "cell_type": "code",
   "execution_count": 57,
   "id": "a5188b17-b5b1-43c3-9a19-e56a92c7805d",
   "metadata": {},
   "outputs": [
    {
     "data": {
      "text/plain": [
       "None       534\n",
       "BrkFace    250\n",
       "Stone       80\n",
       "BrkCmn      12\n",
       "CBlock       1\n",
       "Name: Mas Vnr Type, dtype: int64"
      ]
     },
     "execution_count": 57,
     "metadata": {},
     "output_type": "execute_result"
    }
   ],
   "source": [
    "df['Mas Vnr Type'].value_counts()"
   ]
  },
  {
   "cell_type": "code",
   "execution_count": 58,
   "id": "d551f06c-9593-493b-afc1-994041fd98a9",
   "metadata": {},
   "outputs": [
    {
     "name": "stdout",
     "output_type": "stream",
     "text": [
      "Number of missing 'Mas Vnr Type' values: 1\n",
      "Number of missing 'Mas Vnr Area' values: 1\n"
     ]
    }
   ],
   "source": [
    "print(f\"Number of missing 'Mas Vnr Type' values: {df['Mas Vnr Type'].isnull().sum()}\")\n",
    "print(f\"Number of missing 'Mas Vnr Area' values: {df['Mas Vnr Area'].isnull().sum()}\")"
   ]
  },
  {
   "cell_type": "code",
   "execution_count": 59,
   "id": "5039aeb6-2eac-4ee7-90ba-b9e0e97c22be",
   "metadata": {},
   "outputs": [
    {
     "data": {
      "text/plain": [
       "1"
      ]
     },
     "execution_count": 59,
     "metadata": {},
     "output_type": "execute_result"
    }
   ],
   "source": [
    "#Are the two missing `Mas Vnr` variables due to the same observation?\n",
    "#If so, this cell should output 1\n",
    "len(df[ df['Mas Vnr Type'].isnull() & df['Mas Vnr Area'].isnull() ])"
   ]
  },
  {
   "cell_type": "markdown",
   "id": "04cd8837-3b49-4a8e-ad04-4fad7a9ee178",
   "metadata": {},
   "source": [
    "So this 1 observation is missing both `Mas Vnr Type` and `Mas Vnr Area`.  However, an additional 534 observations seem to have \"None\" as their masonry veneer type.  Let's check that these 534 observations all have a `Mas Vnr Area` of 0:"
   ]
  },
  {
   "cell_type": "code",
   "execution_count": 60,
   "id": "d0c6f0c4-03a0-4cc9-b363-74f5066ce69c",
   "metadata": {},
   "outputs": [
    {
     "data": {
      "text/plain": [
       "532"
      ]
     },
     "execution_count": 60,
     "metadata": {},
     "output_type": "execute_result"
    }
   ],
   "source": [
    "#This cell should output 534 if so\n",
    "len(df[ (df['Mas Vnr Type']=='None') & (df['Mas Vnr Area']==0) ])"
   ]
  },
  {
   "cell_type": "markdown",
   "id": "9dc04cc7-e0b5-4055-bdb6-996f637eeecf",
   "metadata": {},
   "source": [
    "So apparently 2 observations *have some masonry veneer area but have no masonry veneer type*.  What are these?"
   ]
  },
  {
   "cell_type": "code",
   "execution_count": 61,
   "id": "7c903b78-03e7-4f43-a528-6cb20d2faceb",
   "metadata": {},
   "outputs": [
    {
     "data": {
      "text/html": [
       "<div>\n",
       "<style scoped>\n",
       "    .dataframe tbody tr th:only-of-type {\n",
       "        vertical-align: middle;\n",
       "    }\n",
       "\n",
       "    .dataframe tbody tr th {\n",
       "        vertical-align: top;\n",
       "    }\n",
       "\n",
       "    .dataframe thead th {\n",
       "        text-align: right;\n",
       "    }\n",
       "</style>\n",
       "<table border=\"1\" class=\"dataframe\">\n",
       "  <thead>\n",
       "    <tr style=\"text-align: right;\">\n",
       "      <th></th>\n",
       "      <th>Mas Vnr Area</th>\n",
       "      <th>Mas Vnr Type</th>\n",
       "    </tr>\n",
       "  </thead>\n",
       "  <tbody>\n",
       "    <tr>\n",
       "      <th>382</th>\n",
       "      <td>285.0</td>\n",
       "      <td>None</td>\n",
       "    </tr>\n",
       "    <tr>\n",
       "      <th>862</th>\n",
       "      <td>312.0</td>\n",
       "      <td>None</td>\n",
       "    </tr>\n",
       "  </tbody>\n",
       "</table>\n",
       "</div>"
      ],
      "text/plain": [
       "     Mas Vnr Area Mas Vnr Type\n",
       "382         285.0         None\n",
       "862         312.0         None"
      ]
     },
     "execution_count": 61,
     "metadata": {},
     "output_type": "execute_result"
    }
   ],
   "source": [
    "change_indices = df[ (df['Mas Vnr Type']=='None') & (df['Mas Vnr Area']!=0) ].index\n",
    "df.iloc[change_indices][['Mas Vnr Area', 'Mas Vnr Type']]"
   ]
  },
  {
   "cell_type": "markdown",
   "id": "0e25196b-6928-4231-af65-7841dcd1ebaa",
   "metadata": {},
   "source": [
    "To be consistent with our treatment of the training data set, we would have to drop these two observations.  However, since this is the test data set and we must make a prediction for each data point, we can't drop these!  We'll just have to take a guess as to what their masonry veneer types are.  To do so, let's look at the distribution of veneer types among homes with as much veneer area as the two above:"
   ]
  },
  {
   "cell_type": "code",
   "execution_count": 62,
   "id": "e89db1e0-2e14-40f5-8e58-88e787fbf5d9",
   "metadata": {},
   "outputs": [
    {
     "data": {
      "text/plain": [
       "BrkFace    104\n",
       "Stone       37\n",
       "BrkCmn       3\n",
       "None         2\n",
       "Name: Mas Vnr Type, dtype: int64"
      ]
     },
     "execution_count": 62,
     "metadata": {},
     "output_type": "execute_result"
    }
   ],
   "source": [
    "df[df['Mas Vnr Area']>250]['Mas Vnr Type'].value_counts()"
   ]
  },
  {
   "cell_type": "markdown",
   "id": "e4c3bc52-f65f-412e-80e1-0f1386f5f077",
   "metadata": {},
   "source": [
    "So our best guess seems to be that these homes have `BrkFace` masonry veneer.  Although I don't feel great about this, we'll have to fill these values in with `BrkFace`:"
   ]
  },
  {
   "cell_type": "code",
   "execution_count": 63,
   "id": "8d91ca01-c10b-4f8a-8bb6-3e2a5ed49cd6",
   "metadata": {},
   "outputs": [
    {
     "data": {
      "text/html": [
       "<div>\n",
       "<style scoped>\n",
       "    .dataframe tbody tr th:only-of-type {\n",
       "        vertical-align: middle;\n",
       "    }\n",
       "\n",
       "    .dataframe tbody tr th {\n",
       "        vertical-align: top;\n",
       "    }\n",
       "\n",
       "    .dataframe thead th {\n",
       "        text-align: right;\n",
       "    }\n",
       "</style>\n",
       "<table border=\"1\" class=\"dataframe\">\n",
       "  <thead>\n",
       "    <tr style=\"text-align: right;\">\n",
       "      <th></th>\n",
       "      <th>Mas Vnr Area</th>\n",
       "      <th>Mas Vnr Type</th>\n",
       "    </tr>\n",
       "  </thead>\n",
       "  <tbody>\n",
       "    <tr>\n",
       "      <th>382</th>\n",
       "      <td>285.0</td>\n",
       "      <td>BrkFace</td>\n",
       "    </tr>\n",
       "    <tr>\n",
       "      <th>862</th>\n",
       "      <td>312.0</td>\n",
       "      <td>BrkFace</td>\n",
       "    </tr>\n",
       "  </tbody>\n",
       "</table>\n",
       "</div>"
      ],
      "text/plain": [
       "     Mas Vnr Area Mas Vnr Type\n",
       "382         285.0      BrkFace\n",
       "862         312.0      BrkFace"
      ]
     },
     "execution_count": 63,
     "metadata": {},
     "output_type": "execute_result"
    }
   ],
   "source": [
    "#Change these observations to say they have 'BrkFace' masonry veneer\n",
    "df.iloc[change_indices, df.columns.get_loc('Mas Vnr Type')] = 'BrkFace'\n",
    "\n",
    "#Check the changes\n",
    "df.iloc[change_indices][['Mas Vnr Area', 'Mas Vnr Type']]"
   ]
  },
  {
   "cell_type": "code",
   "execution_count": 64,
   "id": "2e613138-0b29-41be-97dd-846a80e9d4d6",
   "metadata": {},
   "outputs": [
    {
     "data": {
      "text/plain": [
       "None       532\n",
       "BrkFace    252\n",
       "Stone       80\n",
       "BrkCmn      12\n",
       "CBlock       1\n",
       "Name: Mas Vnr Type, dtype: int64"
      ]
     },
     "execution_count": 64,
     "metadata": {},
     "output_type": "execute_result"
    }
   ],
   "source": [
    "#Check the value counts now\n",
    "df['Mas Vnr Type'].value_counts()"
   ]
  },
  {
   "cell_type": "code",
   "execution_count": 65,
   "id": "fe472aec-8ea5-4357-adfc-b6af6fc69018",
   "metadata": {},
   "outputs": [
    {
     "data": {
      "text/plain": [
       "532"
      ]
     },
     "execution_count": 65,
     "metadata": {},
     "output_type": "execute_result"
    }
   ],
   "source": [
    "#Change the 'None's to np.nan\n",
    "\n",
    "#Find the indices of these 532 remaining observations with Mas Vnr Type == 'None'\n",
    "change_indices = df[df['Mas Vnr Type']=='None'].index\n",
    "len(change_indices)"
   ]
  },
  {
   "cell_type": "code",
   "execution_count": 66,
   "id": "49de80cf-de10-4f9b-8c57-909758bbf854",
   "metadata": {},
   "outputs": [],
   "source": [
    "#Change these to np.nan\n",
    "df.iloc[change_indices, df.columns.get_loc('Mas Vnr Type')] = np.nan"
   ]
  },
  {
   "cell_type": "code",
   "execution_count": 67,
   "id": "1cbeff75-2fe7-4346-a2af-66d9c8997a6b",
   "metadata": {},
   "outputs": [
    {
     "data": {
      "text/plain": [
       "BrkFace    252\n",
       "Stone       80\n",
       "BrkCmn      12\n",
       "CBlock       1\n",
       "Name: Mas Vnr Type, dtype: int64"
      ]
     },
     "execution_count": 67,
     "metadata": {},
     "output_type": "execute_result"
    }
   ],
   "source": [
    "#Check the value counts to make sure it worked\n",
    "df['Mas Vnr Type'].value_counts()"
   ]
  },
  {
   "cell_type": "code",
   "execution_count": 68,
   "id": "933d3cb1-9d38-4e47-b5a6-3d044081f179",
   "metadata": {},
   "outputs": [
    {
     "data": {
      "text/plain": [
       "Mas Vnr Type    533\n",
       "dtype: int64"
      ]
     },
     "execution_count": 68,
     "metadata": {},
     "output_type": "execute_result"
    }
   ],
   "source": [
    "#We should now have 1 + 532 = 533 missing observations\n",
    "df[['Mas Vnr Type']].isnull().sum()"
   ]
  },
  {
   "cell_type": "markdown",
   "id": "bdc9de58-69f3-45c4-805b-05cbe77c1fd3",
   "metadata": {},
   "source": [
    "## Electrical\n",
    "\n",
    "The only other oddity about this data set is that the variable `Electrical` is missing an observation.  This variable does not have a possible value of \"NA\" or \"None\" etc. listed in the data description, so it easily could be a \"legitimately missing\" value.  Let's see what's going on:"
   ]
  },
  {
   "cell_type": "code",
   "execution_count": 69,
   "id": "c6e5f62f-fd29-41f0-af40-bb04461b3f2f",
   "metadata": {},
   "outputs": [
    {
     "data": {
      "text/html": [
       "<div>\n",
       "<style scoped>\n",
       "    .dataframe tbody tr th:only-of-type {\n",
       "        vertical-align: middle;\n",
       "    }\n",
       "\n",
       "    .dataframe tbody tr th {\n",
       "        vertical-align: top;\n",
       "    }\n",
       "\n",
       "    .dataframe thead th {\n",
       "        text-align: right;\n",
       "    }\n",
       "</style>\n",
       "<table border=\"1\" class=\"dataframe\">\n",
       "  <thead>\n",
       "    <tr style=\"text-align: right;\">\n",
       "      <th></th>\n",
       "      <th>Id</th>\n",
       "      <th>PID</th>\n",
       "      <th>MS SubClass</th>\n",
       "      <th>MS Zoning</th>\n",
       "      <th>Lot Frontage</th>\n",
       "      <th>Lot Area</th>\n",
       "      <th>Street</th>\n",
       "      <th>Alley</th>\n",
       "      <th>Lot Shape</th>\n",
       "      <th>Land Contour</th>\n",
       "      <th>...</th>\n",
       "      <th>3Ssn Porch</th>\n",
       "      <th>Screen Porch</th>\n",
       "      <th>Pool Area</th>\n",
       "      <th>Pool QC</th>\n",
       "      <th>Fence</th>\n",
       "      <th>Misc Feature</th>\n",
       "      <th>Misc Val</th>\n",
       "      <th>Mo Sold</th>\n",
       "      <th>Yr Sold</th>\n",
       "      <th>Sale Type</th>\n",
       "    </tr>\n",
       "  </thead>\n",
       "  <tbody>\n",
       "    <tr>\n",
       "      <th>634</th>\n",
       "      <td>1578</td>\n",
       "      <td>916386080</td>\n",
       "      <td>80</td>\n",
       "      <td>RL</td>\n",
       "      <td>73.0</td>\n",
       "      <td>9735</td>\n",
       "      <td>Pave</td>\n",
       "      <td>NaN</td>\n",
       "      <td>Reg</td>\n",
       "      <td>Lvl</td>\n",
       "      <td>...</td>\n",
       "      <td>0</td>\n",
       "      <td>0</td>\n",
       "      <td>0</td>\n",
       "      <td>NaN</td>\n",
       "      <td>NaN</td>\n",
       "      <td>NaN</td>\n",
       "      <td>0</td>\n",
       "      <td>5</td>\n",
       "      <td>2008</td>\n",
       "      <td>WD</td>\n",
       "    </tr>\n",
       "  </tbody>\n",
       "</table>\n",
       "<p>1 rows × 80 columns</p>\n",
       "</div>"
      ],
      "text/plain": [
       "       Id        PID  MS SubClass MS Zoning  Lot Frontage  Lot Area Street  \\\n",
       "634  1578  916386080           80        RL          73.0      9735   Pave   \n",
       "\n",
       "    Alley Lot Shape Land Contour  ... 3Ssn Porch Screen Porch Pool Area  \\\n",
       "634   NaN       Reg          Lvl  ...          0            0         0   \n",
       "\n",
       "    Pool QC Fence Misc Feature Misc Val Mo Sold  Yr Sold  Sale Type  \n",
       "634     NaN   NaN          NaN        0       5     2008        WD   \n",
       "\n",
       "[1 rows x 80 columns]"
      ]
     },
     "execution_count": 69,
     "metadata": {},
     "output_type": "execute_result"
    }
   ],
   "source": [
    "df[df['Electrical'].isnull()]"
   ]
  },
  {
   "cell_type": "code",
   "execution_count": 70,
   "id": "9a97bfa3-89c7-413c-a88e-28a2ca166ac8",
   "metadata": {},
   "outputs": [
    {
     "data": {
      "text/plain": [
       "SBrkr    813\n",
       "FuseA     48\n",
       "FuseF     15\n",
       "FuseP      1\n",
       "Name: Electrical, dtype: int64"
      ]
     },
     "execution_count": 70,
     "metadata": {},
     "output_type": "execute_result"
    }
   ],
   "source": [
    "df['Electrical'].value_counts()"
   ]
  },
  {
   "cell_type": "markdown",
   "id": "57089b09-a2dd-45d5-af3f-0edc5fac841a",
   "metadata": {},
   "source": [
    "The data description lists a 5th possible value of \"Mix\" (meaning, a mixed electrical system) but apparently there are no observations taking this value in the test data set.  In the training data set, there was only *one* data point that had an `Electrical` value of 'Mix'.  So I think it's relatively safe to assume that this missing value corresponds to one of the rare cases of a \"mixed\" electrical system - basically, a catch-all term for electrical systems that don't clearly fall into one of the other categories.\n",
    "\n",
    "So we'll manually set this observation's value to be 'Mix':"
   ]
  },
  {
   "cell_type": "code",
   "execution_count": 71,
   "id": "6f638e8d-907f-490b-88fd-feb350dd9547",
   "metadata": {},
   "outputs": [
    {
     "data": {
      "text/plain": [
       "Int64Index([634], dtype='int64')"
      ]
     },
     "execution_count": 71,
     "metadata": {},
     "output_type": "execute_result"
    }
   ],
   "source": [
    "#First, get the index of the one observation to change:\n",
    "change_index = df[df['Electrical'].isnull()].index\n",
    "change_index\n"
   ]
  },
  {
   "cell_type": "code",
   "execution_count": 72,
   "id": "9f6a592c-5b8a-4ad0-871f-4ea2f35c1114",
   "metadata": {},
   "outputs": [
    {
     "data": {
      "text/html": [
       "<div>\n",
       "<style scoped>\n",
       "    .dataframe tbody tr th:only-of-type {\n",
       "        vertical-align: middle;\n",
       "    }\n",
       "\n",
       "    .dataframe tbody tr th {\n",
       "        vertical-align: top;\n",
       "    }\n",
       "\n",
       "    .dataframe thead th {\n",
       "        text-align: right;\n",
       "    }\n",
       "</style>\n",
       "<table border=\"1\" class=\"dataframe\">\n",
       "  <thead>\n",
       "    <tr style=\"text-align: right;\">\n",
       "      <th></th>\n",
       "      <th>Electrical</th>\n",
       "    </tr>\n",
       "  </thead>\n",
       "  <tbody>\n",
       "    <tr>\n",
       "      <th>634</th>\n",
       "      <td>Mix</td>\n",
       "    </tr>\n",
       "  </tbody>\n",
       "</table>\n",
       "</div>"
      ],
      "text/plain": [
       "    Electrical\n",
       "634        Mix"
      ]
     },
     "execution_count": 72,
     "metadata": {},
     "output_type": "execute_result"
    }
   ],
   "source": [
    "#Change this observation to reflect that it has a mixed electrical system\n",
    "df.iloc[change_index, df.columns.get_loc('Electrical')] = 'Mix'\n",
    "\n",
    "#Check that it was changed to NaN\n",
    "df.iloc[change_index][['Electrical']]"
   ]
  },
  {
   "cell_type": "markdown",
   "id": "554fed92-13c0-48ae-8347-e25e30848a0b",
   "metadata": {},
   "source": [
    "## One final check of missing values\n",
    "\n",
    "As we can see below, everything is accounted for.  We're ready to export the \"prepared\" data set so that we can appropriately fill its missing values during \"cleaning\" in the next notebook:"
   ]
  },
  {
   "cell_type": "code",
   "execution_count": 73,
   "id": "82df12be-7947-414f-acc9-197ba751685e",
   "metadata": {},
   "outputs": [
    {
     "name": "stdout",
     "output_type": "stream",
     "text": [
      "160 missing values from variable Lot Frontage\n",
      "820 missing values from variable Alley\n",
      "533 missing values from variable Mas Vnr Type\n",
      "1 missing values from variable Mas Vnr Area\n",
      "25 missing values from variable Bsmt Qual\n",
      "25 missing values from variable Bsmt Cond\n",
      "25 missing values from variable Bsmt Exposure\n",
      "25 missing values from variable BsmtFin Type 1\n",
      "25 missing values from variable BsmtFin Type 2\n",
      "422 missing values from variable Fireplace Qu\n",
      "45 missing values from variable Garage Type\n",
      "45 missing values from variable Garage Yr Blt\n",
      "45 missing values from variable Garage Finish\n",
      "45 missing values from variable Garage Qual\n",
      "45 missing values from variable Garage Cond\n",
      "874 missing values from variable Pool QC\n",
      "706 missing values from variable Fence\n",
      "837 missing values from variable Misc Feature\n"
     ]
    }
   ],
   "source": [
    "variables_with_missing = df.isnull().sum().index\n",
    "missing_nos = df.isnull().sum().values\n",
    "\n",
    "for i in range(len(variables_with_missing)):\n",
    "    if missing_nos[i] != 0:\n",
    "        print(f'{missing_nos[i]} missing values from variable {variables_with_missing[i]}')"
   ]
  },
  {
   "cell_type": "markdown",
   "id": "58b4b530-eb15-4de6-8211-7229e27e7924",
   "metadata": {},
   "source": [
    "The only thing that sticks out from this list is the fact that there is only one missing value from `Mas Vnr Area` but there are 533 missing values from `Mas Vnr Type`.  As we saw, this is because those observations that are missing a `Mas Vnr Type` but have a `Mas Vnr Area` all have a `Mas Vnr Area` of 0, which does indeed correspond to a \"missing\" value of `Mas Vnr Type`.\n",
    "\n",
    "So all is accounted for!"
   ]
  },
  {
   "cell_type": "markdown",
   "id": "e374f631-e60f-4d5e-b502-709d63e45df9",
   "metadata": {},
   "source": [
    "## Data Export: Test Set"
   ]
  },
  {
   "cell_type": "code",
   "execution_count": 74,
   "id": "bada6556-0efc-4b98-899c-29200ed64fbe",
   "metadata": {},
   "outputs": [],
   "source": [
    "df.to_csv('../datasets/test_prepared.csv', index=False)"
   ]
  },
  {
   "cell_type": "markdown",
   "id": "77ef35f3-29a5-481d-a27a-97580a6f7f9a",
   "metadata": {},
   "source": [
    "## One last check for outliers\n",
    "\n",
    "According to the data description, there are likely a couple more outliers that have an above-grade living area of more than 4000 sq ft.  Let's check the histogram to see:"
   ]
  },
  {
   "cell_type": "code",
   "execution_count": 75,
   "id": "df1dc3c6-f0b3-4755-84af-bd73818eb6c3",
   "metadata": {},
   "outputs": [
    {
     "data": {
      "image/png": "[encoded data removed]",
      "text/plain": [
       "<Figure size 640x480 with 1 Axes>"
      ]
     },
     "metadata": {},
     "output_type": "display_data"
    }
   ],
   "source": [
    "plt.hist(df['Gr Liv Area']);"
   ]
  },
  {
   "cell_type": "code",
   "execution_count": 76,
   "id": "7979775e-d29b-49f3-9741-0b733fd10296",
   "metadata": {},
   "outputs": [
    {
     "data": {
      "text/html": [
       "<div>\n",
       "<style scoped>\n",
       "    .dataframe tbody tr th:only-of-type {\n",
       "        vertical-align: middle;\n",
       "    }\n",
       "\n",
       "    .dataframe tbody tr th {\n",
       "        vertical-align: top;\n",
       "    }\n",
       "\n",
       "    .dataframe thead th {\n",
       "        text-align: right;\n",
       "    }\n",
       "</style>\n",
       "<table border=\"1\" class=\"dataframe\">\n",
       "  <thead>\n",
       "    <tr style=\"text-align: right;\">\n",
       "      <th></th>\n",
       "      <th>Id</th>\n",
       "      <th>PID</th>\n",
       "      <th>MS SubClass</th>\n",
       "      <th>MS Zoning</th>\n",
       "      <th>Lot Frontage</th>\n",
       "      <th>Lot Area</th>\n",
       "      <th>Street</th>\n",
       "      <th>Alley</th>\n",
       "      <th>Lot Shape</th>\n",
       "      <th>Land Contour</th>\n",
       "      <th>...</th>\n",
       "      <th>3Ssn Porch</th>\n",
       "      <th>Screen Porch</th>\n",
       "      <th>Pool Area</th>\n",
       "      <th>Pool QC</th>\n",
       "      <th>Fence</th>\n",
       "      <th>Misc Feature</th>\n",
       "      <th>Misc Val</th>\n",
       "      <th>Mo Sold</th>\n",
       "      <th>Yr Sold</th>\n",
       "      <th>Sale Type</th>\n",
       "    </tr>\n",
       "  </thead>\n",
       "  <tbody>\n",
       "    <tr>\n",
       "      <th>170</th>\n",
       "      <td>1761</td>\n",
       "      <td>528320050</td>\n",
       "      <td>60</td>\n",
       "      <td>RL</td>\n",
       "      <td>160.0</td>\n",
       "      <td>15623</td>\n",
       "      <td>Pave</td>\n",
       "      <td>NaN</td>\n",
       "      <td>IR1</td>\n",
       "      <td>Lvl</td>\n",
       "      <td>...</td>\n",
       "      <td>0</td>\n",
       "      <td>0</td>\n",
       "      <td>555</td>\n",
       "      <td>Ex</td>\n",
       "      <td>MnPrv</td>\n",
       "      <td>NaN</td>\n",
       "      <td>0</td>\n",
       "      <td>7</td>\n",
       "      <td>2007</td>\n",
       "      <td>WD</td>\n",
       "    </tr>\n",
       "    <tr>\n",
       "      <th>463</th>\n",
       "      <td>1768</td>\n",
       "      <td>528351010</td>\n",
       "      <td>60</td>\n",
       "      <td>RL</td>\n",
       "      <td>104.0</td>\n",
       "      <td>21535</td>\n",
       "      <td>Pave</td>\n",
       "      <td>NaN</td>\n",
       "      <td>IR1</td>\n",
       "      <td>Lvl</td>\n",
       "      <td>...</td>\n",
       "      <td>0</td>\n",
       "      <td>0</td>\n",
       "      <td>0</td>\n",
       "      <td>NaN</td>\n",
       "      <td>NaN</td>\n",
       "      <td>NaN</td>\n",
       "      <td>0</td>\n",
       "      <td>1</td>\n",
       "      <td>2007</td>\n",
       "      <td>WD</td>\n",
       "    </tr>\n",
       "  </tbody>\n",
       "</table>\n",
       "<p>2 rows × 80 columns</p>\n",
       "</div>"
      ],
      "text/plain": [
       "       Id        PID  MS SubClass MS Zoning  Lot Frontage  Lot Area Street  \\\n",
       "170  1761  528320050           60        RL         160.0     15623   Pave   \n",
       "463  1768  528351010           60        RL         104.0     21535   Pave   \n",
       "\n",
       "    Alley Lot Shape Land Contour  ... 3Ssn Porch Screen Porch Pool Area  \\\n",
       "170   NaN       IR1          Lvl  ...          0            0       555   \n",
       "463   NaN       IR1          Lvl  ...          0            0         0   \n",
       "\n",
       "    Pool QC  Fence Misc Feature Misc Val Mo Sold  Yr Sold  Sale Type  \n",
       "170      Ex  MnPrv          NaN        0       7     2007        WD   \n",
       "463     NaN    NaN          NaN        0       1     2007        WD   \n",
       "\n",
       "[2 rows x 80 columns]"
      ]
     },
     "execution_count": 76,
     "metadata": {},
     "output_type": "execute_result"
    }
   ],
   "source": [
    "df[df['Gr Liv Area']>4000]"
   ]
  },
  {
   "cell_type": "markdown",
   "id": "0c40c1be-d025-443d-851b-f63a4b9c70aa",
   "metadata": {},
   "source": [
    "So there are indeed a couple such outlier observations.  However, since this is the *test* data set, we can't just remove these observations: we need to make predictions for them!  Even though we know in advance that our predictions will likely be off for these 2 observations (if the data description is correct), there's not much we can do about it.  Onward!"
   ]
  }
 ],
 "metadata": {
  "kernelspec": {
   "display_name": "Python 3 (ipykernel)",
   "language": "python",
   "name": "python3"
  },
  "language_info": {
   "codemirror_mode": {
    "name": "ipython",
    "version": 3
   },
   "file_extension": ".py",
   "mimetype": "text/x-python",
   "name": "python",
   "nbconvert_exporter": "python",
   "pygments_lexer": "ipython3",
   "version": "3.9.13"
  }
 },
 "nbformat": 4,
 "nbformat_minor": 5
}
