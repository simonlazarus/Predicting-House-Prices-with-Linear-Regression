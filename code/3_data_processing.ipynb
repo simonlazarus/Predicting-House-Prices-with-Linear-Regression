{
 "cells": [
  {
   "cell_type": "markdown",
   "id": "70964e94-1715-416b-a54a-f84f793c5459",
   "metadata": {},
   "source": [
    "# Summary of this notebook\n",
    "\n",
    "Although missing values have been dealt with in the [last notebook](./2_data_cleaning.ipynb), we still have some feature engineering to do!  In this notebook, we accomplish two tasks:\n",
    "\n",
    "1. We convert the data types of variables to the appropriate formats, including encoding ordinal variables with numeric values.\n",
    "2. We impute missing numerical values in the varaible `Garage Yr Blt` with the mean of the non-missing `Garage Yr Blt` values."
   ]
  },
  {
   "cell_type": "markdown",
   "id": "200768e2-18fb-41d4-92b1-4a2261925509",
   "metadata": {},
   "source": [
    "### Imports"
   ]
  },
  {
   "cell_type": "code",
   "execution_count": 1,
   "id": "e91351a2-95fe-4ab7-9c71-81b590190ae1",
   "metadata": {},
   "outputs": [],
   "source": [
    "#Package Imports\n",
    "import numpy as np\n",
    "import pandas as pd\n",
    "import matplotlib.pyplot as plt\n",
    "\n",
    "from sklearn.model_selection import train_test_split"
   ]
  },
  {
   "cell_type": "markdown",
   "id": "64bc202f-80c5-4e8d-aa71-b33dbac284f0",
   "metadata": {},
   "source": [
    "## Data Import: Training Set"
   ]
  },
  {
   "cell_type": "code",
   "execution_count": 2,
   "id": "ae7b8b29-08ff-4777-889c-48d38faf9cc4",
   "metadata": {},
   "outputs": [],
   "source": [
    "#Data import\n",
    "df = pd.read_csv('../datasets/train_cleaned.csv')"
   ]
  },
  {
   "cell_type": "markdown",
   "id": "e144a8af-d70a-4b2f-b89e-37d7247f7d36",
   "metadata": {},
   "source": [
    "## Fixing Data Types"
   ]
  },
  {
   "cell_type": "code",
   "execution_count": 3,
   "id": "29987dc3-2ad9-4f3d-8cbf-2440f5239638",
   "metadata": {},
   "outputs": [
    {
     "name": "stdout",
     "output_type": "stream",
     "text": [
      "<class 'pandas.core.frame.DataFrame'>\n",
      "RangeIndex: 2040 entries, 0 to 2039\n",
      "Data columns (total 81 columns):\n",
      " #   Column           Non-Null Count  Dtype  \n",
      "---  ------           --------------  -----  \n",
      " 0   Id               2040 non-null   int64  \n",
      " 1   PID              2040 non-null   int64  \n",
      " 2   MS SubClass      2040 non-null   int64  \n",
      " 3   MS Zoning        2040 non-null   object \n",
      " 4   Lot Frontage     2040 non-null   float64\n",
      " 5   Lot Area         2040 non-null   int64  \n",
      " 6   Street           2040 non-null   object \n",
      " 7   Alley            2040 non-null   object \n",
      " 8   Lot Shape        2040 non-null   object \n",
      " 9   Land Contour     2040 non-null   object \n",
      " 10  Utilities        2040 non-null   object \n",
      " 11  Lot Config       2040 non-null   object \n",
      " 12  Land Slope       2040 non-null   object \n",
      " 13  Neighborhood     2040 non-null   object \n",
      " 14  Condition 1      2040 non-null   object \n",
      " 15  Condition 2      2040 non-null   object \n",
      " 16  Bldg Type        2040 non-null   object \n",
      " 17  House Style      2040 non-null   object \n",
      " 18  Overall Qual     2040 non-null   int64  \n",
      " 19  Overall Cond     2040 non-null   int64  \n",
      " 20  Year Built       2040 non-null   int64  \n",
      " 21  Year Remod/Add   2040 non-null   int64  \n",
      " 22  Roof Style       2040 non-null   object \n",
      " 23  Roof Matl        2040 non-null   object \n",
      " 24  Exterior 1st     2040 non-null   object \n",
      " 25  Exterior 2nd     2040 non-null   object \n",
      " 26  Mas Vnr Type     2040 non-null   object \n",
      " 27  Mas Vnr Area     2040 non-null   float64\n",
      " 28  Exter Qual       2040 non-null   object \n",
      " 29  Exter Cond       2040 non-null   object \n",
      " 30  Foundation       2040 non-null   object \n",
      " 31  Bsmt Qual        2040 non-null   object \n",
      " 32  Bsmt Cond        2040 non-null   object \n",
      " 33  Bsmt Exposure    2040 non-null   object \n",
      " 34  BsmtFin Type 1   2040 non-null   object \n",
      " 35  BsmtFin SF 1     2040 non-null   float64\n",
      " 36  BsmtFin Type 2   2040 non-null   object \n",
      " 37  BsmtFin SF 2     2040 non-null   float64\n",
      " 38  Bsmt Unf SF      2040 non-null   float64\n",
      " 39  Total Bsmt SF    2040 non-null   float64\n",
      " 40  Heating          2040 non-null   object \n",
      " 41  Heating QC       2040 non-null   object \n",
      " 42  Central Air      2040 non-null   object \n",
      " 43  Electrical       2040 non-null   object \n",
      " 44  1st Flr SF       2040 non-null   int64  \n",
      " 45  2nd Flr SF       2040 non-null   int64  \n",
      " 46  Low Qual Fin SF  2040 non-null   int64  \n",
      " 47  Gr Liv Area      2040 non-null   int64  \n",
      " 48  Bsmt Full Bath   2040 non-null   float64\n",
      " 49  Bsmt Half Bath   2040 non-null   float64\n",
      " 50  Full Bath        2040 non-null   int64  \n",
      " 51  Half Bath        2040 non-null   int64  \n",
      " 52  Bedroom AbvGr    2040 non-null   int64  \n",
      " 53  Kitchen AbvGr    2040 non-null   int64  \n",
      " 54  Kitchen Qual     2040 non-null   object \n",
      " 55  TotRms AbvGrd    2040 non-null   int64  \n",
      " 56  Functional       2040 non-null   object \n",
      " 57  Fireplaces       2040 non-null   int64  \n",
      " 58  Fireplace Qu     2040 non-null   object \n",
      " 59  Garage Type      2040 non-null   object \n",
      " 60  Garage Yr Blt    2040 non-null   object \n",
      " 61  Garage Finish    2040 non-null   object \n",
      " 62  Garage Cars      2040 non-null   float64\n",
      " 63  Garage Area      2040 non-null   float64\n",
      " 64  Garage Qual      2040 non-null   object \n",
      " 65  Garage Cond      2040 non-null   object \n",
      " 66  Paved Drive      2040 non-null   object \n",
      " 67  Wood Deck SF     2040 non-null   int64  \n",
      " 68  Open Porch SF    2040 non-null   int64  \n",
      " 69  Enclosed Porch   2040 non-null   int64  \n",
      " 70  3Ssn Porch       2040 non-null   int64  \n",
      " 71  Screen Porch     2040 non-null   int64  \n",
      " 72  Pool Area        2040 non-null   int64  \n",
      " 73  Pool QC          2040 non-null   object \n",
      " 74  Fence            2040 non-null   object \n",
      " 75  Misc Feature     2040 non-null   object \n",
      " 76  Misc Val         2040 non-null   int64  \n",
      " 77  Mo Sold          2040 non-null   int64  \n",
      " 78  Yr Sold          2040 non-null   int64  \n",
      " 79  Sale Type        2040 non-null   object \n",
      " 80  SalePrice        2040 non-null   int64  \n",
      "dtypes: float64(10), int64(28), object(43)\n",
      "memory usage: 1.3+ MB\n"
     ]
    }
   ],
   "source": [
    "df.info()"
   ]
  },
  {
   "cell_type": "markdown",
   "id": "d7d45eec-1d34-4244-a511-1eb0318986bb",
   "metadata": {},
   "source": [
    "Some of these variables, such as `Id` and `PID`, are assigned essentially at random and hence won't be useful for predictive modeling.  We should keep `Id` in the data set just so we can keep track of which observations are which, but other such \"useless\" variables will be dropped.  We'll make a list called `useless` of these variables' names so we can drop them later.  We'll also include in this list variables that are likely to be multicollinear with other variables that we're not including in our `useless` list.\n",
    "\n",
    "Some other variables, such as `MS SubClass`, are encoded as numbers (codes) even though they're categorical variables.  We'll make a list called `categorical` of such variables.\n",
    "\n",
    "Other variables are listed in the data description as \"ordinal\", indicating that their values have a natural order to them.  We'll add these variables' names to a dictionary (of dictionaries) called `ordinal_dict`; each name will key to a dictionary encoding the various values that variable can take on as numbers (according to the data description).\n",
    "\n",
    "NOTE: We will *exclude* from our `ordinal` list those variables, such as `Bsmt Qual`, that can take on the value 'NA' or 'None' (which we encoded as 'DNE' in the last notebook).  This is because it's not obvious that \"having no basement is worse than having a basement in poor condition.\"  Instead of us deciding whether it's worse to have a bad basement or no basement, we'll let our categorical variables encoder do so for us by checking which values are associated with higher/lower sale prices!  We'll do the same with varaibles like `Electrical` where it's not clear that a \"mixed\" electrical system is necessarily worse than a \"poor\" one.\n",
    "\n",
    "Lastly, the variable `Garage Yr Blt` currently has data type `Object` because it contains the non-numeric entries 'DNE' that we added because of missing values.  We'll list this in a list called `numeric` and handle it later."
   ]
  },
  {
   "cell_type": "code",
   "execution_count": 4,
   "id": "04c231bb-0f8a-4aab-9cf1-fab1a2b538aa",
   "metadata": {},
   "outputs": [],
   "source": [
    "useless = ['PID', 'BsmtFin SF 2']\n",
    "#'BsmtFin Sf 2' can be solved for using the other values provided.\n",
    "#It also seems less informative than these other values.\n",
    "\n",
    "categorical = ['MS SubClass']\n",
    "           \n",
    "numeric = ['Garage Yr Blt']"
   ]
  },
  {
   "cell_type": "code",
   "execution_count": 5,
   "id": "b8483f79-98be-4f21-8b04-a5f2e8a3e159",
   "metadata": {},
   "outputs": [],
   "source": [
    "#Dictionary of ordinal variables\n",
    "ordinal_dict = {\n",
    " 'Lot Shape' : {'Reg':0, 'IR1':1, 'IR2':2, 'IR3':3},\n",
    " 'Utilities' : {'AllPub':4, 'NoSewr':3, 'NoSeWa':2, 'ELO':1},\n",
    " 'Land Slope': {'Gtl':0, 'Mod':1, 'Sev':2},\n",
    " 'Exter Qual': {'Ex':5, 'Gd':4, 'TA':3, 'Fa':2, 'Po':1},\n",
    " 'Exter Cond': {'Ex':5, 'Gd':4, 'TA':3, 'Fa':2, 'Po':1},\n",
    " 'Heating QC': {'Ex':5, 'Gd':4, 'TA':3, 'Fa':2, 'Po':1},\n",
    " 'Kitchen Qual':{'Ex':5, 'Gd':4, 'TA':3, 'Fa':2, 'Po':1},\n",
    " 'Functional': {'Typ':8, 'Min1':7, 'Min2':6, 'Mod':5, 'Maj1':4, 'Maj2':3, 'Sev':2, 'Sal':1},\n",
    " 'Paved Drive':{'Y':3, 'P':2, 'N':1}\n",
    "}\n",
    "\n",
    "ordinal = [x for x in ordinal_dict.keys()]"
   ]
  },
  {
   "cell_type": "markdown",
   "id": "552d1453-4518-42ed-86d8-e09d93e078a8",
   "metadata": {},
   "source": [
    "Now that we know how we want everything to be encoded, let's write a function that does this all for us.  Specifically, we want it to do the following:\n",
    "- For each `useless` variable, drop that variable.\n",
    "- For each `categorical` variable, convert its values to strings.\n",
    "- For each `numeric` variable, convert any non-numeric values to numbers.  To do so, we'll just assign all such non-numeric entries a numeric value equal to the *mean of the numeric values in that list*.\n",
    "- For each `ordinal` variable, map its values to numbers according to the `ordinal_dict`."
   ]
  },
  {
   "cell_type": "code",
   "execution_count": 6,
   "id": "83d82f9f-7292-4546-8018-692188ec194b",
   "metadata": {},
   "outputs": [],
   "source": [
    "def process_data(df, useless, categorical, numeric, ordinal_dict):\n",
    "    #Does the processes described above.\n",
    "    \n",
    "    #Drop the useless columns\n",
    "    df.drop(columns=useless, inplace=True)\n",
    "    \n",
    "    #Fix variables that appear numeric but should be categorical\n",
    "    for col in categorical:\n",
    "        df[col] = df[col].map(lambda x: str(x)+'*')\n",
    "        #Add a '*' so that Pandas doesn't treat this as a number\n",
    "    \n",
    "    #Fix columns that are supposed to be numeric\n",
    "    #This ONLY works if all non-numeric items are 'DNE'\n",
    "    for col in numeric:\n",
    "        df[col] = df[col].map(lambda x : np.nan if x=='DNE' else float(x))\n",
    "        mean = df[col].mean()\n",
    "        #Map all NaN values to this mean\n",
    "        df[col] = df[col].map(lambda x : x if x < np.Inf else mean)\n",
    "        \n",
    "        \n",
    "    #Give numeric values to ordinal variables, according to ordinal_dict\n",
    "    for col in ordinal_dict.keys():\n",
    "        df[col] = df[col].map(ordinal_dict[col])"
   ]
  },
  {
   "cell_type": "code",
   "execution_count": 7,
   "id": "172783e8-eed1-4cc1-94de-1ccd62ae418f",
   "metadata": {},
   "outputs": [],
   "source": [
    "process_data(df, useless=useless, categorical=categorical, numeric=numeric, ordinal_dict=ordinal_dict)"
   ]
  },
  {
   "cell_type": "markdown",
   "id": "f9b7133e-35b9-42c3-99e1-2781c52b7da1",
   "metadata": {},
   "source": [
    "## Checking data types"
   ]
  },
  {
   "cell_type": "code",
   "execution_count": 8,
   "id": "14908e65-2f40-49de-abe5-72aaf5f887ac",
   "metadata": {},
   "outputs": [
    {
     "name": "stdout",
     "output_type": "stream",
     "text": [
      "<class 'pandas.core.frame.DataFrame'>\n",
      "RangeIndex: 2040 entries, 0 to 2039\n",
      "Data columns (total 79 columns):\n",
      " #   Column           Non-Null Count  Dtype  \n",
      "---  ------           --------------  -----  \n",
      " 0   Id               2040 non-null   int64  \n",
      " 1   MS SubClass      2040 non-null   object \n",
      " 2   MS Zoning        2040 non-null   object \n",
      " 3   Lot Frontage     2040 non-null   float64\n",
      " 4   Lot Area         2040 non-null   int64  \n",
      " 5   Street           2040 non-null   object \n",
      " 6   Alley            2040 non-null   object \n",
      " 7   Lot Shape        2040 non-null   int64  \n",
      " 8   Land Contour     2040 non-null   object \n",
      " 9   Utilities        2040 non-null   int64  \n",
      " 10  Lot Config       2040 non-null   object \n",
      " 11  Land Slope       2040 non-null   int64  \n",
      " 12  Neighborhood     2040 non-null   object \n",
      " 13  Condition 1      2040 non-null   object \n",
      " 14  Condition 2      2040 non-null   object \n",
      " 15  Bldg Type        2040 non-null   object \n",
      " 16  House Style      2040 non-null   object \n",
      " 17  Overall Qual     2040 non-null   int64  \n",
      " 18  Overall Cond     2040 non-null   int64  \n",
      " 19  Year Built       2040 non-null   int64  \n",
      " 20  Year Remod/Add   2040 non-null   int64  \n",
      " 21  Roof Style       2040 non-null   object \n",
      " 22  Roof Matl        2040 non-null   object \n",
      " 23  Exterior 1st     2040 non-null   object \n",
      " 24  Exterior 2nd     2040 non-null   object \n",
      " 25  Mas Vnr Type     2040 non-null   object \n",
      " 26  Mas Vnr Area     2040 non-null   float64\n",
      " 27  Exter Qual       2040 non-null   int64  \n",
      " 28  Exter Cond       2040 non-null   int64  \n",
      " 29  Foundation       2040 non-null   object \n",
      " 30  Bsmt Qual        2040 non-null   object \n",
      " 31  Bsmt Cond        2040 non-null   object \n",
      " 32  Bsmt Exposure    2040 non-null   object \n",
      " 33  BsmtFin Type 1   2040 non-null   object \n",
      " 34  BsmtFin SF 1     2040 non-null   float64\n",
      " 35  BsmtFin Type 2   2040 non-null   object \n",
      " 36  Bsmt Unf SF      2040 non-null   float64\n",
      " 37  Total Bsmt SF    2040 non-null   float64\n",
      " 38  Heating          2040 non-null   object \n",
      " 39  Heating QC       2040 non-null   int64  \n",
      " 40  Central Air      2040 non-null   object \n",
      " 41  Electrical       2040 non-null   object \n",
      " 42  1st Flr SF       2040 non-null   int64  \n",
      " 43  2nd Flr SF       2040 non-null   int64  \n",
      " 44  Low Qual Fin SF  2040 non-null   int64  \n",
      " 45  Gr Liv Area      2040 non-null   int64  \n",
      " 46  Bsmt Full Bath   2040 non-null   float64\n",
      " 47  Bsmt Half Bath   2040 non-null   float64\n",
      " 48  Full Bath        2040 non-null   int64  \n",
      " 49  Half Bath        2040 non-null   int64  \n",
      " 50  Bedroom AbvGr    2040 non-null   int64  \n",
      " 51  Kitchen AbvGr    2040 non-null   int64  \n",
      " 52  Kitchen Qual     2040 non-null   int64  \n",
      " 53  TotRms AbvGrd    2040 non-null   int64  \n",
      " 54  Functional       2040 non-null   int64  \n",
      " 55  Fireplaces       2040 non-null   int64  \n",
      " 56  Fireplace Qu     2040 non-null   object \n",
      " 57  Garage Type      2040 non-null   object \n",
      " 58  Garage Yr Blt    2040 non-null   float64\n",
      " 59  Garage Finish    2040 non-null   object \n",
      " 60  Garage Cars      2040 non-null   float64\n",
      " 61  Garage Area      2040 non-null   float64\n",
      " 62  Garage Qual      2040 non-null   object \n",
      " 63  Garage Cond      2040 non-null   object \n",
      " 64  Paved Drive      2040 non-null   int64  \n",
      " 65  Wood Deck SF     2040 non-null   int64  \n",
      " 66  Open Porch SF    2040 non-null   int64  \n",
      " 67  Enclosed Porch   2040 non-null   int64  \n",
      " 68  3Ssn Porch       2040 non-null   int64  \n",
      " 69  Screen Porch     2040 non-null   int64  \n",
      " 70  Pool Area        2040 non-null   int64  \n",
      " 71  Pool QC          2040 non-null   object \n",
      " 72  Fence            2040 non-null   object \n",
      " 73  Misc Feature     2040 non-null   object \n",
      " 74  Misc Val         2040 non-null   int64  \n",
      " 75  Mo Sold          2040 non-null   int64  \n",
      " 76  Yr Sold          2040 non-null   int64  \n",
      " 77  Sale Type        2040 non-null   object \n",
      " 78  SalePrice        2040 non-null   int64  \n",
      "dtypes: float64(10), int64(35), object(34)\n",
      "memory usage: 1.2+ MB\n"
     ]
    }
   ],
   "source": [
    "df.info()"
   ]
  },
  {
   "cell_type": "markdown",
   "id": "e1f77aa3-35e8-42e1-848d-97f3e2908055",
   "metadata": {},
   "source": [
    "Everything is fixed now!"
   ]
  },
  {
   "cell_type": "markdown",
   "id": "9d333d0d-99f6-4c7e-ba62-2f01a6f91bfe",
   "metadata": {},
   "source": [
    "## Data Export: Training Set"
   ]
  },
  {
   "cell_type": "markdown",
   "id": "aa6fcc50-a794-40ed-96fa-73fd1ce75ee0",
   "metadata": {},
   "source": [
    "Now that our training data is fully prepared, in the next notebook we'll use it for modeling.  However, we want to make sure to separate out a portion of our data to be used as a test set.  We'll do so now.\n",
    "\n",
    "NOTE: We already have a \"test\" data set, but that data set doesn't have any values for our target variable `SalePrice`!  So if we want to be able to evaluate our models prior to using them \"in the real world\" (i.e. on the test data set given to us), we'll have to reserve a portion of our training set to be used for model evaluation.  We'll call this `train_processed_reserved.csv`, and the rest of our training data set will be exported as simply `train_processed.csv`."
   ]
  },
  {
   "cell_type": "code",
   "execution_count": 9,
   "id": "3a8ca6eb-1c4c-4492-8f2e-a52eccc6e59d",
   "metadata": {},
   "outputs": [],
   "source": [
    "df_train, df_test = train_test_split(df, test_size=.15, random_state=1234)"
   ]
  },
  {
   "cell_type": "code",
   "execution_count": 10,
   "id": "31a8be5c-f462-4bec-a4ba-de8beecabf6b",
   "metadata": {},
   "outputs": [
    {
     "name": "stdout",
     "output_type": "stream",
     "text": [
      "Number of observations in main (training) set: 1734\n",
      "Number of observations in reserved (testing) set: 306\n"
     ]
    }
   ],
   "source": [
    "print(f\"Number of observations in main (training) set: {len(df_train)}\")\n",
    "print(f\"Number of observations in reserved (testing) set: {len(df_test)}\")"
   ]
  },
  {
   "cell_type": "code",
   "execution_count": 11,
   "id": "89cda963-e0f5-40ed-8b5f-5e205560cd62",
   "metadata": {},
   "outputs": [],
   "source": [
    "df_train.to_csv('../datasets/train_processed.csv', index=False)\n",
    "df_test.to_csv('../datasets/train_processed_reserved.csv', index=False)"
   ]
  },
  {
   "cell_type": "markdown",
   "id": "25dc63b0-4717-4083-82ef-e002afcdc2f2",
   "metadata": {},
   "source": [
    "## Data Import: Test Set"
   ]
  },
  {
   "cell_type": "code",
   "execution_count": 12,
   "id": "5d20d155-6e86-43d1-b34a-f53a449f45c8",
   "metadata": {},
   "outputs": [],
   "source": [
    "df = pd.read_csv('../datasets/test_cleaned.csv')"
   ]
  },
  {
   "cell_type": "markdown",
   "id": "c5eb62e7-6506-4948-880f-ffbae3ea4b38",
   "metadata": {},
   "source": [
    "### Clean the data"
   ]
  },
  {
   "cell_type": "code",
   "execution_count": 13,
   "id": "6390cb79-7876-4940-adbf-5d8a125d0e26",
   "metadata": {},
   "outputs": [],
   "source": [
    "process_data(df, useless=useless, categorical=categorical, numeric=numeric, ordinal_dict=ordinal_dict)"
   ]
  },
  {
   "cell_type": "markdown",
   "id": "2382906e-6d78-44d2-9651-209e7c060f33",
   "metadata": {},
   "source": [
    "## Data Export: Test Set"
   ]
  },
  {
   "cell_type": "code",
   "execution_count": 14,
   "id": "fbab1bc6-c20c-476c-841e-2f52f321305e",
   "metadata": {},
   "outputs": [],
   "source": [
    "df.to_csv('../datasets/test_processed.csv', index=False)"
   ]
  },
  {
   "cell_type": "markdown",
   "id": "0acaf24a-86aa-4471-aeb8-c8eeb2ac4672",
   "metadata": {},
   "source": [
    "## What's next?\n",
    "\n",
    "In the [next notebook](./4_modeling.ipynb), we do some exploratory data analysis and then delve into modeling sale prices with linear regressions."
   ]
  }
 ],
 "metadata": {
  "kernelspec": {
   "display_name": "Python 3 (ipykernel)",
   "language": "python",
   "name": "python3"
  },
  "language_info": {
   "codemirror_mode": {
    "name": "ipython",
    "version": 3
   },
   "file_extension": ".py",
   "mimetype": "text/x-python",
   "name": "python",
   "nbconvert_exporter": "python",
   "pygments_lexer": "ipython3",
   "version": "3.9.13"
  }
 },
 "nbformat": 4,
 "nbformat_minor": 5
}
