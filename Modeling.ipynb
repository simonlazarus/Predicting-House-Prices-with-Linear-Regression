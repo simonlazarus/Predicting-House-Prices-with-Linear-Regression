{
 "cells": [
  {
   "cell_type": "markdown",
   "id": "edd0155b-743c-4d09-86ea-89790c93bc6c",
   "metadata": {},
   "source": [
    "## Package and data imports"
   ]
  },
  {
   "cell_type": "code",
   "execution_count": 71,
   "id": "cdf8ad55-2cff-4ca9-b899-f25750718116",
   "metadata": {},
   "outputs": [],
   "source": [
    "import numpy as np\n",
    "import pandas as pd\n",
    "import matplotlib.pyplot as plt\n",
    "\n",
    "#sklearn\n",
    "from sklearn.linear_model import LinearRegression\n",
    "from sklearn import metrics\n",
    "from sklearn.model_selection import train_test_split, cross_val_score\n"
   ]
  },
  {
   "cell_type": "code",
   "execution_count": 130,
   "id": "152d397d-d0be-4a63-b720-d0ce441346dc",
   "metadata": {},
   "outputs": [],
   "source": [
    "#Data import\n",
    "df = pd.read_csv('./datasets/train_cleaned.csv')"
   ]
  },
  {
   "cell_type": "markdown",
   "id": "7b97360d-b356-4169-b952-5fa93adbe9a6",
   "metadata": {},
   "source": [
    "# Helper functions"
   ]
  },
  {
   "cell_type": "markdown",
   "id": "5d750759-5595-48bf-bf8e-445c50d5ee79",
   "metadata": {},
   "source": [
    "## Categorical Variable Encoding\n",
    "\n",
    "Several categorical variables in this data set may convey information but may add too many parameters to our model (and lead to overfitting) if one-hot encoded.  Instead of one-hot encoding all of these categorical variables, we'll want to be able to encode them in a simpler form.  The function below carries out one possible such encoding; it turns a categorical variable into a numeric variable that only takes on the values 1, 0 and -1 based on whether they're associated with higher or lower values of our target variable `SalePrice`.  1 corresponds to \"above average\", 0 to \"about average\", and -1 to \"below average.\"  See the example below, after the function's code."
   ]
  },
  {
   "cell_type": "code",
   "execution_count": 127,
   "id": "70a51252-623c-48ff-8dcc-e5228806cc59",
   "metadata": {},
   "outputs": [],
   "source": [
    "def above_below_mid(df, col, target):\n",
    "    '''\n",
    "    Inputs:\n",
    "    -A Pandas dataframe df\n",
    "    -The name of a (categorical) column in df\n",
    "    -The name of the target (numeric) column to be predicted by modeling\n",
    "    \n",
    "    Output:\n",
    "    Returns a dicticonary that sorts each value appearing in that column\n",
    "    to 1 if it's associated with above-median target value, -1 if it's\n",
    "    associated with a below-median target value, and 0 if it's associated\n",
    "    with an approximately-median target value.\n",
    "    \n",
    "    Specifically, this function does:\n",
    "    1. For each value 's' that is taken on in that column,\n",
    "     find the conditional median of the target value given that\n",
    "     df[col]=='s';\n",
    "    2. Find the range of these conditional medians, i.e.\n",
    "     [LOWEST CND MEDIAN, HIGHEST CND MEDIAN];\n",
    "    3. For each value 's' that is taken on in that column,\n",
    "      -Appends {'s':1} to the output dict if the conditional median\n",
    "      for 's' was in the top third of this range;\n",
    "      -Appends {'s':0} if it was in the middle thrid;\n",
    "      -Appends {'s':-1} if it was in the bottom third.\n",
    "    '''\n",
    "    \n",
    "    output={}\n",
    "    meds={}\n",
    "    pop_med = df[target].median()\n",
    "    \n",
    "    #Make a dictionary of conditional medians for each value in the column\n",
    "    for name in df[col].unique():\n",
    "        \n",
    "        #Find conditional median of target for that value\n",
    "        cnd_med = df[ df[col]==name ][target].median()\n",
    "        meds[name] = cnd_med\n",
    "            \n",
    "    #Find the most extreme conditional medians\n",
    "    highest_med = max(meds.values())\n",
    "    lowest_med = min(meds.values())\n",
    "    diff = highest_med - lowest_med\n",
    "\n",
    "    #Group the column's values based on whether their conditional target mean\n",
    "    #is in the lower thrid (-1), upper third (1), or middle third (0)\n",
    "    \n",
    "    for name in meds.keys():\n",
    "        if meds[name] < lowest_med + diff/3:\n",
    "            output[name] = -1\n",
    "        elif meds[name] > highest_med - diff/3:\n",
    "            output[name] = 1\n",
    "        else:\n",
    "            output[name] = 0\n",
    "    \n",
    "    return output\n",
    "    "
   ]
  },
  {
   "cell_type": "code",
   "execution_count": 129,
   "id": "747508a2-491c-4cef-8333-ce26f0dd66f7",
   "metadata": {},
   "outputs": [
    {
     "data": {
      "text/plain": [
       "{'RRAe': -1,\n",
       " 'Norm': 0,\n",
       " 'PosA': 1,\n",
       " 'Artery': -1,\n",
       " 'Feedr': -1,\n",
       " 'PosN': 1,\n",
       " 'RRAn': 0,\n",
       " 'RRNe': -1,\n",
       " 'RRNn': 1}"
      ]
     },
     "execution_count": 129,
     "metadata": {},
     "output_type": "execute_result"
    }
   ],
   "source": [
    "#An example\n",
    "above_below_mid(df, col='Condition 1', target='SalePrice')"
   ]
  },
  {
   "cell_type": "markdown",
   "id": "3c0e0f79-9256-474c-82f4-231b78ad8861",
   "metadata": {},
   "source": [
    "Those strings that are assigned -1 can be thought of as associated with below-average home prices; those assigned +1 are associated with above-average home prices; and those assigned 0 are associated with approximately average prices.\n",
    "\n",
    "Looking at the [data description](http://jse.amstat.org/v19n3/decock/DataDocumentation.txt) for the feature `Condition 1`, we can see that these assignments make a good deal of sense.  The value 'RRAe' is mapped to -1, which fits with the idea that being *adjacent to a railrod* probably leads to lower home prices.  The value 'Norm' is mapped to 0, which means that \"Normal\" (according to the data description) houses have approximately average prices.  'PosA' is described as \"Adjacent to postive off-site feature,\" and we see that it's mapped to 1, corresponding to higher-than-average home prices."
   ]
  },
  {
   "cell_type": "markdown",
   "id": "eaa49b45-6fb7-46cf-b9a0-a5e406be7216",
   "metadata": {},
   "source": [
    "### Regression fitting and evaluation"
   ]
  },
  {
   "cell_type": "code",
   "execution_count": 67,
   "id": "2265cdd5-b5b1-49b3-8b40-0a0ab0f88546",
   "metadata": {},
   "outputs": [],
   "source": [
    "def regression(df, features, target,\n",
    "        test_size=.25, random_state=None, folds=5, outputs=['crossval']):\n",
    "    '''\n",
    "    Inputs:\n",
    "    df: A Pandas dataframe\n",
    "    features: A list of column names in df that you want included as regressors\n",
    "    target: The name of a column in df that you want as the dependent variable\n",
    "    \n",
    "    Parameters:\n",
    "    test_size: Proportion of df to use as a test data set. Defaults to .25.\n",
    "    random_state: Random state for train-test split. Defaults to None.\n",
    "    folds: The number of folds to be used for cross-val scoring of the model.\n",
    "    outputs: A list of strings indicating the items this function should output.\n",
    "    \n",
    "        You can enter the following arguments (defaults to only 'crossval'):\n",
    "        \n",
    "        'crossval': The cross-val scores of the model on the UNION of\n",
    "                    train+test sets\n",
    "        'r2_test': R-Squared value from the test data set\n",
    "        'r2_train': R-squared value from the training data set\n",
    "        'rmse_test': Root mean-squared error of model on test data\n",
    "        'rmse_train': Root mean-squared error of model on train data\n",
    "        \n",
    "        'lr': The sklearn linear model fitted on the UNION of\n",
    "              training and test sets\n",
    "        'coefs': A Pandas series of the fitted coefs from the UNION of\n",
    "                 train+test sets\n",
    "        'intercept': The fitted intercept coef from the UNION of train+test sets\n",
    "        \n",
    "        'lr_train': The sklearn linear model fitted on the training set\n",
    "        'coefs_train': A Pandas series of the fitted coefs from the training set\n",
    "        'intercept_train': The fitted intercept coef from the training set\n",
    "        \n",
    "        'train_indices': An array of the indices of observations used in train set\n",
    "        'test_indices': An array of the indices of observations used in test set\n",
    "    \n",
    "    Output:\n",
    "    Splits df into training and test sets.  Trains a linear model with\n",
    "    X=df[features] and y=df[target], then returns the desired items listed\n",
    "    in 'outputs'.  \n",
    "    '''\n",
    "    \n",
    "    X = df[features]\n",
    "    y = df[target]\n",
    "    \n",
    "    #Initialize a dictionary for outputs\n",
    "    returns = {}\n",
    "    \n",
    "    \n",
    "    \n",
    "    \n",
    "    \n",
    "    \n",
    "    #If the only desired output is crossval, then we don't need to train a model ourselves\n",
    "    if outputs == ['crossval']:\n",
    "        return {'crossval' : cross_val_score(LinearRegression(), X, y, cv=folds)}\n",
    "    \n",
    "    \n",
    "    \n",
    "    \n",
    "    \n",
    "    \n",
    "    \n",
    "    \n",
    "    \n",
    "    \n",
    "    #If none of the desired outputs include 'train' or 'test', then we only need\n",
    "    #to fit a model on the ENTIRE data set (no train/test splitting needed)\n",
    "    \n",
    "    notrain = 'train' not in ''.join(outputs)\n",
    "    notest = 'test' not in ''.join(outputs)\n",
    "    \n",
    "    if notrain and notest:\n",
    "    \n",
    "        #Fit a linear model on the entire data set\n",
    "        lr = LinearRegression()\n",
    "        lr.fit(X, y)\n",
    "        \n",
    "        #For each type of desired output, add it to our output dictionary\n",
    "        for x in outputs:\n",
    "            if x=='lr':\n",
    "                returns[x] = lr\n",
    "            if x=='coefs':\n",
    "                returns[x] = lr.coef_\n",
    "            if x=='intercept':\n",
    "                returns[x] = lr.intercept_\n",
    "            if x=='crossval':\n",
    "                returns[x] = cross_val_score(LinearRegression(), X, y, cv=folds)\n",
    "        return returns\n",
    "    \n",
    "    \n",
    "    \n",
    "    \n",
    "    \n",
    "    \n",
    "    #Now check if ALL the desired outputs (other than 'crossval') reference 'train'\n",
    "    #or 'test'.  If so, then we don't need to fit a regression on the WHOLE\n",
    "    #data set - only on the train set.\n",
    "    \n",
    "    #Initialize an indicator to see if all desired outputs (except possibly 'crossval')\n",
    "    #contain 'train' or 'test'\n",
    "    indicator = 1\n",
    "    \n",
    "    for x in outputs:\n",
    "        if x=='crossval':\n",
    "            continue\n",
    "        elif 'train' in x:\n",
    "            continue\n",
    "        elif 'test' in x:\n",
    "            continue\n",
    "        else:\n",
    "            indicator = 0\n",
    "            break\n",
    "    \n",
    "    #If no desired outputs require a whole-data-set fitting...\n",
    "    if indicator == 1:\n",
    "        \n",
    "        #Split the data set\n",
    "        X_train, X_test, y_train, y_test = train_test_split(X, y,\n",
    "                                                            random_state=random_state,\n",
    "                                                            test_size=test_size)\n",
    "        #Fit a linear model on the training set\n",
    "        lr_train = LinearRegression()\n",
    "        lr_train.fit(X_train, y_train)\n",
    "    \n",
    "        #For each type of desired output, add it to our output dictionary\n",
    "        for x in outputs:\n",
    "            if x=='crossval':\n",
    "                returns[x] = cross_val_score(LinearRegression(), X, y, cv=folds)\n",
    "            if x=='r2_test':\n",
    "                returns[x] = lr_train.score(X_test, y_test)\n",
    "            if x=='r2_train':\n",
    "                returns[x] = lr_train.score(X_train, y_train)\n",
    "            if x=='rmse_test':\n",
    "                returns[x] = metrics.mean_squared_error(y_test, lr_train.predict(X_test), squared=False)\n",
    "            if x=='rmse_train':\n",
    "                returns[x] = metrics.mean_squared_error(y_train, lr_train.predict(X_train), squared=False)\n",
    "            if x=='lr_train':\n",
    "                returns[x] = lr_train\n",
    "            if x=='coefs_train':\n",
    "                returns[x] = lr_train.coef_\n",
    "            if x=='intercept_train':\n",
    "                returns[x] = lr_train.intercept_\n",
    "            if x=='train_indices':\n",
    "                returns[x] = X_train.index\n",
    "            if x=='test_indices':\n",
    "                returns[x] = X_test.index\n",
    "        return returns\n",
    "    \n",
    "    \n",
    "    \n",
    "    \n",
    "    \n",
    "    \n",
    "    \n",
    "    \n",
    "    #If neither of the above conditions is met, then we need to fit regression models\n",
    "    #on BOTH the whole data set and a test set.\n",
    "    else:\n",
    "        \n",
    "        #Split the data set\n",
    "        X_train, X_test, y_train, y_test = train_test_split(X, y,\n",
    "                                                            random_state=random_state,\n",
    "                                                            test_size=test_size)\n",
    "        #Fit a linear model on the training set\n",
    "        lr_train = LinearRegression()\n",
    "        lr_train.fit(X_train, y_train)\n",
    "        \n",
    "        #Fit a separate linear model on the WHOLE data set\n",
    "        lr = LinearRegression()\n",
    "        lr.fit(X, y)\n",
    "        \n",
    "        #For each type of desired output, add it to our output dictionary\n",
    "        for x in outputs:\n",
    "            if x=='crossval':\n",
    "                returns[x] = cross_val_score(LinearRegression(), X, y, cv=folds)\n",
    "            if x=='r2_test':\n",
    "                returns[x] = lr_train.score(X_test, y_test)\n",
    "            if x=='r2_train':\n",
    "                returns[x] = lr_train.score(X_train, y_train)\n",
    "            if x=='rmse_test':\n",
    "                returns[x] = metrics.mean_squared_error(y_test, lr_train.predict(X_test), squared=False)\n",
    "            if x=='rmse_train':\n",
    "                returns[x] = metrics.mean_squared_error(y_train, lr_train.predict(X_train), squared=False)\n",
    "            if x=='lr_train':\n",
    "                returns[x] = lr_train\n",
    "            if x=='coefs_train':\n",
    "                returns[x] = lr_train.coef_\n",
    "            if x=='intercept_train':\n",
    "                returns[x] = lr_train.intercept_\n",
    "            if x=='train_indices':\n",
    "                returns[x] = X_train.index\n",
    "            if x=='test_indices':\n",
    "                returns[x] = X_test.index\n",
    "            if x=='lr':\n",
    "                returns[x] = lr\n",
    "            if x=='coefs':\n",
    "                returns[x] = lr.coef_\n",
    "            if x=='intercept':\n",
    "                returns[x] = lr.intercept_\n",
    "        return returns\n",
    "    "
   ]
  },
  {
   "cell_type": "markdown",
   "id": "d0903cc4-03ea-4148-a471-31efd8ed9ddf",
   "metadata": {},
   "source": [
    "## First attempt: Some basic numeric features\n",
    "\n",
    "We'll run a regression on those numeric features that at first glance seem most likely to contribute to sale price.  We will try to not include features that are likely to be muticollinear."
   ]
  },
  {
   "cell_type": "code",
   "execution_count": 28,
   "id": "4e658245-147c-4e95-ba0b-e47d87b469a1",
   "metadata": {},
   "outputs": [
    {
     "data": {
      "text/plain": [
       "['Id',\n",
       " 'PID',\n",
       " 'MS SubClass',\n",
       " 'Lot Area',\n",
       " 'Overall Qual',\n",
       " 'Overall Cond',\n",
       " 'Year Built',\n",
       " 'Year Remod/Add',\n",
       " '1st Flr SF',\n",
       " '2nd Flr SF',\n",
       " 'Low Qual Fin SF',\n",
       " 'Gr Liv Area',\n",
       " 'Full Bath',\n",
       " 'Half Bath',\n",
       " 'Bedroom AbvGr',\n",
       " 'Kitchen AbvGr',\n",
       " 'TotRms AbvGrd',\n",
       " 'Fireplaces',\n",
       " 'Wood Deck SF',\n",
       " 'Open Porch SF',\n",
       " 'Enclosed Porch',\n",
       " '3Ssn Porch',\n",
       " 'Screen Porch',\n",
       " 'Pool Area',\n",
       " 'Misc Val',\n",
       " 'Mo Sold',\n",
       " 'Yr Sold',\n",
       " 'SalePrice']"
      ]
     },
     "execution_count": 28,
     "metadata": {},
     "output_type": "execute_result"
    }
   ],
   "source": [
    "#Extract the numeric features\n",
    "numerics = []\n",
    "\n",
    "for feature in df.dtypes.index:\n",
    "    if (df.dtypes[feature] == 'int64') or (df.dtypes[feature] == 'int64'):\n",
    "        numerics.append(feature)\n",
    "        \n",
    "numerics"
   ]
  },
  {
   "cell_type": "markdown",
   "id": "47940636-50b3-4a77-ba8f-eeee11c0c2b3",
   "metadata": {},
   "source": [
    "Let's remove the features that are numeric but don't capture any real information (such as 'Id' and 'PID'), as well as some features that capture complex aggregations of may facts (and are hence likely to be multicollinear with the other variables), such as `Ms SubClass`:"
   ]
  },
  {
   "cell_type": "code",
   "execution_count": 70,
   "id": "2779ad05-97f9-49eb-81dd-0252fab9c8d6",
   "metadata": {},
   "outputs": [
    {
     "data": {
      "text/plain": [
       "['PID',\n",
       " 'MS SubClass',\n",
       " 'Lot Area',\n",
       " 'Overall Qual',\n",
       " 'Overall Cond',\n",
       " 'Year Built',\n",
       " 'Year Remod/Add',\n",
       " '1st Flr SF',\n",
       " '2nd Flr SF',\n",
       " 'Low Qual Fin SF',\n",
       " 'Gr Liv Area',\n",
       " 'Full Bath',\n",
       " 'Half Bath',\n",
       " 'Bedroom AbvGr',\n",
       " 'Kitchen AbvGr',\n",
       " 'TotRms AbvGrd',\n",
       " 'Fireplaces',\n",
       " 'Wood Deck SF',\n",
       " 'Open Porch SF',\n",
       " 'Enclosed Porch',\n",
       " '3Ssn Porch',\n",
       " 'Screen Porch',\n",
       " 'Pool Area',\n",
       " 'Misc Val',\n",
       " 'Mo Sold',\n",
       " 'Yr Sold',\n",
       " 'SalePrice']"
      ]
     },
     "execution_count": 70,
     "metadata": {},
     "output_type": "execute_result"
    }
   ],
   "source": [
    "numerics.remove('Id')\n",
    "numerics.remove("
   ]
  },
  {
   "cell_type": "code",
   "execution_count": null,
   "id": "d0027ccc-95a4-4ea7-930e-12bff997616a",
   "metadata": {},
   "outputs": [],
   "source": []
  },
  {
   "cell_type": "code",
   "execution_count": null,
   "id": "c6ac2686-4280-458f-821e-f0c102dd7418",
   "metadata": {},
   "outputs": [],
   "source": []
  },
  {
   "cell_type": "markdown",
   "id": "3a2e101d-594d-4f2b-a41a-002228d24902",
   "metadata": {},
   "source": [
    "Some of these features are likely to be multicollinear: e.g. combining living area + kitchens + baths is likely to yiled something close to total square footage."
   ]
  },
  {
   "cell_type": "code",
   "execution_count": 69,
   "id": "2a6defbf-7c30-4baa-9c30-82b37be167db",
   "metadata": {},
   "outputs": [
    {
     "data": {
      "text/html": [
       "<div>\n",
       "<style scoped>\n",
       "    .dataframe tbody tr th:only-of-type {\n",
       "        vertical-align: middle;\n",
       "    }\n",
       "\n",
       "    .dataframe tbody tr th {\n",
       "        vertical-align: top;\n",
       "    }\n",
       "\n",
       "    .dataframe thead th {\n",
       "        text-align: right;\n",
       "    }\n",
       "</style>\n",
       "<table border=\"1\" class=\"dataframe\">\n",
       "  <thead>\n",
       "    <tr style=\"text-align: right;\">\n",
       "      <th></th>\n",
       "      <th>Lot Area</th>\n",
       "      <th>Overall Qual</th>\n",
       "      <th>Overall Cond</th>\n",
       "      <th>Year Built</th>\n",
       "      <th>Year Remod/Add</th>\n",
       "      <th>1st Flr SF</th>\n",
       "      <th>2nd Flr SF</th>\n",
       "      <th>Fireplaces</th>\n",
       "      <th>Wood Deck SF</th>\n",
       "      <th>Open Porch SF</th>\n",
       "      <th>Enclosed Porch</th>\n",
       "      <th>3Ssn Porch</th>\n",
       "      <th>Screen Porch</th>\n",
       "      <th>Pool Area</th>\n",
       "      <th>Misc Val</th>\n",
       "    </tr>\n",
       "  </thead>\n",
       "  <tbody>\n",
       "    <tr>\n",
       "      <th>0</th>\n",
       "      <td>13517</td>\n",
       "      <td>6</td>\n",
       "      <td>8</td>\n",
       "      <td>1976</td>\n",
       "      <td>2005</td>\n",
       "      <td>725</td>\n",
       "      <td>754</td>\n",
       "      <td>0</td>\n",
       "      <td>0</td>\n",
       "      <td>44</td>\n",
       "      <td>0</td>\n",
       "      <td>0</td>\n",
       "      <td>0</td>\n",
       "      <td>0</td>\n",
       "      <td>0</td>\n",
       "    </tr>\n",
       "    <tr>\n",
       "      <th>1</th>\n",
       "      <td>11492</td>\n",
       "      <td>7</td>\n",
       "      <td>5</td>\n",
       "      <td>1996</td>\n",
       "      <td>1997</td>\n",
       "      <td>913</td>\n",
       "      <td>1209</td>\n",
       "      <td>1</td>\n",
       "      <td>0</td>\n",
       "      <td>74</td>\n",
       "      <td>0</td>\n",
       "      <td>0</td>\n",
       "      <td>0</td>\n",
       "      <td>0</td>\n",
       "      <td>0</td>\n",
       "    </tr>\n",
       "    <tr>\n",
       "      <th>2</th>\n",
       "      <td>7922</td>\n",
       "      <td>5</td>\n",
       "      <td>7</td>\n",
       "      <td>1953</td>\n",
       "      <td>2007</td>\n",
       "      <td>1057</td>\n",
       "      <td>0</td>\n",
       "      <td>0</td>\n",
       "      <td>0</td>\n",
       "      <td>52</td>\n",
       "      <td>0</td>\n",
       "      <td>0</td>\n",
       "      <td>0</td>\n",
       "      <td>0</td>\n",
       "      <td>0</td>\n",
       "    </tr>\n",
       "    <tr>\n",
       "      <th>3</th>\n",
       "      <td>9802</td>\n",
       "      <td>5</td>\n",
       "      <td>5</td>\n",
       "      <td>2006</td>\n",
       "      <td>2007</td>\n",
       "      <td>744</td>\n",
       "      <td>700</td>\n",
       "      <td>0</td>\n",
       "      <td>100</td>\n",
       "      <td>0</td>\n",
       "      <td>0</td>\n",
       "      <td>0</td>\n",
       "      <td>0</td>\n",
       "      <td>0</td>\n",
       "      <td>0</td>\n",
       "    </tr>\n",
       "    <tr>\n",
       "      <th>4</th>\n",
       "      <td>14235</td>\n",
       "      <td>6</td>\n",
       "      <td>8</td>\n",
       "      <td>1900</td>\n",
       "      <td>1993</td>\n",
       "      <td>831</td>\n",
       "      <td>614</td>\n",
       "      <td>0</td>\n",
       "      <td>0</td>\n",
       "      <td>59</td>\n",
       "      <td>0</td>\n",
       "      <td>0</td>\n",
       "      <td>0</td>\n",
       "      <td>0</td>\n",
       "      <td>0</td>\n",
       "    </tr>\n",
       "  </tbody>\n",
       "</table>\n",
       "</div>"
      ],
      "text/plain": [
       "   Lot Area  Overall Qual  Overall Cond  Year Built  Year Remod/Add  \\\n",
       "0     13517             6             8        1976            2005   \n",
       "1     11492             7             5        1996            1997   \n",
       "2      7922             5             7        1953            2007   \n",
       "3      9802             5             5        2006            2007   \n",
       "4     14235             6             8        1900            1993   \n",
       "\n",
       "   1st Flr SF  2nd Flr SF  Fireplaces  Wood Deck SF  Open Porch SF  \\\n",
       "0         725         754           0             0             44   \n",
       "1         913        1209           1             0             74   \n",
       "2        1057           0           0             0             52   \n",
       "3         744         700           0           100              0   \n",
       "4         831         614           0             0             59   \n",
       "\n",
       "   Enclosed Porch  3Ssn Porch  Screen Porch  Pool Area  Misc Val  \n",
       "0               0           0             0          0         0  \n",
       "1               0           0             0          0         0  \n",
       "2               0           0             0          0         0  \n",
       "3               0           0             0          0         0  \n",
       "4               0           0             0          0         0  "
      ]
     },
     "execution_count": 69,
     "metadata": {},
     "output_type": "execute_result"
    }
   ],
   "source": [
    "#Make a list of features that are likely to not be multicollinear\n",
    "features = ['Lot Area', 'Overall Qual', 'Overall Cond', 'Year Built', 'Year Remod/Add',\n",
    "     '1st Flr SF', '2nd Flr SF', 'Fireplaces', 'Wood Deck SF', 'Open Porch SF',\n",
    "     'Enclosed Porch', '3Ssn Porch', 'Screen Porch', 'Pool Area', 'Misc Val']\n",
    "\n",
    "X=df[features]\n",
    "X.head()"
   ]
  },
  {
   "cell_type": "code",
   "execution_count": 33,
   "id": "da6d3d04-f70e-4ba2-bb1e-a5cecff39144",
   "metadata": {},
   "outputs": [],
   "source": [
    "y = df['SalePrice']"
   ]
  },
  {
   "cell_type": "code",
   "execution_count": 60,
   "id": "bcf80cd9-16db-41ae-902f-21931889a241",
   "metadata": {},
   "outputs": [],
   "source": [
    "#Split the data into train and test sets\n",
    "X_train, X_test, y_train, y_test = train_test_split(X, y, random_state=42)"
   ]
  },
  {
   "cell_type": "code",
   "execution_count": 43,
   "id": "bb537752-d2f8-4b56-b6be-d4cc6bf166f9",
   "metadata": {},
   "outputs": [],
   "source": [
    "#Fit the linear model\n",
    "lr = LinearRegression()\n",
    "lr.fit(X_train, y_train)\n",
    "\n",
    "preds_train = lr.predict(X_train)\n",
    "preds_test = lr.predict(X_test)\n",
    "\n",
    "resids_train = y_train - preds_train\n",
    "resids_test = y_test - preds_test"
   ]
  },
  {
   "cell_type": "code",
   "execution_count": 36,
   "id": "c4ca1b04-b428-4983-8666-e8ca8ede9ef6",
   "metadata": {},
   "outputs": [
    {
     "data": {
      "text/plain": [
       "Lot Area              1.691142\n",
       "Overall Qual      20274.572133\n",
       "Overall Cond       4163.902057\n",
       "Year Built          462.386595\n",
       "Year Remod/Add      256.882231\n",
       "1st Flr SF           81.871243\n",
       "2nd Flr SF           45.605186\n",
       "Fireplaces         4352.571382\n",
       "Wood Deck SF         36.319224\n",
       "Open Porch SF        43.423401\n",
       "Enclosed Porch       34.672620\n",
       "3Ssn Porch           48.207552\n",
       "Screen Porch         92.614159\n",
       "Pool Area           -54.380518\n",
       "Misc Val             -0.386996\n",
       "dtype: float64"
      ]
     },
     "execution_count": 36,
     "metadata": {},
     "output_type": "execute_result"
    }
   ],
   "source": [
    "#Examine the coefficients\n",
    "pd.Series(lr.coef_, index = X.columns)"
   ]
  },
  {
   "cell_type": "code",
   "execution_count": 42,
   "id": "ff6ecbc3-2af2-4eda-89d2-27204778c6e5",
   "metadata": {},
   "outputs": [
    {
     "data": {
      "text/plain": [
       "0.8397014033882123"
      ]
     },
     "execution_count": 42,
     "metadata": {},
     "output_type": "execute_result"
    }
   ],
   "source": [
    "#Find R-squared on training data\n",
    "lr.score(X_train, y_train)"
   ]
  },
  {
   "cell_type": "code",
   "execution_count": 38,
   "id": "a9732493-2670-4bb5-9378-a54bb4a6edb3",
   "metadata": {},
   "outputs": [
    {
     "data": {
      "text/plain": [
       "0.8064774414113615"
      ]
     },
     "execution_count": 38,
     "metadata": {},
     "output_type": "execute_result"
    }
   ],
   "source": [
    "#Compare to R-squared on testing data\n",
    "lr.score(X_test, y_test)"
   ]
  },
  {
   "cell_type": "code",
   "execution_count": 39,
   "id": "8b8407d5-f803-4295-bb41-7cf96198d7f7",
   "metadata": {},
   "outputs": [
    {
     "data": {
      "text/plain": [
       "0.8322810537016668"
      ]
     },
     "execution_count": 39,
     "metadata": {},
     "output_type": "execute_result"
    }
   ],
   "source": [
    "#Cross validation\n",
    "cross_val_score(lr, X_train, y_train).mean()"
   ]
  },
  {
   "cell_type": "code",
   "execution_count": 41,
   "id": "966ca634-5f36-4c1f-85b3-270cdadc1e01",
   "metadata": {},
   "outputs": [
    {
     "data": {
      "text/plain": [
       "0.825343231305113"
      ]
     },
     "execution_count": 41,
     "metadata": {},
     "output_type": "execute_result"
    }
   ],
   "source": [
    "#Cross-val score on entire dataset\n",
    "cross_val_score(lr, X, y).mean()"
   ]
  },
  {
   "cell_type": "code",
   "execution_count": 44,
   "id": "0bc0d6d3-3118-4bdc-996b-eb9fbdee1d32",
   "metadata": {},
   "outputs": [
    {
     "data": {
      "text/plain": [
       "36669.135216026305"
      ]
     },
     "execution_count": 44,
     "metadata": {},
     "output_type": "execute_result"
    }
   ],
   "source": [
    "#Compute RMSE on test set\n",
    "metrics.mean_squared_error(y_test, preds_test, squared=False)"
   ]
  },
  {
   "cell_type": "markdown",
   "id": "adb92a1d-247d-490c-8eb6-b3530dc7b0b5",
   "metadata": {},
   "source": [
    "## Make a Kaggle submission"
   ]
  },
  {
   "cell_type": "code",
   "execution_count": 47,
   "id": "9d3af600-582d-4fbe-904c-829641369fd1",
   "metadata": {},
   "outputs": [],
   "source": [
    "kaggle = pd.read_csv('./datasets/test_cleaned.csv')"
   ]
  },
  {
   "cell_type": "code",
   "execution_count": 48,
   "id": "081cd202-f93d-4e4b-9f72-0181b3d0d467",
   "metadata": {},
   "outputs": [
    {
     "data": {
      "text/html": [
       "<div>\n",
       "<style scoped>\n",
       "    .dataframe tbody tr th:only-of-type {\n",
       "        vertical-align: middle;\n",
       "    }\n",
       "\n",
       "    .dataframe tbody tr th {\n",
       "        vertical-align: top;\n",
       "    }\n",
       "\n",
       "    .dataframe thead th {\n",
       "        text-align: right;\n",
       "    }\n",
       "</style>\n",
       "<table border=\"1\" class=\"dataframe\">\n",
       "  <thead>\n",
       "    <tr style=\"text-align: right;\">\n",
       "      <th></th>\n",
       "      <th>Lot Area</th>\n",
       "      <th>Overall Qual</th>\n",
       "      <th>Overall Cond</th>\n",
       "      <th>Year Built</th>\n",
       "      <th>Year Remod/Add</th>\n",
       "      <th>1st Flr SF</th>\n",
       "      <th>2nd Flr SF</th>\n",
       "      <th>Fireplaces</th>\n",
       "      <th>Wood Deck SF</th>\n",
       "      <th>Open Porch SF</th>\n",
       "      <th>Enclosed Porch</th>\n",
       "      <th>3Ssn Porch</th>\n",
       "      <th>Screen Porch</th>\n",
       "      <th>Pool Area</th>\n",
       "      <th>Misc Val</th>\n",
       "    </tr>\n",
       "  </thead>\n",
       "  <tbody>\n",
       "    <tr>\n",
       "      <th>0</th>\n",
       "      <td>9142</td>\n",
       "      <td>6</td>\n",
       "      <td>8</td>\n",
       "      <td>1910</td>\n",
       "      <td>1950</td>\n",
       "      <td>908</td>\n",
       "      <td>1020</td>\n",
       "      <td>0</td>\n",
       "      <td>0</td>\n",
       "      <td>60</td>\n",
       "      <td>112</td>\n",
       "      <td>0</td>\n",
       "      <td>0</td>\n",
       "      <td>0</td>\n",
       "      <td>0</td>\n",
       "    </tr>\n",
       "    <tr>\n",
       "      <th>1</th>\n",
       "      <td>9662</td>\n",
       "      <td>5</td>\n",
       "      <td>4</td>\n",
       "      <td>1977</td>\n",
       "      <td>1977</td>\n",
       "      <td>1967</td>\n",
       "      <td>0</td>\n",
       "      <td>0</td>\n",
       "      <td>170</td>\n",
       "      <td>0</td>\n",
       "      <td>0</td>\n",
       "      <td>0</td>\n",
       "      <td>0</td>\n",
       "      <td>0</td>\n",
       "      <td>0</td>\n",
       "    </tr>\n",
       "    <tr>\n",
       "      <th>2</th>\n",
       "      <td>17104</td>\n",
       "      <td>7</td>\n",
       "      <td>5</td>\n",
       "      <td>2006</td>\n",
       "      <td>2006</td>\n",
       "      <td>664</td>\n",
       "      <td>832</td>\n",
       "      <td>1</td>\n",
       "      <td>100</td>\n",
       "      <td>24</td>\n",
       "      <td>0</td>\n",
       "      <td>0</td>\n",
       "      <td>0</td>\n",
       "      <td>0</td>\n",
       "      <td>0</td>\n",
       "    </tr>\n",
       "    <tr>\n",
       "      <th>3</th>\n",
       "      <td>8520</td>\n",
       "      <td>5</td>\n",
       "      <td>6</td>\n",
       "      <td>1923</td>\n",
       "      <td>2006</td>\n",
       "      <td>968</td>\n",
       "      <td>0</td>\n",
       "      <td>0</td>\n",
       "      <td>0</td>\n",
       "      <td>0</td>\n",
       "      <td>184</td>\n",
       "      <td>0</td>\n",
       "      <td>0</td>\n",
       "      <td>0</td>\n",
       "      <td>0</td>\n",
       "    </tr>\n",
       "    <tr>\n",
       "      <th>4</th>\n",
       "      <td>9500</td>\n",
       "      <td>6</td>\n",
       "      <td>5</td>\n",
       "      <td>1963</td>\n",
       "      <td>1963</td>\n",
       "      <td>1394</td>\n",
       "      <td>0</td>\n",
       "      <td>2</td>\n",
       "      <td>0</td>\n",
       "      <td>76</td>\n",
       "      <td>0</td>\n",
       "      <td>0</td>\n",
       "      <td>185</td>\n",
       "      <td>0</td>\n",
       "      <td>0</td>\n",
       "    </tr>\n",
       "  </tbody>\n",
       "</table>\n",
       "</div>"
      ],
      "text/plain": [
       "   Lot Area  Overall Qual  Overall Cond  Year Built  Year Remod/Add  \\\n",
       "0      9142             6             8        1910            1950   \n",
       "1      9662             5             4        1977            1977   \n",
       "2     17104             7             5        2006            2006   \n",
       "3      8520             5             6        1923            2006   \n",
       "4      9500             6             5        1963            1963   \n",
       "\n",
       "   1st Flr SF  2nd Flr SF  Fireplaces  Wood Deck SF  Open Porch SF  \\\n",
       "0         908        1020           0             0             60   \n",
       "1        1967           0           0           170              0   \n",
       "2         664         832           1           100             24   \n",
       "3         968           0           0             0              0   \n",
       "4        1394           0           2             0             76   \n",
       "\n",
       "   Enclosed Porch  3Ssn Porch  Screen Porch  Pool Area  Misc Val  \n",
       "0             112           0             0          0         0  \n",
       "1               0           0             0          0         0  \n",
       "2               0           0             0          0         0  \n",
       "3             184           0             0          0         0  \n",
       "4               0           0           185          0         0  "
      ]
     },
     "execution_count": 48,
     "metadata": {},
     "output_type": "execute_result"
    }
   ],
   "source": [
    "X_to_pred = kaggle[features]\n",
    "X_to_pred.head()"
   ]
  },
  {
   "cell_type": "code",
   "execution_count": 49,
   "id": "c28851df-8de2-4a72-850c-8683372f6eab",
   "metadata": {},
   "outputs": [],
   "source": [
    "kaggle_preds = lr.predict(X_to_pred)"
   ]
  },
  {
   "cell_type": "code",
   "execution_count": 51,
   "id": "02a49107-c77a-4f5a-aed4-ed6857dee192",
   "metadata": {},
   "outputs": [
    {
     "data": {
      "text/html": [
       "<div>\n",
       "<style scoped>\n",
       "    .dataframe tbody tr th:only-of-type {\n",
       "        vertical-align: middle;\n",
       "    }\n",
       "\n",
       "    .dataframe tbody tr th {\n",
       "        vertical-align: top;\n",
       "    }\n",
       "\n",
       "    .dataframe thead th {\n",
       "        text-align: right;\n",
       "    }\n",
       "</style>\n",
       "<table border=\"1\" class=\"dataframe\">\n",
       "  <thead>\n",
       "    <tr style=\"text-align: right;\">\n",
       "      <th></th>\n",
       "      <th>Id</th>\n",
       "      <th>SalePrice</th>\n",
       "    </tr>\n",
       "  </thead>\n",
       "  <tbody>\n",
       "    <tr>\n",
       "      <th>0</th>\n",
       "      <td>2658</td>\n",
       "      <td>157497.463267</td>\n",
       "    </tr>\n",
       "    <tr>\n",
       "      <th>1</th>\n",
       "      <td>2718</td>\n",
       "      <td>199232.286392</td>\n",
       "    </tr>\n",
       "    <tr>\n",
       "      <th>2</th>\n",
       "      <td>2414</td>\n",
       "      <td>211507.277632</td>\n",
       "    </tr>\n",
       "    <tr>\n",
       "      <th>3</th>\n",
       "      <td>1989</td>\n",
       "      <td>106525.637038</td>\n",
       "    </tr>\n",
       "    <tr>\n",
       "      <th>4</th>\n",
       "      <td>625</td>\n",
       "      <td>189379.482082</td>\n",
       "    </tr>\n",
       "  </tbody>\n",
       "</table>\n",
       "</div>"
      ],
      "text/plain": [
       "     Id      SalePrice\n",
       "0  2658  157497.463267\n",
       "1  2718  199232.286392\n",
       "2  2414  211507.277632\n",
       "3  1989  106525.637038\n",
       "4   625  189379.482082"
      ]
     },
     "execution_count": 51,
     "metadata": {},
     "output_type": "execute_result"
    }
   ],
   "source": [
    "kaggle['SalePrice'] = kaggle_preds\n",
    "output = kaggle[['Id', 'SalePrice']]\n",
    "output.head()"
   ]
  },
  {
   "cell_type": "code",
   "execution_count": 52,
   "id": "0b7cfaa1-4ca1-42ba-89c0-4b8aed60d590",
   "metadata": {},
   "outputs": [],
   "source": [
    "output.to_csv('./datasets/sub_first_try.csv', index=False)"
   ]
  },
  {
   "cell_type": "code",
   "execution_count": null,
   "id": "f50645b8-cb36-4d7c-b40d-46923aba02fa",
   "metadata": {},
   "outputs": [],
   "source": []
  },
  {
   "cell_type": "code",
   "execution_count": null,
   "id": "980edcb3-caf2-4e79-8f32-0fbe0891aa17",
   "metadata": {},
   "outputs": [],
   "source": []
  },
  {
   "cell_type": "code",
   "execution_count": null,
   "id": "b438667c-9c3f-4e0f-8dca-334123ed3a35",
   "metadata": {},
   "outputs": [],
   "source": []
  },
  {
   "cell_type": "code",
   "execution_count": null,
   "id": "8389dd77-8e11-4227-a6b0-1d921b9ff3da",
   "metadata": {},
   "outputs": [],
   "source": []
  },
  {
   "cell_type": "code",
   "execution_count": null,
   "id": "2b0ea52f-4554-423a-89ec-985b7c7951dd",
   "metadata": {},
   "outputs": [],
   "source": []
  },
  {
   "cell_type": "code",
   "execution_count": 68,
   "id": "87d12025-d525-4b26-aaa9-6a02e416c39a",
   "metadata": {},
   "outputs": [
    {
     "data": {
      "text/plain": [
       "{'crossval': array([0.80511485, 0.84598097, 0.83563872, 0.83034346]),\n",
       " 'r2_train': 0.8423946437710884,\n",
       " 'r2_test': 0.7849207582618265,\n",
       " 'rmse_train': 31415.17720261409,\n",
       " 'rmse_test': 37165.113652123786}"
      ]
     },
     "execution_count": 68,
     "metadata": {},
     "output_type": "execute_result"
    }
   ],
   "source": [
    "regression(df, features, 'SalePrice', folds=4, random_state=42, test_size=.2,\n",
    "          outputs = ['crossval', 'r2_train', 'r2_test', 'rmse_train', 'rmse_test'])"
   ]
  },
  {
   "cell_type": "code",
   "execution_count": null,
   "id": "08e2c83a-8d3f-4d7f-b539-b74ca35b5c46",
   "metadata": {},
   "outputs": [],
   "source": []
  }
 ],
 "metadata": {
  "kernelspec": {
   "display_name": "Python 3 (ipykernel)",
   "language": "python",
   "name": "python3"
  },
  "language_info": {
   "codemirror_mode": {
    "name": "ipython",
    "version": 3
   },
   "file_extension": ".py",
   "mimetype": "text/x-python",
   "name": "python",
   "nbconvert_exporter": "python",
   "pygments_lexer": "ipython3",
   "version": "3.9.13"
  }
 },
 "nbformat": 4,
 "nbformat_minor": 5
}
